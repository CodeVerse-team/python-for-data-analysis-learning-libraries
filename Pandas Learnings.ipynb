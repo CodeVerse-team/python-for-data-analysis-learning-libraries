{
  "cells": [
    {
      "cell_type": "markdown",
      "metadata": {
        "id": "view-in-github",
        "colab_type": "text"
      },
      "source": [
        "<a href=\"https://colab.research.google.com/github/CodeVerse-team/python-for-data-analysis-learning-libraries/blob/main/Pandas%20Learnings.ipynb\" target=\"_parent\"><img src=\"https://colab.research.google.com/assets/colab-badge.svg\" alt=\"Open In Colab\"/></a>"
      ]
    },
    {
      "cell_type": "markdown",
      "source": [
        "# Pandas Learnings"
      ],
      "metadata": {
        "id": "iq0NcCIo3pLJ"
      }
    },
    {
      "cell_type": "code",
      "source": [
        "import pandas as pd\n",
        "import numpy as np"
      ],
      "metadata": {
        "id": "Z5cvZvAP3lQP"
      },
      "execution_count": 2,
      "outputs": []
    },
    {
      "cell_type": "markdown",
      "source": [
        "## Pandas Series\n",
        "we'll start analyzing \"The Group of Seven\". Which is a political formed by Canada, France, Germany, Italy, Japan, The United States. We'll start by analyzing population, for that, we'll use a `pandas.series` Object\n",
        "\n"
      ],
      "metadata": {
        "id": "LQLneKfY4fQ3"
      }
    },
    {
      "cell_type": "code",
      "source": [
        "# In millions\n",
        "g7_pop = pd.Series([35.467, 63.951, 80.940, 60.665, 127.061, 64.511, 318.523])"
      ],
      "metadata": {
        "id": "VdjXvdZW4K4-"
      },
      "execution_count": 3,
      "outputs": []
    },
    {
      "cell_type": "code",
      "source": [
        "g7_pop"
      ],
      "metadata": {
        "colab": {
          "base_uri": "https://localhost:8080/",
          "height": 304
        },
        "id": "QP7tr77m4I7e",
        "outputId": "4ad9a136-c8b5-4bcf-b5e1-7821a686465d"
      },
      "execution_count": 4,
      "outputs": [
        {
          "output_type": "execute_result",
          "data": {
            "text/plain": [
              "0     35.467\n",
              "1     63.951\n",
              "2     80.940\n",
              "3     60.665\n",
              "4    127.061\n",
              "5     64.511\n",
              "6    318.523\n",
              "dtype: float64"
            ],
            "text/html": [
              "<div>\n",
              "<style scoped>\n",
              "    .dataframe tbody tr th:only-of-type {\n",
              "        vertical-align: middle;\n",
              "    }\n",
              "\n",
              "    .dataframe tbody tr th {\n",
              "        vertical-align: top;\n",
              "    }\n",
              "\n",
              "    .dataframe thead th {\n",
              "        text-align: right;\n",
              "    }\n",
              "</style>\n",
              "<table border=\"1\" class=\"dataframe\">\n",
              "  <thead>\n",
              "    <tr style=\"text-align: right;\">\n",
              "      <th></th>\n",
              "      <th>0</th>\n",
              "    </tr>\n",
              "  </thead>\n",
              "  <tbody>\n",
              "    <tr>\n",
              "      <th>0</th>\n",
              "      <td>35.467</td>\n",
              "    </tr>\n",
              "    <tr>\n",
              "      <th>1</th>\n",
              "      <td>63.951</td>\n",
              "    </tr>\n",
              "    <tr>\n",
              "      <th>2</th>\n",
              "      <td>80.940</td>\n",
              "    </tr>\n",
              "    <tr>\n",
              "      <th>3</th>\n",
              "      <td>60.665</td>\n",
              "    </tr>\n",
              "    <tr>\n",
              "      <th>4</th>\n",
              "      <td>127.061</td>\n",
              "    </tr>\n",
              "    <tr>\n",
              "      <th>5</th>\n",
              "      <td>64.511</td>\n",
              "    </tr>\n",
              "    <tr>\n",
              "      <th>6</th>\n",
              "      <td>318.523</td>\n",
              "    </tr>\n",
              "  </tbody>\n",
              "</table>\n",
              "</div><br><label><b>dtype:</b> float64</label>"
            ]
          },
          "metadata": {},
          "execution_count": 4
        }
      ]
    },
    {
      "cell_type": "markdown",
      "source": [
        "Someone might not know we're representing population in millions of inhabitants. Series can have a `name`, to better document the purpose of the Series."
      ],
      "metadata": {
        "id": "OHEpyvDv5r3f"
      }
    },
    {
      "cell_type": "code",
      "source": [
        "g7_pop.name = 'G7 Population in Millions'"
      ],
      "metadata": {
        "id": "VlShVYq75hIu"
      },
      "execution_count": 5,
      "outputs": []
    },
    {
      "cell_type": "code",
      "source": [
        "g7_pop"
      ],
      "metadata": {
        "colab": {
          "base_uri": "https://localhost:8080/",
          "height": 304
        },
        "id": "_Co3AgTG6Cj_",
        "outputId": "e2f13545-de8d-4499-f2a3-699a0ecc7244"
      },
      "execution_count": 6,
      "outputs": [
        {
          "output_type": "execute_result",
          "data": {
            "text/plain": [
              "0     35.467\n",
              "1     63.951\n",
              "2     80.940\n",
              "3     60.665\n",
              "4    127.061\n",
              "5     64.511\n",
              "6    318.523\n",
              "Name: G7 Population in Millions, dtype: float64"
            ],
            "text/html": [
              "<div>\n",
              "<style scoped>\n",
              "    .dataframe tbody tr th:only-of-type {\n",
              "        vertical-align: middle;\n",
              "    }\n",
              "\n",
              "    .dataframe tbody tr th {\n",
              "        vertical-align: top;\n",
              "    }\n",
              "\n",
              "    .dataframe thead th {\n",
              "        text-align: right;\n",
              "    }\n",
              "</style>\n",
              "<table border=\"1\" class=\"dataframe\">\n",
              "  <thead>\n",
              "    <tr style=\"text-align: right;\">\n",
              "      <th></th>\n",
              "      <th>G7 Population in Millions</th>\n",
              "    </tr>\n",
              "  </thead>\n",
              "  <tbody>\n",
              "    <tr>\n",
              "      <th>0</th>\n",
              "      <td>35.467</td>\n",
              "    </tr>\n",
              "    <tr>\n",
              "      <th>1</th>\n",
              "      <td>63.951</td>\n",
              "    </tr>\n",
              "    <tr>\n",
              "      <th>2</th>\n",
              "      <td>80.940</td>\n",
              "    </tr>\n",
              "    <tr>\n",
              "      <th>3</th>\n",
              "      <td>60.665</td>\n",
              "    </tr>\n",
              "    <tr>\n",
              "      <th>4</th>\n",
              "      <td>127.061</td>\n",
              "    </tr>\n",
              "    <tr>\n",
              "      <th>5</th>\n",
              "      <td>64.511</td>\n",
              "    </tr>\n",
              "    <tr>\n",
              "      <th>6</th>\n",
              "      <td>318.523</td>\n",
              "    </tr>\n",
              "  </tbody>\n",
              "</table>\n",
              "</div><br><label><b>dtype:</b> float64</label>"
            ]
          },
          "metadata": {},
          "execution_count": 6
        }
      ]
    },
    {
      "cell_type": "code",
      "source": [
        "g7_pop.values"
      ],
      "metadata": {
        "colab": {
          "base_uri": "https://localhost:8080/"
        },
        "id": "tSlvX5MN6IsW",
        "outputId": "7b1e218c-8244-4beb-a40c-b35ca74bdfd7"
      },
      "execution_count": 7,
      "outputs": [
        {
          "output_type": "execute_result",
          "data": {
            "text/plain": [
              "array([ 35.467,  63.951,  80.94 ,  60.665, 127.061,  64.511, 318.523])"
            ]
          },
          "metadata": {},
          "execution_count": 7
        }
      ]
    },
    {
      "cell_type": "markdown",
      "source": [
        "They're actually backed by numpy arrays:"
      ],
      "metadata": {
        "id": "CxRJLI4r7DEX"
      }
    },
    {
      "cell_type": "code",
      "source": [
        "type(g7_pop.values)"
      ],
      "metadata": {
        "id": "mYPUFNbd6sHX",
        "outputId": "610f6b57-90d0-4a6c-a36f-aaa2c1f52348",
        "colab": {
          "base_uri": "https://localhost:8080/"
        }
      },
      "execution_count": 8,
      "outputs": [
        {
          "output_type": "execute_result",
          "data": {
            "text/plain": [
              "numpy.ndarray"
            ]
          },
          "metadata": {},
          "execution_count": 8
        }
      ]
    },
    {
      "cell_type": "markdown",
      "source": [
        "and they look like simple python lists or Numpy arrays, but they're actually more similar to Python `Dictionaries`.\n",
        "\n",
        "A Series has an `index`, that's similar to the automatic index assigned to Python's Lists:"
      ],
      "metadata": {
        "id": "91c1SEM47XjW"
      }
    },
    {
      "cell_type": "code",
      "source": [
        "g7_pop"
      ],
      "metadata": {
        "id": "vUhFvfja7T62",
        "outputId": "812ff73a-fcad-4288-9169-b521da179e1f",
        "colab": {
          "base_uri": "https://localhost:8080/",
          "height": 304
        }
      },
      "execution_count": 9,
      "outputs": [
        {
          "output_type": "execute_result",
          "data": {
            "text/plain": [
              "0     35.467\n",
              "1     63.951\n",
              "2     80.940\n",
              "3     60.665\n",
              "4    127.061\n",
              "5     64.511\n",
              "6    318.523\n",
              "Name: G7 Population in Millions, dtype: float64"
            ],
            "text/html": [
              "<div>\n",
              "<style scoped>\n",
              "    .dataframe tbody tr th:only-of-type {\n",
              "        vertical-align: middle;\n",
              "    }\n",
              "\n",
              "    .dataframe tbody tr th {\n",
              "        vertical-align: top;\n",
              "    }\n",
              "\n",
              "    .dataframe thead th {\n",
              "        text-align: right;\n",
              "    }\n",
              "</style>\n",
              "<table border=\"1\" class=\"dataframe\">\n",
              "  <thead>\n",
              "    <tr style=\"text-align: right;\">\n",
              "      <th></th>\n",
              "      <th>G7 Population in Millions</th>\n",
              "    </tr>\n",
              "  </thead>\n",
              "  <tbody>\n",
              "    <tr>\n",
              "      <th>0</th>\n",
              "      <td>35.467</td>\n",
              "    </tr>\n",
              "    <tr>\n",
              "      <th>1</th>\n",
              "      <td>63.951</td>\n",
              "    </tr>\n",
              "    <tr>\n",
              "      <th>2</th>\n",
              "      <td>80.940</td>\n",
              "    </tr>\n",
              "    <tr>\n",
              "      <th>3</th>\n",
              "      <td>60.665</td>\n",
              "    </tr>\n",
              "    <tr>\n",
              "      <th>4</th>\n",
              "      <td>127.061</td>\n",
              "    </tr>\n",
              "    <tr>\n",
              "      <th>5</th>\n",
              "      <td>64.511</td>\n",
              "    </tr>\n",
              "    <tr>\n",
              "      <th>6</th>\n",
              "      <td>318.523</td>\n",
              "    </tr>\n",
              "  </tbody>\n",
              "</table>\n",
              "</div><br><label><b>dtype:</b> float64</label>"
            ]
          },
          "metadata": {},
          "execution_count": 9
        }
      ]
    },
    {
      "cell_type": "code",
      "source": [
        "g7_pop[0], g7_pop[1], g7_pop[3] #In Pandas Series too we can select the paticular element by their index no."
      ],
      "metadata": {
        "id": "gq3jwIaK75N3",
        "outputId": "5dd5535d-138d-4f85-f8a4-003268c4f5bc",
        "colab": {
          "base_uri": "https://localhost:8080/"
        }
      },
      "execution_count": 10,
      "outputs": [
        {
          "output_type": "execute_result",
          "data": {
            "text/plain": [
              "(np.float64(35.467), np.float64(63.951), np.float64(60.665))"
            ]
          },
          "metadata": {},
          "execution_count": 10
        }
      ]
    },
    {
      "cell_type": "code",
      "source": [
        "g7_pop.index #using index function we can visit the numberings from the start to end in a Pandas Series."
      ],
      "metadata": {
        "id": "ER-q7wZy78ze",
        "outputId": "1c64da57-21b6-41ee-e0c3-e5e2e623e138",
        "colab": {
          "base_uri": "https://localhost:8080/"
        }
      },
      "execution_count": 11,
      "outputs": [
        {
          "output_type": "execute_result",
          "data": {
            "text/plain": [
              "RangeIndex(start=0, stop=7, step=1)"
            ]
          },
          "metadata": {},
          "execution_count": 11
        }
      ]
    },
    {
      "cell_type": "markdown",
      "source": [
        "Also Using Index function we can assign particular indexes to the series in the variable of g7_pop"
      ],
      "metadata": {
        "id": "36yXwsfnBLkX"
      }
    },
    {
      "cell_type": "code",
      "source": [
        "g7_pop.index = [\n",
        "    'Canada',\n",
        "    'France',\n",
        "    'Germany',\n",
        "    'Italy',\n",
        "    'Japan',\n",
        "    'United Kingdom',\n",
        "    'United States',\n",
        "]"
      ],
      "metadata": {
        "id": "ApYhFTy97-wG"
      },
      "execution_count": 12,
      "outputs": []
    },
    {
      "cell_type": "code",
      "source": [
        "g7_pop"
      ],
      "metadata": {
        "id": "yvyxDU8eBjIn",
        "outputId": "49002315-7849-4e54-dea3-b6a8eea2d767",
        "colab": {
          "base_uri": "https://localhost:8080/",
          "height": 304
        }
      },
      "execution_count": 13,
      "outputs": [
        {
          "output_type": "execute_result",
          "data": {
            "text/plain": [
              "Canada             35.467\n",
              "France             63.951\n",
              "Germany            80.940\n",
              "Italy              60.665\n",
              "Japan             127.061\n",
              "United Kingdom     64.511\n",
              "United States     318.523\n",
              "Name: G7 Population in Millions, dtype: float64"
            ],
            "text/html": [
              "<div>\n",
              "<style scoped>\n",
              "    .dataframe tbody tr th:only-of-type {\n",
              "        vertical-align: middle;\n",
              "    }\n",
              "\n",
              "    .dataframe tbody tr th {\n",
              "        vertical-align: top;\n",
              "    }\n",
              "\n",
              "    .dataframe thead th {\n",
              "        text-align: right;\n",
              "    }\n",
              "</style>\n",
              "<table border=\"1\" class=\"dataframe\">\n",
              "  <thead>\n",
              "    <tr style=\"text-align: right;\">\n",
              "      <th></th>\n",
              "      <th>G7 Population in Millions</th>\n",
              "    </tr>\n",
              "  </thead>\n",
              "  <tbody>\n",
              "    <tr>\n",
              "      <th>Canada</th>\n",
              "      <td>35.467</td>\n",
              "    </tr>\n",
              "    <tr>\n",
              "      <th>France</th>\n",
              "      <td>63.951</td>\n",
              "    </tr>\n",
              "    <tr>\n",
              "      <th>Germany</th>\n",
              "      <td>80.940</td>\n",
              "    </tr>\n",
              "    <tr>\n",
              "      <th>Italy</th>\n",
              "      <td>60.665</td>\n",
              "    </tr>\n",
              "    <tr>\n",
              "      <th>Japan</th>\n",
              "      <td>127.061</td>\n",
              "    </tr>\n",
              "    <tr>\n",
              "      <th>United Kingdom</th>\n",
              "      <td>64.511</td>\n",
              "    </tr>\n",
              "    <tr>\n",
              "      <th>United States</th>\n",
              "      <td>318.523</td>\n",
              "    </tr>\n",
              "  </tbody>\n",
              "</table>\n",
              "</div><br><label><b>dtype:</b> float64</label>"
            ]
          },
          "metadata": {},
          "execution_count": 13
        }
      ]
    },
    {
      "cell_type": "markdown",
      "source": [
        "Comparing it with the following table:\n",
        "\n",
        "\n",
        "\n",
        "---\n",
        "\n",
        "\n",
        "\n",
        "![image.png](data:image/png;base64,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)\n",
        "\n",
        "We Can say that Series look like \"ordered Dictionaries\". We can actually create Series out of dictionaries."
      ],
      "metadata": {
        "id": "0myg88cbBwnf"
      }
    },
    {
      "cell_type": "code",
      "source": [
        "pd.Series({\n",
        "    'Canada': 35.467,\n",
        "    'France': 63.951,\n",
        "    'Germany': 80.94,\n",
        "    'Italy': 60.665,\n",
        "    'Japan': 127.061,\n",
        "    'United Kingdom': 64.511,\n",
        "    'United States': 318.523\n",
        "}, name='G7 Population in millions')"
      ],
      "metadata": {
        "id": "RCiY-frKBkPX",
        "outputId": "13cb7f8b-62c5-4a1e-a059-3e7b40e5600c",
        "colab": {
          "base_uri": "https://localhost:8080/",
          "height": 304
        }
      },
      "execution_count": 14,
      "outputs": [
        {
          "output_type": "execute_result",
          "data": {
            "text/plain": [
              "Canada             35.467\n",
              "France             63.951\n",
              "Germany            80.940\n",
              "Italy              60.665\n",
              "Japan             127.061\n",
              "United Kingdom     64.511\n",
              "United States     318.523\n",
              "Name: G7 Population in millions, dtype: float64"
            ],
            "text/html": [
              "<div>\n",
              "<style scoped>\n",
              "    .dataframe tbody tr th:only-of-type {\n",
              "        vertical-align: middle;\n",
              "    }\n",
              "\n",
              "    .dataframe tbody tr th {\n",
              "        vertical-align: top;\n",
              "    }\n",
              "\n",
              "    .dataframe thead th {\n",
              "        text-align: right;\n",
              "    }\n",
              "</style>\n",
              "<table border=\"1\" class=\"dataframe\">\n",
              "  <thead>\n",
              "    <tr style=\"text-align: right;\">\n",
              "      <th></th>\n",
              "      <th>G7 Population in millions</th>\n",
              "    </tr>\n",
              "  </thead>\n",
              "  <tbody>\n",
              "    <tr>\n",
              "      <th>Canada</th>\n",
              "      <td>35.467</td>\n",
              "    </tr>\n",
              "    <tr>\n",
              "      <th>France</th>\n",
              "      <td>63.951</td>\n",
              "    </tr>\n",
              "    <tr>\n",
              "      <th>Germany</th>\n",
              "      <td>80.940</td>\n",
              "    </tr>\n",
              "    <tr>\n",
              "      <th>Italy</th>\n",
              "      <td>60.665</td>\n",
              "    </tr>\n",
              "    <tr>\n",
              "      <th>Japan</th>\n",
              "      <td>127.061</td>\n",
              "    </tr>\n",
              "    <tr>\n",
              "      <th>United Kingdom</th>\n",
              "      <td>64.511</td>\n",
              "    </tr>\n",
              "    <tr>\n",
              "      <th>United States</th>\n",
              "      <td>318.523</td>\n",
              "    </tr>\n",
              "  </tbody>\n",
              "</table>\n",
              "</div><br><label><b>dtype:</b> float64</label>"
            ]
          },
          "metadata": {},
          "execution_count": 14
        }
      ]
    },
    {
      "cell_type": "code",
      "source": [
        "pd.Series(\n",
        "    [35.467, 63.951, 80.94, 60.665, 127.061, 64.511, 318.523],\n",
        "    index=['Canada', 'France', 'Germany', 'Italy', 'Japan', 'United Kingdom',\n",
        "       'United States'],\n",
        "    name='G7 Population in millions')"
      ],
      "metadata": {
        "id": "NfHcw7wlCuPP",
        "outputId": "a977a77f-0872-4c00-c5fe-8fb0f2871764",
        "colab": {
          "base_uri": "https://localhost:8080/",
          "height": 304
        }
      },
      "execution_count": 15,
      "outputs": [
        {
          "output_type": "execute_result",
          "data": {
            "text/plain": [
              "Canada             35.467\n",
              "France             63.951\n",
              "Germany            80.940\n",
              "Italy              60.665\n",
              "Japan             127.061\n",
              "United Kingdom     64.511\n",
              "United States     318.523\n",
              "Name: G7 Population in millions, dtype: float64"
            ],
            "text/html": [
              "<div>\n",
              "<style scoped>\n",
              "    .dataframe tbody tr th:only-of-type {\n",
              "        vertical-align: middle;\n",
              "    }\n",
              "\n",
              "    .dataframe tbody tr th {\n",
              "        vertical-align: top;\n",
              "    }\n",
              "\n",
              "    .dataframe thead th {\n",
              "        text-align: right;\n",
              "    }\n",
              "</style>\n",
              "<table border=\"1\" class=\"dataframe\">\n",
              "  <thead>\n",
              "    <tr style=\"text-align: right;\">\n",
              "      <th></th>\n",
              "      <th>G7 Population in millions</th>\n",
              "    </tr>\n",
              "  </thead>\n",
              "  <tbody>\n",
              "    <tr>\n",
              "      <th>Canada</th>\n",
              "      <td>35.467</td>\n",
              "    </tr>\n",
              "    <tr>\n",
              "      <th>France</th>\n",
              "      <td>63.951</td>\n",
              "    </tr>\n",
              "    <tr>\n",
              "      <th>Germany</th>\n",
              "      <td>80.940</td>\n",
              "    </tr>\n",
              "    <tr>\n",
              "      <th>Italy</th>\n",
              "      <td>60.665</td>\n",
              "    </tr>\n",
              "    <tr>\n",
              "      <th>Japan</th>\n",
              "      <td>127.061</td>\n",
              "    </tr>\n",
              "    <tr>\n",
              "      <th>United Kingdom</th>\n",
              "      <td>64.511</td>\n",
              "    </tr>\n",
              "    <tr>\n",
              "      <th>United States</th>\n",
              "      <td>318.523</td>\n",
              "    </tr>\n",
              "  </tbody>\n",
              "</table>\n",
              "</div><br><label><b>dtype:</b> float64</label>"
            ]
          },
          "metadata": {},
          "execution_count": 15
        }
      ]
    },
    {
      "cell_type": "markdown",
      "source": [
        "You can also create Series out of other series, specifying indexes:"
      ],
      "metadata": {
        "id": "uTF6WD6zC30X"
      }
    },
    {
      "cell_type": "code",
      "source": [
        "pd.Series(g7_pop, index=['France', 'Germany', 'Italy', 'Spain'])"
      ],
      "metadata": {
        "id": "v8ckrj0GC0GW",
        "outputId": "7d9b5bab-5c7a-4d2b-915d-ff75ba5fb106",
        "colab": {
          "base_uri": "https://localhost:8080/",
          "height": 210
        }
      },
      "execution_count": 16,
      "outputs": [
        {
          "output_type": "execute_result",
          "data": {
            "text/plain": [
              "France     63.951\n",
              "Germany    80.940\n",
              "Italy      60.665\n",
              "Spain         NaN\n",
              "Name: G7 Population in Millions, dtype: float64"
            ],
            "text/html": [
              "<div>\n",
              "<style scoped>\n",
              "    .dataframe tbody tr th:only-of-type {\n",
              "        vertical-align: middle;\n",
              "    }\n",
              "\n",
              "    .dataframe tbody tr th {\n",
              "        vertical-align: top;\n",
              "    }\n",
              "\n",
              "    .dataframe thead th {\n",
              "        text-align: right;\n",
              "    }\n",
              "</style>\n",
              "<table border=\"1\" class=\"dataframe\">\n",
              "  <thead>\n",
              "    <tr style=\"text-align: right;\">\n",
              "      <th></th>\n",
              "      <th>G7 Population in Millions</th>\n",
              "    </tr>\n",
              "  </thead>\n",
              "  <tbody>\n",
              "    <tr>\n",
              "      <th>France</th>\n",
              "      <td>63.951</td>\n",
              "    </tr>\n",
              "    <tr>\n",
              "      <th>Germany</th>\n",
              "      <td>80.940</td>\n",
              "    </tr>\n",
              "    <tr>\n",
              "      <th>Italy</th>\n",
              "      <td>60.665</td>\n",
              "    </tr>\n",
              "    <tr>\n",
              "      <th>Spain</th>\n",
              "      <td>NaN</td>\n",
              "    </tr>\n",
              "  </tbody>\n",
              "</table>\n",
              "</div><br><label><b>dtype:</b> float64</label>"
            ]
          },
          "metadata": {},
          "execution_count": 16
        }
      ]
    },
    {
      "cell_type": "markdown",
      "source": [
        "# Index\n",
        "\n",
        "Indexing works similarly to lists and dictionaries, you use the Index of the element you're looking for:"
      ],
      "metadata": {
        "id": "J_LkSqPFDuSx"
      }
    },
    {
      "cell_type": "code",
      "source": [
        "g7_pop"
      ],
      "metadata": {
        "id": "xnod4pnCD-ge",
        "outputId": "c102e64b-f699-453a-9e80-953a898f32bc",
        "colab": {
          "base_uri": "https://localhost:8080/",
          "height": 304
        }
      },
      "execution_count": 17,
      "outputs": [
        {
          "output_type": "execute_result",
          "data": {
            "text/plain": [
              "Canada             35.467\n",
              "France             63.951\n",
              "Germany            80.940\n",
              "Italy              60.665\n",
              "Japan             127.061\n",
              "United Kingdom     64.511\n",
              "United States     318.523\n",
              "Name: G7 Population in Millions, dtype: float64"
            ],
            "text/html": [
              "<div>\n",
              "<style scoped>\n",
              "    .dataframe tbody tr th:only-of-type {\n",
              "        vertical-align: middle;\n",
              "    }\n",
              "\n",
              "    .dataframe tbody tr th {\n",
              "        vertical-align: top;\n",
              "    }\n",
              "\n",
              "    .dataframe thead th {\n",
              "        text-align: right;\n",
              "    }\n",
              "</style>\n",
              "<table border=\"1\" class=\"dataframe\">\n",
              "  <thead>\n",
              "    <tr style=\"text-align: right;\">\n",
              "      <th></th>\n",
              "      <th>G7 Population in Millions</th>\n",
              "    </tr>\n",
              "  </thead>\n",
              "  <tbody>\n",
              "    <tr>\n",
              "      <th>Canada</th>\n",
              "      <td>35.467</td>\n",
              "    </tr>\n",
              "    <tr>\n",
              "      <th>France</th>\n",
              "      <td>63.951</td>\n",
              "    </tr>\n",
              "    <tr>\n",
              "      <th>Germany</th>\n",
              "      <td>80.940</td>\n",
              "    </tr>\n",
              "    <tr>\n",
              "      <th>Italy</th>\n",
              "      <td>60.665</td>\n",
              "    </tr>\n",
              "    <tr>\n",
              "      <th>Japan</th>\n",
              "      <td>127.061</td>\n",
              "    </tr>\n",
              "    <tr>\n",
              "      <th>United Kingdom</th>\n",
              "      <td>64.511</td>\n",
              "    </tr>\n",
              "    <tr>\n",
              "      <th>United States</th>\n",
              "      <td>318.523</td>\n",
              "    </tr>\n",
              "  </tbody>\n",
              "</table>\n",
              "</div><br><label><b>dtype:</b> float64</label>"
            ]
          },
          "metadata": {},
          "execution_count": 17
        }
      ]
    },
    {
      "cell_type": "code",
      "source": [
        "g7_pop['Canada'], g7_pop['Japan']"
      ],
      "metadata": {
        "id": "DbzWM8hND_DH",
        "outputId": "7e30ce5d-4530-464b-9d75-28dc2216fc59",
        "colab": {
          "base_uri": "https://localhost:8080/"
        }
      },
      "execution_count": 18,
      "outputs": [
        {
          "output_type": "execute_result",
          "data": {
            "text/plain": [
              "(np.float64(35.467), np.float64(127.061))"
            ]
          },
          "metadata": {},
          "execution_count": 18
        }
      ]
    },
    {
      "cell_type": "markdown",
      "source": [
        "Numeric Positions can also be used, with the `iloc` attribute: {iloc} ➡ Interger Location"
      ],
      "metadata": {
        "id": "ptA3VwWIFOSB"
      }
    },
    {
      "cell_type": "code",
      "source": [
        "g7_pop.iloc[0], g7_pop.iloc[-1]"
      ],
      "metadata": {
        "id": "wVKny5vkEBZf",
        "outputId": "32139b57-7e25-4178-9f85-6a3e1ce98ce4",
        "colab": {
          "base_uri": "https://localhost:8080/"
        }
      },
      "execution_count": 19,
      "outputs": [
        {
          "output_type": "execute_result",
          "data": {
            "text/plain": [
              "(np.float64(35.467), np.float64(318.523))"
            ]
          },
          "metadata": {},
          "execution_count": 19
        }
      ]
    },
    {
      "cell_type": "markdown",
      "source": [
        "Selecting multiple elements at once"
      ],
      "metadata": {
        "id": "euNKhDAXFdpY"
      }
    },
    {
      "cell_type": "code",
      "source": [
        "g7_pop[['Canada', 'France']]"
      ],
      "metadata": {
        "id": "wB45v1urFbRn",
        "outputId": "6dcd04a5-7066-4b40-9546-d6faa0855579",
        "colab": {
          "base_uri": "https://localhost:8080/",
          "height": 148
        }
      },
      "execution_count": 20,
      "outputs": [
        {
          "output_type": "execute_result",
          "data": {
            "text/plain": [
              "Canada    35.467\n",
              "France    63.951\n",
              "Name: G7 Population in Millions, dtype: float64"
            ],
            "text/html": [
              "<div>\n",
              "<style scoped>\n",
              "    .dataframe tbody tr th:only-of-type {\n",
              "        vertical-align: middle;\n",
              "    }\n",
              "\n",
              "    .dataframe tbody tr th {\n",
              "        vertical-align: top;\n",
              "    }\n",
              "\n",
              "    .dataframe thead th {\n",
              "        text-align: right;\n",
              "    }\n",
              "</style>\n",
              "<table border=\"1\" class=\"dataframe\">\n",
              "  <thead>\n",
              "    <tr style=\"text-align: right;\">\n",
              "      <th></th>\n",
              "      <th>G7 Population in Millions</th>\n",
              "    </tr>\n",
              "  </thead>\n",
              "  <tbody>\n",
              "    <tr>\n",
              "      <th>Canada</th>\n",
              "      <td>35.467</td>\n",
              "    </tr>\n",
              "    <tr>\n",
              "      <th>France</th>\n",
              "      <td>63.951</td>\n",
              "    </tr>\n",
              "  </tbody>\n",
              "</table>\n",
              "</div><br><label><b>dtype:</b> float64</label>"
            ]
          },
          "metadata": {},
          "execution_count": 20
        }
      ]
    },
    {
      "cell_type": "code",
      "source": [
        "g7_pop.iloc[[2, 4]]"
      ],
      "metadata": {
        "id": "40ebdwm0FjdH",
        "outputId": "5bdd807b-eda2-4d85-e4c7-9b9a069e7f8b",
        "colab": {
          "base_uri": "https://localhost:8080/",
          "height": 148
        }
      },
      "execution_count": 21,
      "outputs": [
        {
          "output_type": "execute_result",
          "data": {
            "text/plain": [
              "Germany     80.940\n",
              "Japan      127.061\n",
              "Name: G7 Population in Millions, dtype: float64"
            ],
            "text/html": [
              "<div>\n",
              "<style scoped>\n",
              "    .dataframe tbody tr th:only-of-type {\n",
              "        vertical-align: middle;\n",
              "    }\n",
              "\n",
              "    .dataframe tbody tr th {\n",
              "        vertical-align: top;\n",
              "    }\n",
              "\n",
              "    .dataframe thead th {\n",
              "        text-align: right;\n",
              "    }\n",
              "</style>\n",
              "<table border=\"1\" class=\"dataframe\">\n",
              "  <thead>\n",
              "    <tr style=\"text-align: right;\">\n",
              "      <th></th>\n",
              "      <th>G7 Population in Millions</th>\n",
              "    </tr>\n",
              "  </thead>\n",
              "  <tbody>\n",
              "    <tr>\n",
              "      <th>Germany</th>\n",
              "      <td>80.940</td>\n",
              "    </tr>\n",
              "    <tr>\n",
              "      <th>Japan</th>\n",
              "      <td>127.061</td>\n",
              "    </tr>\n",
              "  </tbody>\n",
              "</table>\n",
              "</div><br><label><b>dtype:</b> float64</label>"
            ]
          },
          "metadata": {},
          "execution_count": 21
        }
      ]
    },
    {
      "cell_type": "markdown",
      "source": [
        "Slicing also works, but **important**, in Pandas, the upper limit also included:"
      ],
      "metadata": {
        "id": "Z-DztQ0CFt7X"
      }
    },
    {
      "cell_type": "code",
      "source": [
        "g7_pop['Canada': \"Italy\"]"
      ],
      "metadata": {
        "id": "eLZg7SRuFo2v",
        "outputId": "4c7704ff-5ae0-468e-8508-65781801d3f0",
        "colab": {
          "base_uri": "https://localhost:8080/",
          "height": 210
        }
      },
      "execution_count": 22,
      "outputs": [
        {
          "output_type": "execute_result",
          "data": {
            "text/plain": [
              "Canada     35.467\n",
              "France     63.951\n",
              "Germany    80.940\n",
              "Italy      60.665\n",
              "Name: G7 Population in Millions, dtype: float64"
            ],
            "text/html": [
              "<div>\n",
              "<style scoped>\n",
              "    .dataframe tbody tr th:only-of-type {\n",
              "        vertical-align: middle;\n",
              "    }\n",
              "\n",
              "    .dataframe tbody tr th {\n",
              "        vertical-align: top;\n",
              "    }\n",
              "\n",
              "    .dataframe thead th {\n",
              "        text-align: right;\n",
              "    }\n",
              "</style>\n",
              "<table border=\"1\" class=\"dataframe\">\n",
              "  <thead>\n",
              "    <tr style=\"text-align: right;\">\n",
              "      <th></th>\n",
              "      <th>G7 Population in Millions</th>\n",
              "    </tr>\n",
              "  </thead>\n",
              "  <tbody>\n",
              "    <tr>\n",
              "      <th>Canada</th>\n",
              "      <td>35.467</td>\n",
              "    </tr>\n",
              "    <tr>\n",
              "      <th>France</th>\n",
              "      <td>63.951</td>\n",
              "    </tr>\n",
              "    <tr>\n",
              "      <th>Germany</th>\n",
              "      <td>80.940</td>\n",
              "    </tr>\n",
              "    <tr>\n",
              "      <th>Italy</th>\n",
              "      <td>60.665</td>\n",
              "    </tr>\n",
              "  </tbody>\n",
              "</table>\n",
              "</div><br><label><b>dtype:</b> float64</label>"
            ]
          },
          "metadata": {},
          "execution_count": 22
        }
      ]
    },
    {
      "cell_type": "code",
      "source": [
        "l = ['a', 'b', 'c', 'd']\n",
        "l"
      ],
      "metadata": {
        "id": "ilkmWSjdF-5f",
        "outputId": "5b2c7e1c-8b8e-4d6e-aa6c-1c23319e70b5",
        "colab": {
          "base_uri": "https://localhost:8080/"
        }
      },
      "execution_count": 23,
      "outputs": [
        {
          "output_type": "execute_result",
          "data": {
            "text/plain": [
              "['a', 'b', 'c', 'd']"
            ]
          },
          "metadata": {},
          "execution_count": 23
        }
      ]
    },
    {
      "cell_type": "code",
      "source": [
        "l[:2]"
      ],
      "metadata": {
        "id": "RZowC5L1GFtH",
        "outputId": "420edd37-d547-48c4-8c0a-788ba890f306",
        "colab": {
          "base_uri": "https://localhost:8080/"
        }
      },
      "execution_count": 24,
      "outputs": [
        {
          "output_type": "execute_result",
          "data": {
            "text/plain": [
              "['a', 'b']"
            ]
          },
          "metadata": {},
          "execution_count": 24
        }
      ]
    },
    {
      "cell_type": "code",
      "source": [
        "g7_pop"
      ],
      "metadata": {
        "id": "O985Te3PGG2f",
        "outputId": "6b07e924-8af3-42ed-f2a1-a9f90c663fc9",
        "colab": {
          "base_uri": "https://localhost:8080/",
          "height": 304
        }
      },
      "execution_count": 25,
      "outputs": [
        {
          "output_type": "execute_result",
          "data": {
            "text/plain": [
              "Canada             35.467\n",
              "France             63.951\n",
              "Germany            80.940\n",
              "Italy              60.665\n",
              "Japan             127.061\n",
              "United Kingdom     64.511\n",
              "United States     318.523\n",
              "Name: G7 Population in Millions, dtype: float64"
            ],
            "text/html": [
              "<div>\n",
              "<style scoped>\n",
              "    .dataframe tbody tr th:only-of-type {\n",
              "        vertical-align: middle;\n",
              "    }\n",
              "\n",
              "    .dataframe tbody tr th {\n",
              "        vertical-align: top;\n",
              "    }\n",
              "\n",
              "    .dataframe thead th {\n",
              "        text-align: right;\n",
              "    }\n",
              "</style>\n",
              "<table border=\"1\" class=\"dataframe\">\n",
              "  <thead>\n",
              "    <tr style=\"text-align: right;\">\n",
              "      <th></th>\n",
              "      <th>G7 Population in Millions</th>\n",
              "    </tr>\n",
              "  </thead>\n",
              "  <tbody>\n",
              "    <tr>\n",
              "      <th>Canada</th>\n",
              "      <td>35.467</td>\n",
              "    </tr>\n",
              "    <tr>\n",
              "      <th>France</th>\n",
              "      <td>63.951</td>\n",
              "    </tr>\n",
              "    <tr>\n",
              "      <th>Germany</th>\n",
              "      <td>80.940</td>\n",
              "    </tr>\n",
              "    <tr>\n",
              "      <th>Italy</th>\n",
              "      <td>60.665</td>\n",
              "    </tr>\n",
              "    <tr>\n",
              "      <th>Japan</th>\n",
              "      <td>127.061</td>\n",
              "    </tr>\n",
              "    <tr>\n",
              "      <th>United Kingdom</th>\n",
              "      <td>64.511</td>\n",
              "    </tr>\n",
              "    <tr>\n",
              "      <th>United States</th>\n",
              "      <td>318.523</td>\n",
              "    </tr>\n",
              "  </tbody>\n",
              "</table>\n",
              "</div><br><label><b>dtype:</b> float64</label>"
            ]
          },
          "metadata": {},
          "execution_count": 25
        }
      ]
    },
    {
      "cell_type": "markdown",
      "source": [
        "#Conditional Selection (Boolean arrays)\n",
        "\n",
        "The Same boolean array technique was saw applied to numpy arrays can be used for Pandas `Series` :"
      ],
      "metadata": {
        "id": "TtfFWVrkNF5i"
      }
    },
    {
      "cell_type": "code",
      "source": [
        "g7_pop, g7_pop > 70"
      ],
      "metadata": {
        "colab": {
          "base_uri": "https://localhost:8080/"
        },
        "id": "WxRrU5FJM_tC",
        "outputId": "13a40938-8a07-490a-b073-6790d820e8a0"
      },
      "execution_count": 28,
      "outputs": [
        {
          "output_type": "execute_result",
          "data": {
            "text/plain": [
              "(Canada             35.467\n",
              " France             63.951\n",
              " Germany            80.940\n",
              " Italy              60.665\n",
              " Japan             127.061\n",
              " United Kingdom     64.511\n",
              " United States     318.523\n",
              " Name: G7 Population in Millions, dtype: float64,\n",
              " Canada            False\n",
              " France            False\n",
              " Germany            True\n",
              " Italy             False\n",
              " Japan              True\n",
              " United Kingdom    False\n",
              " United States      True\n",
              " Name: G7 Population in Millions, dtype: bool)"
            ]
          },
          "metadata": {},
          "execution_count": 28
        }
      ]
    },
    {
      "cell_type": "code",
      "source": [
        "g7_pop > 70"
      ],
      "metadata": {
        "colab": {
          "base_uri": "https://localhost:8080/",
          "height": 304
        },
        "id": "wYHeRBvBNYE6",
        "outputId": "bfb4d25a-c7b6-471d-adf7-9b746fc38792"
      },
      "execution_count": 27,
      "outputs": [
        {
          "output_type": "execute_result",
          "data": {
            "text/plain": [
              "Canada            False\n",
              "France            False\n",
              "Germany            True\n",
              "Italy             False\n",
              "Japan              True\n",
              "United Kingdom    False\n",
              "United States      True\n",
              "Name: G7 Population in Millions, dtype: bool"
            ],
            "text/html": [
              "<div>\n",
              "<style scoped>\n",
              "    .dataframe tbody tr th:only-of-type {\n",
              "        vertical-align: middle;\n",
              "    }\n",
              "\n",
              "    .dataframe tbody tr th {\n",
              "        vertical-align: top;\n",
              "    }\n",
              "\n",
              "    .dataframe thead th {\n",
              "        text-align: right;\n",
              "    }\n",
              "</style>\n",
              "<table border=\"1\" class=\"dataframe\">\n",
              "  <thead>\n",
              "    <tr style=\"text-align: right;\">\n",
              "      <th></th>\n",
              "      <th>G7 Population in Millions</th>\n",
              "    </tr>\n",
              "  </thead>\n",
              "  <tbody>\n",
              "    <tr>\n",
              "      <th>Canada</th>\n",
              "      <td>False</td>\n",
              "    </tr>\n",
              "    <tr>\n",
              "      <th>France</th>\n",
              "      <td>False</td>\n",
              "    </tr>\n",
              "    <tr>\n",
              "      <th>Germany</th>\n",
              "      <td>True</td>\n",
              "    </tr>\n",
              "    <tr>\n",
              "      <th>Italy</th>\n",
              "      <td>False</td>\n",
              "    </tr>\n",
              "    <tr>\n",
              "      <th>Japan</th>\n",
              "      <td>True</td>\n",
              "    </tr>\n",
              "    <tr>\n",
              "      <th>United Kingdom</th>\n",
              "      <td>False</td>\n",
              "    </tr>\n",
              "    <tr>\n",
              "      <th>United States</th>\n",
              "      <td>True</td>\n",
              "    </tr>\n",
              "  </tbody>\n",
              "</table>\n",
              "</div><br><label><b>dtype:</b> bool</label>"
            ]
          },
          "metadata": {},
          "execution_count": 27
        }
      ]
    },
    {
      "cell_type": "code",
      "source": [
        "g7_pop[g7_pop > 70] # This only shows the values that has a value above 70 in a seperate table."
      ],
      "metadata": {
        "colab": {
          "base_uri": "https://localhost:8080/",
          "height": 179
        },
        "id": "gJbUIX8-NjgB",
        "outputId": "9192c882-7ee7-4d5d-e9a0-e366490b4212"
      },
      "execution_count": 31,
      "outputs": [
        {
          "output_type": "execute_result",
          "data": {
            "text/plain": [
              "Germany           80.940\n",
              "Japan            127.061\n",
              "United States    318.523\n",
              "Name: G7 Population in Millions, dtype: float64"
            ],
            "text/html": [
              "<div>\n",
              "<style scoped>\n",
              "    .dataframe tbody tr th:only-of-type {\n",
              "        vertical-align: middle;\n",
              "    }\n",
              "\n",
              "    .dataframe tbody tr th {\n",
              "        vertical-align: top;\n",
              "    }\n",
              "\n",
              "    .dataframe thead th {\n",
              "        text-align: right;\n",
              "    }\n",
              "</style>\n",
              "<table border=\"1\" class=\"dataframe\">\n",
              "  <thead>\n",
              "    <tr style=\"text-align: right;\">\n",
              "      <th></th>\n",
              "      <th>G7 Population in Millions</th>\n",
              "    </tr>\n",
              "  </thead>\n",
              "  <tbody>\n",
              "    <tr>\n",
              "      <th>Germany</th>\n",
              "      <td>80.940</td>\n",
              "    </tr>\n",
              "    <tr>\n",
              "      <th>Japan</th>\n",
              "      <td>127.061</td>\n",
              "    </tr>\n",
              "    <tr>\n",
              "      <th>United States</th>\n",
              "      <td>318.523</td>\n",
              "    </tr>\n",
              "  </tbody>\n",
              "</table>\n",
              "</div><br><label><b>dtype:</b> float64</label>"
            ]
          },
          "metadata": {},
          "execution_count": 31
        }
      ]
    },
    {
      "cell_type": "code",
      "source": [
        "g7_pop.mean()"
      ],
      "metadata": {
        "colab": {
          "base_uri": "https://localhost:8080/"
        },
        "id": "rSczb8I8NwYx",
        "outputId": "99578260-c2b6-44cc-fc14-a07781c6f5b1"
      },
      "execution_count": 32,
      "outputs": [
        {
          "output_type": "execute_result",
          "data": {
            "text/plain": [
              "np.float64(107.30257142857144)"
            ]
          },
          "metadata": {},
          "execution_count": 32
        }
      ]
    },
    {
      "cell_type": "code",
      "source": [
        "g7_pop[g7_pop > g7_pop.mean()] # This shows only a table of where the g7_pop is greater than it's mean."
      ],
      "metadata": {
        "colab": {
          "base_uri": "https://localhost:8080/",
          "height": 148
        },
        "id": "5EUI6vmJOGTS",
        "outputId": "2db0c3b7-7436-47a3-d3ef-f7c1c6c18aef"
      },
      "execution_count": 34,
      "outputs": [
        {
          "output_type": "execute_result",
          "data": {
            "text/plain": [
              "Japan            127.061\n",
              "United States    318.523\n",
              "Name: G7 Population in Millions, dtype: float64"
            ],
            "text/html": [
              "<div>\n",
              "<style scoped>\n",
              "    .dataframe tbody tr th:only-of-type {\n",
              "        vertical-align: middle;\n",
              "    }\n",
              "\n",
              "    .dataframe tbody tr th {\n",
              "        vertical-align: top;\n",
              "    }\n",
              "\n",
              "    .dataframe thead th {\n",
              "        text-align: right;\n",
              "    }\n",
              "</style>\n",
              "<table border=\"1\" class=\"dataframe\">\n",
              "  <thead>\n",
              "    <tr style=\"text-align: right;\">\n",
              "      <th></th>\n",
              "      <th>G7 Population in Millions</th>\n",
              "    </tr>\n",
              "  </thead>\n",
              "  <tbody>\n",
              "    <tr>\n",
              "      <th>Japan</th>\n",
              "      <td>127.061</td>\n",
              "    </tr>\n",
              "    <tr>\n",
              "      <th>United States</th>\n",
              "      <td>318.523</td>\n",
              "    </tr>\n",
              "  </tbody>\n",
              "</table>\n",
              "</div><br><label><b>dtype:</b> float64</label>"
            ]
          },
          "metadata": {},
          "execution_count": 34
        }
      ]
    },
    {
      "cell_type": "code",
      "source": [
        "g7_pop.std()"
      ],
      "metadata": {
        "colab": {
          "base_uri": "https://localhost:8080/"
        },
        "id": "wGO6ZKRyOPVp",
        "outputId": "b3b41b4e-e747-4e42-ec10-cf91509af655"
      },
      "execution_count": 35,
      "outputs": [
        {
          "output_type": "execute_result",
          "data": {
            "text/plain": [
              "97.24996987121581"
            ]
          },
          "metadata": {},
          "execution_count": 35
        }
      ]
    },
    {
      "cell_type": "code",
      "source": [
        "g7_pop[(g7_pop > g7_pop.mean() - g7_pop.std() / 2) | (g7_pop > g7_pop.mean() + g7_pop.std() / 2)]\n",
        "\n",
        "# BOOLEAN VALUES\n",
        "# ~ not\n",
        "# | or\n",
        "# & and"
      ],
      "metadata": {
        "colab": {
          "base_uri": "https://localhost:8080/",
          "height": 273
        },
        "id": "8d5TND4JOgK6",
        "outputId": "97c42fd8-9e25-490d-c642-53106d1aceef"
      },
      "execution_count": 36,
      "outputs": [
        {
          "output_type": "execute_result",
          "data": {
            "text/plain": [
              "France             63.951\n",
              "Germany            80.940\n",
              "Italy              60.665\n",
              "Japan             127.061\n",
              "United Kingdom     64.511\n",
              "United States     318.523\n",
              "Name: G7 Population in Millions, dtype: float64"
            ],
            "text/html": [
              "<div>\n",
              "<style scoped>\n",
              "    .dataframe tbody tr th:only-of-type {\n",
              "        vertical-align: middle;\n",
              "    }\n",
              "\n",
              "    .dataframe tbody tr th {\n",
              "        vertical-align: top;\n",
              "    }\n",
              "\n",
              "    .dataframe thead th {\n",
              "        text-align: right;\n",
              "    }\n",
              "</style>\n",
              "<table border=\"1\" class=\"dataframe\">\n",
              "  <thead>\n",
              "    <tr style=\"text-align: right;\">\n",
              "      <th></th>\n",
              "      <th>G7 Population in Millions</th>\n",
              "    </tr>\n",
              "  </thead>\n",
              "  <tbody>\n",
              "    <tr>\n",
              "      <th>France</th>\n",
              "      <td>63.951</td>\n",
              "    </tr>\n",
              "    <tr>\n",
              "      <th>Germany</th>\n",
              "      <td>80.940</td>\n",
              "    </tr>\n",
              "    <tr>\n",
              "      <th>Italy</th>\n",
              "      <td>60.665</td>\n",
              "    </tr>\n",
              "    <tr>\n",
              "      <th>Japan</th>\n",
              "      <td>127.061</td>\n",
              "    </tr>\n",
              "    <tr>\n",
              "      <th>United Kingdom</th>\n",
              "      <td>64.511</td>\n",
              "    </tr>\n",
              "    <tr>\n",
              "      <th>United States</th>\n",
              "      <td>318.523</td>\n",
              "    </tr>\n",
              "  </tbody>\n",
              "</table>\n",
              "</div><br><label><b>dtype:</b> float64</label>"
            ]
          },
          "metadata": {},
          "execution_count": 36
        }
      ]
    },
    {
      "cell_type": "markdown",
      "source": [
        "# Operations and Methods\n",
        "\n",
        "Series also support vectorized operations and aggregation functions as Numpy:"
      ],
      "metadata": {
        "id": "NDU9zWhLPk3s"
      }
    },
    {
      "cell_type": "code",
      "source": [
        "g7_pop"
      ],
      "metadata": {
        "colab": {
          "base_uri": "https://localhost:8080/",
          "height": 304
        },
        "id": "FSR7BArbOzZx",
        "outputId": "e8318b0d-04e7-411c-beef-c9cf5998ed82"
      },
      "execution_count": 37,
      "outputs": [
        {
          "output_type": "execute_result",
          "data": {
            "text/plain": [
              "Canada             35.467\n",
              "France             63.951\n",
              "Germany            80.940\n",
              "Italy              60.665\n",
              "Japan             127.061\n",
              "United Kingdom     64.511\n",
              "United States     318.523\n",
              "Name: G7 Population in Millions, dtype: float64"
            ],
            "text/html": [
              "<div>\n",
              "<style scoped>\n",
              "    .dataframe tbody tr th:only-of-type {\n",
              "        vertical-align: middle;\n",
              "    }\n",
              "\n",
              "    .dataframe tbody tr th {\n",
              "        vertical-align: top;\n",
              "    }\n",
              "\n",
              "    .dataframe thead th {\n",
              "        text-align: right;\n",
              "    }\n",
              "</style>\n",
              "<table border=\"1\" class=\"dataframe\">\n",
              "  <thead>\n",
              "    <tr style=\"text-align: right;\">\n",
              "      <th></th>\n",
              "      <th>G7 Population in Millions</th>\n",
              "    </tr>\n",
              "  </thead>\n",
              "  <tbody>\n",
              "    <tr>\n",
              "      <th>Canada</th>\n",
              "      <td>35.467</td>\n",
              "    </tr>\n",
              "    <tr>\n",
              "      <th>France</th>\n",
              "      <td>63.951</td>\n",
              "    </tr>\n",
              "    <tr>\n",
              "      <th>Germany</th>\n",
              "      <td>80.940</td>\n",
              "    </tr>\n",
              "    <tr>\n",
              "      <th>Italy</th>\n",
              "      <td>60.665</td>\n",
              "    </tr>\n",
              "    <tr>\n",
              "      <th>Japan</th>\n",
              "      <td>127.061</td>\n",
              "    </tr>\n",
              "    <tr>\n",
              "      <th>United Kingdom</th>\n",
              "      <td>64.511</td>\n",
              "    </tr>\n",
              "    <tr>\n",
              "      <th>United States</th>\n",
              "      <td>318.523</td>\n",
              "    </tr>\n",
              "  </tbody>\n",
              "</table>\n",
              "</div><br><label><b>dtype:</b> float64</label>"
            ]
          },
          "metadata": {},
          "execution_count": 37
        }
      ]
    },
    {
      "cell_type": "code",
      "source": [
        "g7_pop * 1_000_000,"
      ],
      "metadata": {
        "colab": {
          "base_uri": "https://localhost:8080/",
          "height": 304
        },
        "id": "EEyYCuTdPvmS",
        "outputId": "b6bf9af2-2600-46d9-86ae-2ea1cfc6baf2"
      },
      "execution_count": 38,
      "outputs": [
        {
          "output_type": "execute_result",
          "data": {
            "text/plain": [
              "Canada             35467000.0\n",
              "France             63951000.0\n",
              "Germany            80940000.0\n",
              "Italy              60665000.0\n",
              "Japan             127061000.0\n",
              "United Kingdom     64511000.0\n",
              "United States     318523000.0\n",
              "Name: G7 Population in Millions, dtype: float64"
            ],
            "text/html": [
              "<div>\n",
              "<style scoped>\n",
              "    .dataframe tbody tr th:only-of-type {\n",
              "        vertical-align: middle;\n",
              "    }\n",
              "\n",
              "    .dataframe tbody tr th {\n",
              "        vertical-align: top;\n",
              "    }\n",
              "\n",
              "    .dataframe thead th {\n",
              "        text-align: right;\n",
              "    }\n",
              "</style>\n",
              "<table border=\"1\" class=\"dataframe\">\n",
              "  <thead>\n",
              "    <tr style=\"text-align: right;\">\n",
              "      <th></th>\n",
              "      <th>G7 Population in Millions</th>\n",
              "    </tr>\n",
              "  </thead>\n",
              "  <tbody>\n",
              "    <tr>\n",
              "      <th>Canada</th>\n",
              "      <td>35467000.0</td>\n",
              "    </tr>\n",
              "    <tr>\n",
              "      <th>France</th>\n",
              "      <td>63951000.0</td>\n",
              "    </tr>\n",
              "    <tr>\n",
              "      <th>Germany</th>\n",
              "      <td>80940000.0</td>\n",
              "    </tr>\n",
              "    <tr>\n",
              "      <th>Italy</th>\n",
              "      <td>60665000.0</td>\n",
              "    </tr>\n",
              "    <tr>\n",
              "      <th>Japan</th>\n",
              "      <td>127061000.0</td>\n",
              "    </tr>\n",
              "    <tr>\n",
              "      <th>United Kingdom</th>\n",
              "      <td>64511000.0</td>\n",
              "    </tr>\n",
              "    <tr>\n",
              "      <th>United States</th>\n",
              "      <td>318523000.0</td>\n",
              "    </tr>\n",
              "  </tbody>\n",
              "</table>\n",
              "</div><br><label><b>dtype:</b> float64</label>"
            ]
          },
          "metadata": {},
          "execution_count": 38
        }
      ]
    },
    {
      "cell_type": "code",
      "source": [
        "g7_pop.mean()"
      ],
      "metadata": {
        "colab": {
          "base_uri": "https://localhost:8080/"
        },
        "id": "dMLjTqcnP1aB",
        "outputId": "6d49a492-a5c0-4d9c-e4db-1359757ee0f9"
      },
      "execution_count": 39,
      "outputs": [
        {
          "output_type": "execute_result",
          "data": {
            "text/plain": [
              "np.float64(107.30257142857144)"
            ]
          },
          "metadata": {},
          "execution_count": 39
        }
      ]
    },
    {
      "cell_type": "code",
      "source": [
        "np.log(g7_pop)"
      ],
      "metadata": {
        "colab": {
          "base_uri": "https://localhost:8080/",
          "height": 304
        },
        "id": "-rWIQ52LP4hJ",
        "outputId": "85ac2edf-b89b-4eb1-8d9a-a5db06169a20"
      },
      "execution_count": 40,
      "outputs": [
        {
          "output_type": "execute_result",
          "data": {
            "text/plain": [
              "Canada            3.568603\n",
              "France            4.158117\n",
              "Germany           4.393708\n",
              "Italy             4.105367\n",
              "Japan             4.844667\n",
              "United Kingdom    4.166836\n",
              "United States     5.763695\n",
              "Name: G7 Population in Millions, dtype: float64"
            ],
            "text/html": [
              "<div>\n",
              "<style scoped>\n",
              "    .dataframe tbody tr th:only-of-type {\n",
              "        vertical-align: middle;\n",
              "    }\n",
              "\n",
              "    .dataframe tbody tr th {\n",
              "        vertical-align: top;\n",
              "    }\n",
              "\n",
              "    .dataframe thead th {\n",
              "        text-align: right;\n",
              "    }\n",
              "</style>\n",
              "<table border=\"1\" class=\"dataframe\">\n",
              "  <thead>\n",
              "    <tr style=\"text-align: right;\">\n",
              "      <th></th>\n",
              "      <th>G7 Population in Millions</th>\n",
              "    </tr>\n",
              "  </thead>\n",
              "  <tbody>\n",
              "    <tr>\n",
              "      <th>Canada</th>\n",
              "      <td>3.568603</td>\n",
              "    </tr>\n",
              "    <tr>\n",
              "      <th>France</th>\n",
              "      <td>4.158117</td>\n",
              "    </tr>\n",
              "    <tr>\n",
              "      <th>Germany</th>\n",
              "      <td>4.393708</td>\n",
              "    </tr>\n",
              "    <tr>\n",
              "      <th>Italy</th>\n",
              "      <td>4.105367</td>\n",
              "    </tr>\n",
              "    <tr>\n",
              "      <th>Japan</th>\n",
              "      <td>4.844667</td>\n",
              "    </tr>\n",
              "    <tr>\n",
              "      <th>United Kingdom</th>\n",
              "      <td>4.166836</td>\n",
              "    </tr>\n",
              "    <tr>\n",
              "      <th>United States</th>\n",
              "      <td>5.763695</td>\n",
              "    </tr>\n",
              "  </tbody>\n",
              "</table>\n",
              "</div><br><label><b>dtype:</b> float64</label>"
            ]
          },
          "metadata": {},
          "execution_count": 40
        }
      ]
    },
    {
      "cell_type": "code",
      "source": [
        "g7_pop['France': 'Italy'].mean()"
      ],
      "metadata": {
        "colab": {
          "base_uri": "https://localhost:8080/"
        },
        "id": "WfSrnvkvQ2UD",
        "outputId": "3a7d83a4-9bed-45fe-99bc-66e2d05070e4"
      },
      "execution_count": 41,
      "outputs": [
        {
          "output_type": "execute_result",
          "data": {
            "text/plain": [
              "np.float64(68.51866666666666)"
            ]
          },
          "metadata": {},
          "execution_count": 41
        }
      ]
    },
    {
      "cell_type": "markdown",
      "source": [
        "# Boolean Arrays\n",
        "(Work in the same way as numpy)"
      ],
      "metadata": {
        "id": "rnWROt7aQ_ir"
      }
    },
    {
      "cell_type": "code",
      "source": [
        "g7_pop"
      ],
      "metadata": {
        "colab": {
          "base_uri": "https://localhost:8080/",
          "height": 304
        },
        "id": "o-_spnsTQ-aa",
        "outputId": "1258dca2-284d-4c11-9ade-98292de714c7"
      },
      "execution_count": 42,
      "outputs": [
        {
          "output_type": "execute_result",
          "data": {
            "text/plain": [
              "Canada             35.467\n",
              "France             63.951\n",
              "Germany            80.940\n",
              "Italy              60.665\n",
              "Japan             127.061\n",
              "United Kingdom     64.511\n",
              "United States     318.523\n",
              "Name: G7 Population in Millions, dtype: float64"
            ],
            "text/html": [
              "<div>\n",
              "<style scoped>\n",
              "    .dataframe tbody tr th:only-of-type {\n",
              "        vertical-align: middle;\n",
              "    }\n",
              "\n",
              "    .dataframe tbody tr th {\n",
              "        vertical-align: top;\n",
              "    }\n",
              "\n",
              "    .dataframe thead th {\n",
              "        text-align: right;\n",
              "    }\n",
              "</style>\n",
              "<table border=\"1\" class=\"dataframe\">\n",
              "  <thead>\n",
              "    <tr style=\"text-align: right;\">\n",
              "      <th></th>\n",
              "      <th>G7 Population in Millions</th>\n",
              "    </tr>\n",
              "  </thead>\n",
              "  <tbody>\n",
              "    <tr>\n",
              "      <th>Canada</th>\n",
              "      <td>35.467</td>\n",
              "    </tr>\n",
              "    <tr>\n",
              "      <th>France</th>\n",
              "      <td>63.951</td>\n",
              "    </tr>\n",
              "    <tr>\n",
              "      <th>Germany</th>\n",
              "      <td>80.940</td>\n",
              "    </tr>\n",
              "    <tr>\n",
              "      <th>Italy</th>\n",
              "      <td>60.665</td>\n",
              "    </tr>\n",
              "    <tr>\n",
              "      <th>Japan</th>\n",
              "      <td>127.061</td>\n",
              "    </tr>\n",
              "    <tr>\n",
              "      <th>United Kingdom</th>\n",
              "      <td>64.511</td>\n",
              "    </tr>\n",
              "    <tr>\n",
              "      <th>United States</th>\n",
              "      <td>318.523</td>\n",
              "    </tr>\n",
              "  </tbody>\n",
              "</table>\n",
              "</div><br><label><b>dtype:</b> float64</label>"
            ]
          },
          "metadata": {},
          "execution_count": 42
        }
      ]
    },
    {
      "cell_type": "code",
      "source": [
        "g7_pop > 80, g7_pop[g7_pop > 80]"
      ],
      "metadata": {
        "colab": {
          "base_uri": "https://localhost:8080/"
        },
        "id": "0Z3cpf29RFia",
        "outputId": "365f2ece-c91c-422b-9744-38cdf5ed9b6a"
      },
      "execution_count": 49,
      "outputs": [
        {
          "output_type": "execute_result",
          "data": {
            "text/plain": [
              "(Canada            False\n",
              " France            False\n",
              " Germany            True\n",
              " Italy             False\n",
              " Japan              True\n",
              " United Kingdom    False\n",
              " United States      True\n",
              " Name: G7 Population in Millions, dtype: bool,\n",
              " Germany           80.940\n",
              " Japan            127.061\n",
              " United States    318.523\n",
              " Name: G7 Population in Millions, dtype: float64)"
            ]
          },
          "metadata": {},
          "execution_count": 49
        }
      ]
    },
    {
      "cell_type": "code",
      "source": [
        "g7_pop[(g7_pop > 80) | (g7_pop < 40)]"
      ],
      "metadata": {
        "colab": {
          "base_uri": "https://localhost:8080/",
          "height": 210
        },
        "id": "cTowg0h9RY0I",
        "outputId": "d3ed3161-411a-4cb4-e4b2-a62a8cb78f25"
      },
      "execution_count": 50,
      "outputs": [
        {
          "output_type": "execute_result",
          "data": {
            "text/plain": [
              "Canada            35.467\n",
              "Germany           80.940\n",
              "Japan            127.061\n",
              "United States    318.523\n",
              "Name: G7 Population in Millions, dtype: float64"
            ],
            "text/html": [
              "<div>\n",
              "<style scoped>\n",
              "    .dataframe tbody tr th:only-of-type {\n",
              "        vertical-align: middle;\n",
              "    }\n",
              "\n",
              "    .dataframe tbody tr th {\n",
              "        vertical-align: top;\n",
              "    }\n",
              "\n",
              "    .dataframe thead th {\n",
              "        text-align: right;\n",
              "    }\n",
              "</style>\n",
              "<table border=\"1\" class=\"dataframe\">\n",
              "  <thead>\n",
              "    <tr style=\"text-align: right;\">\n",
              "      <th></th>\n",
              "      <th>G7 Population in Millions</th>\n",
              "    </tr>\n",
              "  </thead>\n",
              "  <tbody>\n",
              "    <tr>\n",
              "      <th>Canada</th>\n",
              "      <td>35.467</td>\n",
              "    </tr>\n",
              "    <tr>\n",
              "      <th>Germany</th>\n",
              "      <td>80.940</td>\n",
              "    </tr>\n",
              "    <tr>\n",
              "      <th>Japan</th>\n",
              "      <td>127.061</td>\n",
              "    </tr>\n",
              "    <tr>\n",
              "      <th>United States</th>\n",
              "      <td>318.523</td>\n",
              "    </tr>\n",
              "  </tbody>\n",
              "</table>\n",
              "</div><br><label><b>dtype:</b> float64</label>"
            ]
          },
          "metadata": {},
          "execution_count": 50
        }
      ]
    },
    {
      "cell_type": "code",
      "source": [
        "g7_pop[(g7_pop > 80) & (g7_pop < 200)]"
      ],
      "metadata": {
        "colab": {
          "base_uri": "https://localhost:8080/",
          "height": 148
        },
        "id": "GPCacQQeRLaK",
        "outputId": "22995b13-c556-43a8-9b18-ba69ce89e5b1"
      },
      "execution_count": 52,
      "outputs": [
        {
          "output_type": "execute_result",
          "data": {
            "text/plain": [
              "Germany     80.940\n",
              "Japan      127.061\n",
              "Name: G7 Population in Millions, dtype: float64"
            ],
            "text/html": [
              "<div>\n",
              "<style scoped>\n",
              "    .dataframe tbody tr th:only-of-type {\n",
              "        vertical-align: middle;\n",
              "    }\n",
              "\n",
              "    .dataframe tbody tr th {\n",
              "        vertical-align: top;\n",
              "    }\n",
              "\n",
              "    .dataframe thead th {\n",
              "        text-align: right;\n",
              "    }\n",
              "</style>\n",
              "<table border=\"1\" class=\"dataframe\">\n",
              "  <thead>\n",
              "    <tr style=\"text-align: right;\">\n",
              "      <th></th>\n",
              "      <th>G7 Population in Millions</th>\n",
              "    </tr>\n",
              "  </thead>\n",
              "  <tbody>\n",
              "    <tr>\n",
              "      <th>Germany</th>\n",
              "      <td>80.940</td>\n",
              "    </tr>\n",
              "    <tr>\n",
              "      <th>Japan</th>\n",
              "      <td>127.061</td>\n",
              "    </tr>\n",
              "  </tbody>\n",
              "</table>\n",
              "</div><br><label><b>dtype:</b> float64</label>"
            ]
          },
          "metadata": {},
          "execution_count": 52
        }
      ]
    },
    {
      "cell_type": "markdown",
      "source": [
        "# Modifying Series"
      ],
      "metadata": {
        "id": "-C6xfEFqRumq"
      }
    },
    {
      "cell_type": "code",
      "source": [
        "g7_pop['Canada'] = 40.5 # here, we are modifying the value using index, we can do it using sequential precision as below"
      ],
      "metadata": {
        "id": "YVQ0RnbqRqBK"
      },
      "execution_count": 53,
      "outputs": []
    },
    {
      "cell_type": "code",
      "source": [
        "g7_pop"
      ],
      "metadata": {
        "colab": {
          "base_uri": "https://localhost:8080/",
          "height": 304
        },
        "id": "PidizaFGRzrK",
        "outputId": "c5102dcf-e0d1-4b88-f594-7938e867023e"
      },
      "execution_count": 54,
      "outputs": [
        {
          "output_type": "execute_result",
          "data": {
            "text/plain": [
              "Canada             40.500\n",
              "France             63.951\n",
              "Germany            80.940\n",
              "Italy              60.665\n",
              "Japan             127.061\n",
              "United Kingdom     64.511\n",
              "United States     318.523\n",
              "Name: G7 Population in Millions, dtype: float64"
            ],
            "text/html": [
              "<div>\n",
              "<style scoped>\n",
              "    .dataframe tbody tr th:only-of-type {\n",
              "        vertical-align: middle;\n",
              "    }\n",
              "\n",
              "    .dataframe tbody tr th {\n",
              "        vertical-align: top;\n",
              "    }\n",
              "\n",
              "    .dataframe thead th {\n",
              "        text-align: right;\n",
              "    }\n",
              "</style>\n",
              "<table border=\"1\" class=\"dataframe\">\n",
              "  <thead>\n",
              "    <tr style=\"text-align: right;\">\n",
              "      <th></th>\n",
              "      <th>G7 Population in Millions</th>\n",
              "    </tr>\n",
              "  </thead>\n",
              "  <tbody>\n",
              "    <tr>\n",
              "      <th>Canada</th>\n",
              "      <td>40.500</td>\n",
              "    </tr>\n",
              "    <tr>\n",
              "      <th>France</th>\n",
              "      <td>63.951</td>\n",
              "    </tr>\n",
              "    <tr>\n",
              "      <th>Germany</th>\n",
              "      <td>80.940</td>\n",
              "    </tr>\n",
              "    <tr>\n",
              "      <th>Italy</th>\n",
              "      <td>60.665</td>\n",
              "    </tr>\n",
              "    <tr>\n",
              "      <th>Japan</th>\n",
              "      <td>127.061</td>\n",
              "    </tr>\n",
              "    <tr>\n",
              "      <th>United Kingdom</th>\n",
              "      <td>64.511</td>\n",
              "    </tr>\n",
              "    <tr>\n",
              "      <th>United States</th>\n",
              "      <td>318.523</td>\n",
              "    </tr>\n",
              "  </tbody>\n",
              "</table>\n",
              "</div><br><label><b>dtype:</b> float64</label>"
            ]
          },
          "metadata": {},
          "execution_count": 54
        }
      ]
    },
    {
      "cell_type": "code",
      "source": [
        "g7_pop.iloc[-1] = 500"
      ],
      "metadata": {
        "id": "OU-br4YJR0j6"
      },
      "execution_count": 63,
      "outputs": []
    },
    {
      "cell_type": "code",
      "source": [
        "g7_pop"
      ],
      "metadata": {
        "colab": {
          "base_uri": "https://localhost:8080/",
          "height": 304
        },
        "id": "12cH3Ai1R3oq",
        "outputId": "b29d1c2f-ed2f-4c72-db67-d69919abc444"
      },
      "execution_count": 64,
      "outputs": [
        {
          "output_type": "execute_result",
          "data": {
            "text/plain": [
              "Canada             99.990\n",
              "France             99.990\n",
              "Germany            80.940\n",
              "Italy              99.990\n",
              "Japan             127.061\n",
              "United Kingdom     99.990\n",
              "United States     500.000\n",
              "Name: G7 Population in Millions, dtype: float64"
            ],
            "text/html": [
              "<div>\n",
              "<style scoped>\n",
              "    .dataframe tbody tr th:only-of-type {\n",
              "        vertical-align: middle;\n",
              "    }\n",
              "\n",
              "    .dataframe tbody tr th {\n",
              "        vertical-align: top;\n",
              "    }\n",
              "\n",
              "    .dataframe thead th {\n",
              "        text-align: right;\n",
              "    }\n",
              "</style>\n",
              "<table border=\"1\" class=\"dataframe\">\n",
              "  <thead>\n",
              "    <tr style=\"text-align: right;\">\n",
              "      <th></th>\n",
              "      <th>G7 Population in Millions</th>\n",
              "    </tr>\n",
              "  </thead>\n",
              "  <tbody>\n",
              "    <tr>\n",
              "      <th>Canada</th>\n",
              "      <td>99.990</td>\n",
              "    </tr>\n",
              "    <tr>\n",
              "      <th>France</th>\n",
              "      <td>99.990</td>\n",
              "    </tr>\n",
              "    <tr>\n",
              "      <th>Germany</th>\n",
              "      <td>80.940</td>\n",
              "    </tr>\n",
              "    <tr>\n",
              "      <th>Italy</th>\n",
              "      <td>99.990</td>\n",
              "    </tr>\n",
              "    <tr>\n",
              "      <th>Japan</th>\n",
              "      <td>127.061</td>\n",
              "    </tr>\n",
              "    <tr>\n",
              "      <th>United Kingdom</th>\n",
              "      <td>99.990</td>\n",
              "    </tr>\n",
              "    <tr>\n",
              "      <th>United States</th>\n",
              "      <td>500.000</td>\n",
              "    </tr>\n",
              "  </tbody>\n",
              "</table>\n",
              "</div><br><label><b>dtype:</b> float64</label>"
            ]
          },
          "metadata": {},
          "execution_count": 64
        }
      ]
    },
    {
      "cell_type": "code",
      "source": [
        "g7_pop[g7_pop < 70] = 99.99 # here modifying the values which are below 70 to be changed as 99.99."
      ],
      "metadata": {
        "id": "odwxeWkiTxdk"
      },
      "execution_count": 67,
      "outputs": []
    },
    {
      "cell_type": "code",
      "source": [
        "g7_pop"
      ],
      "metadata": {
        "colab": {
          "base_uri": "https://localhost:8080/",
          "height": 304
        },
        "id": "ZnOgdJeBUL26",
        "outputId": "9cead3ca-9bd6-4d2a-88b1-18d06ae40ec3"
      },
      "execution_count": 66,
      "outputs": [
        {
          "output_type": "execute_result",
          "data": {
            "text/plain": [
              "Canada             99.990\n",
              "France             99.990\n",
              "Germany            80.940\n",
              "Italy              99.990\n",
              "Japan             127.061\n",
              "United Kingdom     99.990\n",
              "United States     500.000\n",
              "Name: G7 Population in Millions, dtype: float64"
            ],
            "text/html": [
              "<div>\n",
              "<style scoped>\n",
              "    .dataframe tbody tr th:only-of-type {\n",
              "        vertical-align: middle;\n",
              "    }\n",
              "\n",
              "    .dataframe tbody tr th {\n",
              "        vertical-align: top;\n",
              "    }\n",
              "\n",
              "    .dataframe thead th {\n",
              "        text-align: right;\n",
              "    }\n",
              "</style>\n",
              "<table border=\"1\" class=\"dataframe\">\n",
              "  <thead>\n",
              "    <tr style=\"text-align: right;\">\n",
              "      <th></th>\n",
              "      <th>G7 Population in Millions</th>\n",
              "    </tr>\n",
              "  </thead>\n",
              "  <tbody>\n",
              "    <tr>\n",
              "      <th>Canada</th>\n",
              "      <td>99.990</td>\n",
              "    </tr>\n",
              "    <tr>\n",
              "      <th>France</th>\n",
              "      <td>99.990</td>\n",
              "    </tr>\n",
              "    <tr>\n",
              "      <th>Germany</th>\n",
              "      <td>80.940</td>\n",
              "    </tr>\n",
              "    <tr>\n",
              "      <th>Italy</th>\n",
              "      <td>99.990</td>\n",
              "    </tr>\n",
              "    <tr>\n",
              "      <th>Japan</th>\n",
              "      <td>127.061</td>\n",
              "    </tr>\n",
              "    <tr>\n",
              "      <th>United Kingdom</th>\n",
              "      <td>99.990</td>\n",
              "    </tr>\n",
              "    <tr>\n",
              "      <th>United States</th>\n",
              "      <td>500.000</td>\n",
              "    </tr>\n",
              "  </tbody>\n",
              "</table>\n",
              "</div><br><label><b>dtype:</b> float64</label>"
            ]
          },
          "metadata": {},
          "execution_count": 66
        }
      ]
    },
    {
      "cell_type": "markdown",
      "source": [
        "# Pandas Series Exercises given by FreeCodeCamp\n",
        "\n",
        "---\n",
        "➡ Import Numpy and Pandas\n",
        "\n",
        "\n"
      ],
      "metadata": {
        "id": "IGg2EEuafKAm"
      }
    },
    {
      "cell_type": "code",
      "source": [
        "import numpy as np\n",
        "import pandas as pd\n",
        "print(pd.__version__)"
      ],
      "metadata": {
        "colab": {
          "base_uri": "https://localhost:8080/"
        },
        "id": "Vu-stETJfBoW",
        "outputId": "3d21550a-186c-401f-f7cc-85be28d97002"
      },
      "execution_count": 126,
      "outputs": [
        {
          "output_type": "stream",
          "name": "stdout",
          "text": [
            "2.2.2\n"
          ]
        }
      ]
    },
    {
      "cell_type": "markdown",
      "source": [
        "# Series Creation\n",
        "➡ Create an empty pandas Series"
      ],
      "metadata": {
        "id": "Ktzr8XjQgFh2"
      }
    },
    {
      "cell_type": "code",
      "source": [
        "pd.Series()"
      ],
      "metadata": {
        "colab": {
          "base_uri": "https://localhost:8080/",
          "height": 85
        },
        "id": "L6n-vXkqfH11",
        "outputId": "5bdcf213-e14a-4c9b-9f23-93d132272412"
      },
      "execution_count": 72,
      "outputs": [
        {
          "output_type": "execute_result",
          "data": {
            "text/plain": [
              "Series([], dtype: object)"
            ],
            "text/html": [
              "<div>\n",
              "<style scoped>\n",
              "    .dataframe tbody tr th:only-of-type {\n",
              "        vertical-align: middle;\n",
              "    }\n",
              "\n",
              "    .dataframe tbody tr th {\n",
              "        vertical-align: top;\n",
              "    }\n",
              "\n",
              "    .dataframe thead th {\n",
              "        text-align: right;\n",
              "    }\n",
              "</style>\n",
              "<table border=\"1\" class=\"dataframe\">\n",
              "  <thead>\n",
              "    <tr style=\"text-align: right;\">\n",
              "      <th></th>\n",
              "      <th>0</th>\n",
              "    </tr>\n",
              "  </thead>\n",
              "  <tbody>\n",
              "  </tbody>\n",
              "</table>\n",
              "</div><br><label><b>dtype:</b> object</label>"
            ]
          },
          "metadata": {},
          "execution_count": 72
        }
      ]
    },
    {
      "cell_type": "markdown",
      "source": [
        "➡ Given the X pyton list convert it to an Y pandas Series\n",
        "\n",
        "` X = ['A', 'B', 'C'] `"
      ],
      "metadata": {
        "id": "ICzAScFTgi3O"
      }
    },
    {
      "cell_type": "code",
      "source": [
        "x = ['A', 'B', 'C']\n",
        "print(x, type(x))"
      ],
      "metadata": {
        "colab": {
          "base_uri": "https://localhost:8080/"
        },
        "id": "Q72QoWnrggP-",
        "outputId": "9ecb968d-9090-4007-b1a3-ebad899b4610"
      },
      "execution_count": 78,
      "outputs": [
        {
          "output_type": "stream",
          "name": "stdout",
          "text": [
            "['A', 'B', 'C'] <class 'list'>\n"
          ]
        }
      ]
    },
    {
      "cell_type": "code",
      "source": [
        "y = pd.Series(x)"
      ],
      "metadata": {
        "id": "rZh0MZt-g7fG"
      },
      "execution_count": 79,
      "outputs": []
    },
    {
      "cell_type": "code",
      "source": [
        "print(Y, type(Y)) # Changed into Pandas Series from list"
      ],
      "metadata": {
        "colab": {
          "base_uri": "https://localhost:8080/"
        },
        "id": "mjjhv-2phJCG",
        "outputId": "9608037e-ac2c-4ac4-85ca-434036f8f440"
      },
      "execution_count": 80,
      "outputs": [
        {
          "output_type": "stream",
          "name": "stdout",
          "text": [
            "0    A\n",
            "1    B\n",
            "2    C\n",
            "dtype: object <class 'pandas.core.series.Series'>\n"
          ]
        }
      ]
    },
    {
      "cell_type": "markdown",
      "source": [
        "➡ Given the y pandas Series, name it 'My Letters'"
      ],
      "metadata": {
        "id": "TURRjhyNhW4Q"
      }
    },
    {
      "cell_type": "code",
      "source": [
        "y.name = 'My Letters'\n",
        "y"
      ],
      "metadata": {
        "colab": {
          "base_uri": "https://localhost:8080/",
          "height": 179
        },
        "id": "aw_dnytohJjQ",
        "outputId": "90c6bcf5-3260-43d4-bbe7-d8a27f107ee9"
      },
      "execution_count": 86,
      "outputs": [
        {
          "output_type": "execute_result",
          "data": {
            "text/plain": [
              "0    A\n",
              "1    B\n",
              "2    C\n",
              "Name: My Letters, dtype: object"
            ],
            "text/html": [
              "<div>\n",
              "<style scoped>\n",
              "    .dataframe tbody tr th:only-of-type {\n",
              "        vertical-align: middle;\n",
              "    }\n",
              "\n",
              "    .dataframe tbody tr th {\n",
              "        vertical-align: top;\n",
              "    }\n",
              "\n",
              "    .dataframe thead th {\n",
              "        text-align: right;\n",
              "    }\n",
              "</style>\n",
              "<table border=\"1\" class=\"dataframe\">\n",
              "  <thead>\n",
              "    <tr style=\"text-align: right;\">\n",
              "      <th></th>\n",
              "      <th>My Letters</th>\n",
              "    </tr>\n",
              "  </thead>\n",
              "  <tbody>\n",
              "    <tr>\n",
              "      <th>0</th>\n",
              "      <td>A</td>\n",
              "    </tr>\n",
              "    <tr>\n",
              "      <th>1</th>\n",
              "      <td>B</td>\n",
              "    </tr>\n",
              "    <tr>\n",
              "      <th>2</th>\n",
              "      <td>C</td>\n",
              "    </tr>\n",
              "  </tbody>\n",
              "</table>\n",
              "</div><br><label><b>dtype:</b> object</label>"
            ]
          },
          "metadata": {},
          "execution_count": 86
        }
      ]
    },
    {
      "cell_type": "markdown",
      "source": [
        "➡ Given the y pandas Series, show its values"
      ],
      "metadata": {
        "id": "FLxBpOVKh8Bg"
      }
    },
    {
      "cell_type": "code",
      "source": [
        "y = pd.Series(['A', 'B', 'C', 'D', 'E'])\n",
        "\n",
        "y.values"
      ],
      "metadata": {
        "colab": {
          "base_uri": "https://localhost:8080/"
        },
        "id": "qXxu4TfnhpMu",
        "outputId": "bf2cfd6e-68ed-48cc-c502-c6b60ed174da"
      },
      "execution_count": 88,
      "outputs": [
        {
          "output_type": "execute_result",
          "data": {
            "text/plain": [
              "array(['A', 'B', 'C', 'D', 'E'], dtype=object)"
            ]
          },
          "metadata": {},
          "execution_count": 88
        }
      ]
    },
    {
      "cell_type": "markdown",
      "source": [
        "# Series indexation\n",
        "➡ Assign index names to the given X pandas Series"
      ],
      "metadata": {
        "id": "1AixZvBBiMc3"
      }
    },
    {
      "cell_type": "code",
      "source": [
        "x = pd.Series(['A', 'B', 'A', 'B'])\n",
        "\n",
        "index_names = ['first', 'second', 'third', 'fourth']\n",
        "x.index = index_names\n",
        "x"
      ],
      "metadata": {
        "colab": {
          "base_uri": "https://localhost:8080/",
          "height": 210
        },
        "id": "ZsPVhHDXiJp-",
        "outputId": "f826bcde-96da-4bb8-9b2f-8ac93afa45c7"
      },
      "execution_count": 93,
      "outputs": [
        {
          "output_type": "execute_result",
          "data": {
            "text/plain": [
              "first     A\n",
              "second    B\n",
              "third     A\n",
              "fourth    B\n",
              "dtype: object"
            ],
            "text/html": [
              "<div>\n",
              "<style scoped>\n",
              "    .dataframe tbody tr th:only-of-type {\n",
              "        vertical-align: middle;\n",
              "    }\n",
              "\n",
              "    .dataframe tbody tr th {\n",
              "        vertical-align: top;\n",
              "    }\n",
              "\n",
              "    .dataframe thead th {\n",
              "        text-align: right;\n",
              "    }\n",
              "</style>\n",
              "<table border=\"1\" class=\"dataframe\">\n",
              "  <thead>\n",
              "    <tr style=\"text-align: right;\">\n",
              "      <th></th>\n",
              "      <th>0</th>\n",
              "    </tr>\n",
              "  </thead>\n",
              "  <tbody>\n",
              "    <tr>\n",
              "      <th>first</th>\n",
              "      <td>A</td>\n",
              "    </tr>\n",
              "    <tr>\n",
              "      <th>second</th>\n",
              "      <td>B</td>\n",
              "    </tr>\n",
              "    <tr>\n",
              "      <th>third</th>\n",
              "      <td>A</td>\n",
              "    </tr>\n",
              "    <tr>\n",
              "      <th>fourth</th>\n",
              "      <td>B</td>\n",
              "    </tr>\n",
              "  </tbody>\n",
              "</table>\n",
              "</div><br><label><b>dtype:</b> object</label>"
            ]
          },
          "metadata": {},
          "execution_count": 93
        }
      ]
    },
    {
      "cell_type": "markdown",
      "source": [
        "➡ Given the X pandas Series, show its first element\n",
        "\n"
      ],
      "metadata": {
        "id": "O-hluiukjL76"
      }
    },
    {
      "cell_type": "code",
      "source": [
        "x.index[0], x.iloc[0], x['first']"
      ],
      "metadata": {
        "colab": {
          "base_uri": "https://localhost:8080/"
        },
        "id": "p8mOmYUbiZeG",
        "outputId": "15a14773-f1fd-48ed-fd3c-432cc12fbb30"
      },
      "execution_count": 97,
      "outputs": [
        {
          "output_type": "execute_result",
          "data": {
            "text/plain": [
              "('first', 'A', 'A')"
            ]
          },
          "metadata": {},
          "execution_count": 97
        }
      ]
    },
    {
      "cell_type": "markdown",
      "source": [
        "➡ Given the X pandas Series, show its last element\n"
      ],
      "metadata": {
        "id": "1p9cE3C5jgK4"
      }
    },
    {
      "cell_type": "code",
      "source": [
        "x.index[-1], x.iloc[-1], x['fourth']"
      ],
      "metadata": {
        "id": "7MmK5gOsjS4O",
        "outputId": "769a12a6-d2a8-4fff-b605-cf2b2dbaa5aa",
        "colab": {
          "base_uri": "https://localhost:8080/"
        }
      },
      "execution_count": 98,
      "outputs": [
        {
          "output_type": "execute_result",
          "data": {
            "text/plain": [
              "('fourth', 'B', 'B')"
            ]
          },
          "metadata": {},
          "execution_count": 98
        }
      ]
    },
    {
      "cell_type": "markdown",
      "source": [
        "➡ Given the X pandas Series, show all middle elements\n"
      ],
      "metadata": {
        "id": "h6X-Gbfijq1B"
      }
    },
    {
      "cell_type": "code",
      "source": [
        "x.iloc[1:-1]"
      ],
      "metadata": {
        "id": "_-Cl9Deejome",
        "outputId": "3b8047f7-4502-48fc-8403-8d4bfdd793e0",
        "colab": {
          "base_uri": "https://localhost:8080/",
          "height": 242
        }
      },
      "execution_count": 111,
      "outputs": [
        {
          "output_type": "execute_result",
          "data": {
            "text/plain": [
              "second    B\n",
              "third     A\n",
              "fourth    B\n",
              "fifth     A\n",
              "Sixth     B\n",
              "dtype: object"
            ],
            "text/html": [
              "<div>\n",
              "<style scoped>\n",
              "    .dataframe tbody tr th:only-of-type {\n",
              "        vertical-align: middle;\n",
              "    }\n",
              "\n",
              "    .dataframe tbody tr th {\n",
              "        vertical-align: top;\n",
              "    }\n",
              "\n",
              "    .dataframe thead th {\n",
              "        text-align: right;\n",
              "    }\n",
              "</style>\n",
              "<table border=\"1\" class=\"dataframe\">\n",
              "  <thead>\n",
              "    <tr style=\"text-align: right;\">\n",
              "      <th></th>\n",
              "      <th>0</th>\n",
              "    </tr>\n",
              "  </thead>\n",
              "  <tbody>\n",
              "    <tr>\n",
              "      <th>second</th>\n",
              "      <td>B</td>\n",
              "    </tr>\n",
              "    <tr>\n",
              "      <th>third</th>\n",
              "      <td>A</td>\n",
              "    </tr>\n",
              "    <tr>\n",
              "      <th>fourth</th>\n",
              "      <td>B</td>\n",
              "    </tr>\n",
              "    <tr>\n",
              "      <th>fifth</th>\n",
              "      <td>A</td>\n",
              "    </tr>\n",
              "    <tr>\n",
              "      <th>Sixth</th>\n",
              "      <td>B</td>\n",
              "    </tr>\n",
              "  </tbody>\n",
              "</table>\n",
              "</div><br><label><b>dtype:</b> object</label>"
            ]
          },
          "metadata": {},
          "execution_count": 111
        }
      ]
    },
    {
      "cell_type": "markdown",
      "source": [
        "➡ Given the X pandas Series, show the elements in reverse position\n"
      ],
      "metadata": {
        "id": "9Wz3i7wmk6MQ"
      }
    },
    {
      "cell_type": "code",
      "source": [
        "x.iloc[::-1] # by putting '::' this symbol 2x it shows a series in a reverse order."
      ],
      "metadata": {
        "id": "7KyPsF0AjxL-",
        "outputId": "23138256-00da-454f-eeb7-9592765a3ae7",
        "colab": {
          "base_uri": "https://localhost:8080/",
          "height": 304
        }
      },
      "execution_count": 115,
      "outputs": [
        {
          "output_type": "execute_result",
          "data": {
            "text/plain": [
              "sixth     B\n",
              "Sixth     B\n",
              "fifth     A\n",
              "fourth    B\n",
              "third     A\n",
              "second    B\n",
              "first     A\n",
              "dtype: object"
            ],
            "text/html": [
              "<div>\n",
              "<style scoped>\n",
              "    .dataframe tbody tr th:only-of-type {\n",
              "        vertical-align: middle;\n",
              "    }\n",
              "\n",
              "    .dataframe tbody tr th {\n",
              "        vertical-align: top;\n",
              "    }\n",
              "\n",
              "    .dataframe thead th {\n",
              "        text-align: right;\n",
              "    }\n",
              "</style>\n",
              "<table border=\"1\" class=\"dataframe\">\n",
              "  <thead>\n",
              "    <tr style=\"text-align: right;\">\n",
              "      <th></th>\n",
              "      <th>0</th>\n",
              "    </tr>\n",
              "  </thead>\n",
              "  <tbody>\n",
              "    <tr>\n",
              "      <th>sixth</th>\n",
              "      <td>B</td>\n",
              "    </tr>\n",
              "    <tr>\n",
              "      <th>Sixth</th>\n",
              "      <td>B</td>\n",
              "    </tr>\n",
              "    <tr>\n",
              "      <th>fifth</th>\n",
              "      <td>A</td>\n",
              "    </tr>\n",
              "    <tr>\n",
              "      <th>fourth</th>\n",
              "      <td>B</td>\n",
              "    </tr>\n",
              "    <tr>\n",
              "      <th>third</th>\n",
              "      <td>A</td>\n",
              "    </tr>\n",
              "    <tr>\n",
              "      <th>second</th>\n",
              "      <td>B</td>\n",
              "    </tr>\n",
              "    <tr>\n",
              "      <th>first</th>\n",
              "      <td>A</td>\n",
              "    </tr>\n",
              "  </tbody>\n",
              "</table>\n",
              "</div><br><label><b>dtype:</b> object</label>"
            ]
          },
          "metadata": {},
          "execution_count": 115
        }
      ]
    },
    {
      "cell_type": "markdown",
      "source": [
        "➡ Given the X pandas Series, show the first and last elements"
      ],
      "metadata": {
        "id": "8vVX1TUwlVnX"
      }
    },
    {
      "cell_type": "code",
      "source": [
        "x.iloc[[0, -1]]"
      ],
      "metadata": {
        "id": "yye-_yekk5L_",
        "outputId": "6308d011-1279-43ab-8dac-89790f27d817",
        "colab": {
          "base_uri": "https://localhost:8080/",
          "height": 148
        }
      },
      "execution_count": 119,
      "outputs": [
        {
          "output_type": "execute_result",
          "data": {
            "text/plain": [
              "first    A\n",
              "sixth    B\n",
              "dtype: object"
            ],
            "text/html": [
              "<div>\n",
              "<style scoped>\n",
              "    .dataframe tbody tr th:only-of-type {\n",
              "        vertical-align: middle;\n",
              "    }\n",
              "\n",
              "    .dataframe tbody tr th {\n",
              "        vertical-align: top;\n",
              "    }\n",
              "\n",
              "    .dataframe thead th {\n",
              "        text-align: right;\n",
              "    }\n",
              "</style>\n",
              "<table border=\"1\" class=\"dataframe\">\n",
              "  <thead>\n",
              "    <tr style=\"text-align: right;\">\n",
              "      <th></th>\n",
              "      <th>0</th>\n",
              "    </tr>\n",
              "  </thead>\n",
              "  <tbody>\n",
              "    <tr>\n",
              "      <th>first</th>\n",
              "      <td>A</td>\n",
              "    </tr>\n",
              "    <tr>\n",
              "      <th>sixth</th>\n",
              "      <td>B</td>\n",
              "    </tr>\n",
              "  </tbody>\n",
              "</table>\n",
              "</div><br><label><b>dtype:</b> object</label>"
            ]
          },
          "metadata": {},
          "execution_count": 119
        }
      ]
    },
    {
      "cell_type": "markdown",
      "source": [
        "# Series manipulation\n",
        "➡ Convert the given integer pandas Series to float"
      ],
      "metadata": {
        "id": "GBvnTcKbmxSC"
      }
    },
    {
      "cell_type": "code",
      "source": [
        "X = pd.Series([1,2,3,4,5],\n",
        "              index=['first','second','third','forth','fifth'])\n",
        "\n",
        "pd.Series(X, dtype= float)"
      ],
      "metadata": {
        "id": "wUiFIJlill6P",
        "outputId": "31c77a27-bb58-4711-b08b-83cc621b4af2",
        "colab": {
          "base_uri": "https://localhost:8080/",
          "height": 242
        }
      },
      "execution_count": 134,
      "outputs": [
        {
          "output_type": "execute_result",
          "data": {
            "text/plain": [
              "first     1.0\n",
              "second    2.0\n",
              "third     3.0\n",
              "forth     4.0\n",
              "fifth     5.0\n",
              "dtype: float64"
            ],
            "text/html": [
              "<div>\n",
              "<style scoped>\n",
              "    .dataframe tbody tr th:only-of-type {\n",
              "        vertical-align: middle;\n",
              "    }\n",
              "\n",
              "    .dataframe tbody tr th {\n",
              "        vertical-align: top;\n",
              "    }\n",
              "\n",
              "    .dataframe thead th {\n",
              "        text-align: right;\n",
              "    }\n",
              "</style>\n",
              "<table border=\"1\" class=\"dataframe\">\n",
              "  <thead>\n",
              "    <tr style=\"text-align: right;\">\n",
              "      <th></th>\n",
              "      <th>0</th>\n",
              "    </tr>\n",
              "  </thead>\n",
              "  <tbody>\n",
              "    <tr>\n",
              "      <th>first</th>\n",
              "      <td>1.0</td>\n",
              "    </tr>\n",
              "    <tr>\n",
              "      <th>second</th>\n",
              "      <td>2.0</td>\n",
              "    </tr>\n",
              "    <tr>\n",
              "      <th>third</th>\n",
              "      <td>3.0</td>\n",
              "    </tr>\n",
              "    <tr>\n",
              "      <th>forth</th>\n",
              "      <td>4.0</td>\n",
              "    </tr>\n",
              "    <tr>\n",
              "      <th>fifth</th>\n",
              "      <td>5.0</td>\n",
              "    </tr>\n",
              "  </tbody>\n",
              "</table>\n",
              "</div><br><label><b>dtype:</b> float64</label>"
            ]
          },
          "metadata": {},
          "execution_count": 134
        }
      ]
    },
    {
      "cell_type": "markdown",
      "source": [
        "➡ Reverse the given pandas Series (first element becomes last)\n"
      ],
      "metadata": {
        "id": "cimUIr_fn7YJ"
      }
    },
    {
      "cell_type": "code",
      "source": [
        "X[::-1]"
      ],
      "metadata": {
        "id": "YwPskC8Cm5Av",
        "outputId": "011b0fb6-81a0-40c3-bc35-6ee2d2e1c4f3",
        "colab": {
          "base_uri": "https://localhost:8080/",
          "height": 242
        }
      },
      "execution_count": 135,
      "outputs": [
        {
          "output_type": "execute_result",
          "data": {
            "text/plain": [
              "fifth     5\n",
              "forth     4\n",
              "third     3\n",
              "second    2\n",
              "first     1\n",
              "dtype: int64"
            ],
            "text/html": [
              "<div>\n",
              "<style scoped>\n",
              "    .dataframe tbody tr th:only-of-type {\n",
              "        vertical-align: middle;\n",
              "    }\n",
              "\n",
              "    .dataframe tbody tr th {\n",
              "        vertical-align: top;\n",
              "    }\n",
              "\n",
              "    .dataframe thead th {\n",
              "        text-align: right;\n",
              "    }\n",
              "</style>\n",
              "<table border=\"1\" class=\"dataframe\">\n",
              "  <thead>\n",
              "    <tr style=\"text-align: right;\">\n",
              "      <th></th>\n",
              "      <th>0</th>\n",
              "    </tr>\n",
              "  </thead>\n",
              "  <tbody>\n",
              "    <tr>\n",
              "      <th>fifth</th>\n",
              "      <td>5</td>\n",
              "    </tr>\n",
              "    <tr>\n",
              "      <th>forth</th>\n",
              "      <td>4</td>\n",
              "    </tr>\n",
              "    <tr>\n",
              "      <th>third</th>\n",
              "      <td>3</td>\n",
              "    </tr>\n",
              "    <tr>\n",
              "      <th>second</th>\n",
              "      <td>2</td>\n",
              "    </tr>\n",
              "    <tr>\n",
              "      <th>first</th>\n",
              "      <td>1</td>\n",
              "    </tr>\n",
              "  </tbody>\n",
              "</table>\n",
              "</div><br><label><b>dtype:</b> int64</label>"
            ]
          },
          "metadata": {},
          "execution_count": 135
        }
      ]
    },
    {
      "cell_type": "markdown",
      "source": [
        "➡ Order (sort) the given pandas Series\n"
      ],
      "metadata": {
        "id": "vgQ2ukYmoGbz"
      }
    },
    {
      "cell_type": "code",
      "source": [
        "X.sort_values()\n",
        "X"
      ],
      "metadata": {
        "id": "07J2IYAUoDow",
        "outputId": "6245cc28-636e-4fe5-810f-59a6fd1f9465",
        "colab": {
          "base_uri": "https://localhost:8080/",
          "height": 242
        }
      },
      "execution_count": 137,
      "outputs": [
        {
          "output_type": "execute_result",
          "data": {
            "text/plain": [
              "first     1\n",
              "second    2\n",
              "third     3\n",
              "forth     4\n",
              "fifth     5\n",
              "dtype: int64"
            ],
            "text/html": [
              "<div>\n",
              "<style scoped>\n",
              "    .dataframe tbody tr th:only-of-type {\n",
              "        vertical-align: middle;\n",
              "    }\n",
              "\n",
              "    .dataframe tbody tr th {\n",
              "        vertical-align: top;\n",
              "    }\n",
              "\n",
              "    .dataframe thead th {\n",
              "        text-align: right;\n",
              "    }\n",
              "</style>\n",
              "<table border=\"1\" class=\"dataframe\">\n",
              "  <thead>\n",
              "    <tr style=\"text-align: right;\">\n",
              "      <th></th>\n",
              "      <th>0</th>\n",
              "    </tr>\n",
              "  </thead>\n",
              "  <tbody>\n",
              "    <tr>\n",
              "      <th>first</th>\n",
              "      <td>1</td>\n",
              "    </tr>\n",
              "    <tr>\n",
              "      <th>second</th>\n",
              "      <td>2</td>\n",
              "    </tr>\n",
              "    <tr>\n",
              "      <th>third</th>\n",
              "      <td>3</td>\n",
              "    </tr>\n",
              "    <tr>\n",
              "      <th>forth</th>\n",
              "      <td>4</td>\n",
              "    </tr>\n",
              "    <tr>\n",
              "      <th>fifth</th>\n",
              "      <td>5</td>\n",
              "    </tr>\n",
              "  </tbody>\n",
              "</table>\n",
              "</div><br><label><b>dtype:</b> int64</label>"
            ]
          },
          "metadata": {},
          "execution_count": 137
        }
      ]
    },
    {
      "cell_type": "markdown",
      "source": [
        "➡ Given the X pandas Series, set the fifth element equal to 10"
      ],
      "metadata": {
        "id": "XiM9P907oSAo"
      }
    },
    {
      "cell_type": "code",
      "source": [
        "X.iloc[4] = 10\n",
        "X"
      ],
      "metadata": {
        "id": "xo-ZWJYwoKjg",
        "outputId": "161b87d6-d05f-49aa-a2a1-4b1d2bed4bce",
        "colab": {
          "base_uri": "https://localhost:8080/",
          "height": 242
        }
      },
      "execution_count": 142,
      "outputs": [
        {
          "output_type": "execute_result",
          "data": {
            "text/plain": [
              "first      1\n",
              "second     2\n",
              "third      3\n",
              "forth      4\n",
              "fifth     10\n",
              "dtype: int64"
            ],
            "text/html": [
              "<div>\n",
              "<style scoped>\n",
              "    .dataframe tbody tr th:only-of-type {\n",
              "        vertical-align: middle;\n",
              "    }\n",
              "\n",
              "    .dataframe tbody tr th {\n",
              "        vertical-align: top;\n",
              "    }\n",
              "\n",
              "    .dataframe thead th {\n",
              "        text-align: right;\n",
              "    }\n",
              "</style>\n",
              "<table border=\"1\" class=\"dataframe\">\n",
              "  <thead>\n",
              "    <tr style=\"text-align: right;\">\n",
              "      <th></th>\n",
              "      <th>0</th>\n",
              "    </tr>\n",
              "  </thead>\n",
              "  <tbody>\n",
              "    <tr>\n",
              "      <th>first</th>\n",
              "      <td>1</td>\n",
              "    </tr>\n",
              "    <tr>\n",
              "      <th>second</th>\n",
              "      <td>2</td>\n",
              "    </tr>\n",
              "    <tr>\n",
              "      <th>third</th>\n",
              "      <td>3</td>\n",
              "    </tr>\n",
              "    <tr>\n",
              "      <th>forth</th>\n",
              "      <td>4</td>\n",
              "    </tr>\n",
              "    <tr>\n",
              "      <th>fifth</th>\n",
              "      <td>10</td>\n",
              "    </tr>\n",
              "  </tbody>\n",
              "</table>\n",
              "</div><br><label><b>dtype:</b> int64</label>"
            ]
          },
          "metadata": {},
          "execution_count": 142
        }
      ]
    },
    {
      "cell_type": "markdown",
      "source": [
        "➡ Given the X pandas Series, change all the middle elements to 0\n"
      ],
      "metadata": {
        "id": "dqfgsI32ojYJ"
      }
    },
    {
      "cell_type": "code",
      "source": [
        "X.iloc[1:-1] = 0\n",
        "X"
      ],
      "metadata": {
        "id": "BDUpInj-oaD4",
        "outputId": "fe1cfe76-3d98-46ad-cfb9-5557dab7b782",
        "colab": {
          "base_uri": "https://localhost:8080/",
          "height": 242
        }
      },
      "execution_count": 147,
      "outputs": [
        {
          "output_type": "execute_result",
          "data": {
            "text/plain": [
              "first     10\n",
              "second     0\n",
              "third      0\n",
              "forth      0\n",
              "fifth     10\n",
              "dtype: int64"
            ],
            "text/html": [
              "<div>\n",
              "<style scoped>\n",
              "    .dataframe tbody tr th:only-of-type {\n",
              "        vertical-align: middle;\n",
              "    }\n",
              "\n",
              "    .dataframe tbody tr th {\n",
              "        vertical-align: top;\n",
              "    }\n",
              "\n",
              "    .dataframe thead th {\n",
              "        text-align: right;\n",
              "    }\n",
              "</style>\n",
              "<table border=\"1\" class=\"dataframe\">\n",
              "  <thead>\n",
              "    <tr style=\"text-align: right;\">\n",
              "      <th></th>\n",
              "      <th>0</th>\n",
              "    </tr>\n",
              "  </thead>\n",
              "  <tbody>\n",
              "    <tr>\n",
              "      <th>first</th>\n",
              "      <td>10</td>\n",
              "    </tr>\n",
              "    <tr>\n",
              "      <th>second</th>\n",
              "      <td>0</td>\n",
              "    </tr>\n",
              "    <tr>\n",
              "      <th>third</th>\n",
              "      <td>0</td>\n",
              "    </tr>\n",
              "    <tr>\n",
              "      <th>forth</th>\n",
              "      <td>0</td>\n",
              "    </tr>\n",
              "    <tr>\n",
              "      <th>fifth</th>\n",
              "      <td>10</td>\n",
              "    </tr>\n",
              "  </tbody>\n",
              "</table>\n",
              "</div><br><label><b>dtype:</b> int64</label>"
            ]
          },
          "metadata": {},
          "execution_count": 147
        }
      ]
    },
    {
      "cell_type": "markdown",
      "source": [
        "# Series boolean arrays (also called masks)\n",
        "➡ Given the pandas Series, make a mask showing negative elements"
      ],
      "metadata": {
        "id": "0Ek0oj2wo4Oh"
      }
    },
    {
      "cell_type": "code",
      "source": [
        "notSeries = pd.Series([-1,2,0,-4,5,6,0,0,-9,10])"
      ],
      "metadata": {
        "id": "ychPLnJEoqmQ"
      },
      "execution_count": 149,
      "outputs": []
    },
    {
      "cell_type": "code",
      "source": [
        "mask1 = notSeries <= -1\n",
        "mask2 = notSeries <= 0\n",
        "mask1, mask2"
      ],
      "metadata": {
        "id": "ZNuz1PIFpALo",
        "outputId": "a346945d-6a93-4061-b6e3-034c77c99116",
        "colab": {
          "base_uri": "https://localhost:8080/"
        }
      },
      "execution_count": 156,
      "outputs": [
        {
          "output_type": "execute_result",
          "data": {
            "text/plain": [
              "(0     True\n",
              " 1    False\n",
              " 2    False\n",
              " 3     True\n",
              " 4    False\n",
              " 5    False\n",
              " 6    False\n",
              " 7    False\n",
              " 8     True\n",
              " 9    False\n",
              " dtype: bool,\n",
              " 0     True\n",
              " 1    False\n",
              " 2     True\n",
              " 3     True\n",
              " 4    False\n",
              " 5    False\n",
              " 6     True\n",
              " 7     True\n",
              " 8     True\n",
              " 9    False\n",
              " dtype: bool)"
            ]
          },
          "metadata": {},
          "execution_count": 156
        }
      ]
    },
    {
      "cell_type": "markdown",
      "source": [
        "mask = notSeries <= -1"
      ],
      "metadata": {
        "id": "m5_XYwnFpk4p"
      }
    },
    {
      "cell_type": "code",
      "source": [
        "\n"
      ],
      "metadata": {
        "id": "UQR3G_gwpNjI"
      },
      "execution_count": null,
      "outputs": []
    }
  ],
  "metadata": {
    "colab": {
      "name": "Welcome To Colab",
      "provenance": [],
      "include_colab_link": true
    },
    "kernelspec": {
      "display_name": "Python 3",
      "name": "python3"
    }
  },
  "nbformat": 4,
  "nbformat_minor": 0
}