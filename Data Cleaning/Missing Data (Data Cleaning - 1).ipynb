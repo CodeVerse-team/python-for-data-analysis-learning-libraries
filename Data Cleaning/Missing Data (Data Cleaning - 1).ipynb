{
  "nbformat": 4,
  "nbformat_minor": 0,
  "metadata": {
    "colab": {
      "provenance": [],
      "authorship_tag": "ABX9TyMmbPgwNo+ExYxsL6K7mSfb",
      "include_colab_link": true
    },
    "kernelspec": {
      "name": "python3",
      "display_name": "Python 3"
    },
    "language_info": {
      "name": "python"
    }
  },
  "cells": [
    {
      "cell_type": "markdown",
      "metadata": {
        "id": "view-in-github",
        "colab_type": "text"
      },
      "source": [
        "<a href=\"https://colab.research.google.com/github/CodeVerse-team/python-for-data-analysis-learning-libraries/blob/main/Missing%20Data%20(Data%20Cleaning%20-%201).ipynb\" target=\"_parent\"><img src=\"https://colab.research.google.com/assets/colab-badge.svg\" alt=\"Open In Colab\"/></a>"
      ]
    },
    {
      "cell_type": "markdown",
      "source": [
        "# Data Cleaning\n",
        "\n",
        "\n",
        "---\n",
        "\n",
        "## Missing Data"
      ],
      "metadata": {
        "id": "EzYeriuaRzzK"
      }
    },
    {
      "cell_type": "code",
      "execution_count": 2,
      "metadata": {
        "id": "dpXVYCzERgkh"
      },
      "outputs": [],
      "source": [
        "import numpy as np\n",
        "import pandas as pd"
      ]
    },
    {
      "cell_type": "markdown",
      "source": [
        "What does \"missing data\" mean? What is a missing value? It depends on the origin of the data and the context it was generated. For example, for a survey, a `Salary` field with an empty value, or a number 0, or an invalid value (a string for example) can be considered \"missing data\". These concepts are related to the values that Python will consider `\"Falsy\"`:"
      ],
      "metadata": {
        "id": "Aql8WhkyTSu4"
      }
    },
    {
      "cell_type": "code",
      "source": [
        "falsy_values = (0, False, None, '', [], {})"
      ],
      "metadata": {
        "id": "kVxFh2_mSK6i"
      },
      "execution_count": 3,
      "outputs": []
    },
    {
      "cell_type": "markdown",
      "source": [
        "For python, all the values above are considered \"Falsy\":"
      ],
      "metadata": {
        "id": "c0xEylE2Twsg"
      }
    },
    {
      "cell_type": "code",
      "source": [
        "any(falsy_values)"
      ],
      "metadata": {
        "id": "1sVE4NYHSY64",
        "colab": {
          "base_uri": "https://localhost:8080/"
        },
        "outputId": "44be9733-c961-4277-fdc5-4d12c9eaefb4"
      },
      "execution_count": 4,
      "outputs": [
        {
          "output_type": "execute_result",
          "data": {
            "text/plain": [
              "False"
            ]
          },
          "metadata": {},
          "execution_count": 4
        }
      ]
    },
    {
      "cell_type": "markdown",
      "source": [
        "Numpy has a special \"nullable\" value for numbers which is `np.nan`. It's NaN: \"Not a Number\""
      ],
      "metadata": {
        "id": "-XI-fKp2T4lg"
      }
    },
    {
      "cell_type": "code",
      "source": [
        "np.nan"
      ],
      "metadata": {
        "colab": {
          "base_uri": "https://localhost:8080/"
        },
        "id": "P0IMI1oISZPX",
        "outputId": "b96b3283-a059-470e-d2e5-c95c5df7408d"
      },
      "execution_count": 5,
      "outputs": [
        {
          "output_type": "execute_result",
          "data": {
            "text/plain": [
              "nan"
            ]
          },
          "metadata": {},
          "execution_count": 5
        }
      ]
    },
    {
      "cell_type": "markdown",
      "source": [
        "The `np.nan` value is kind of virus. Everything that it touches becomes `np.nan`:"
      ],
      "metadata": {
        "id": "Q7TvkSHncm46"
      }
    },
    {
      "cell_type": "code",
      "source": [
        "3 + np.nan"
      ],
      "metadata": {
        "colab": {
          "base_uri": "https://localhost:8080/"
        },
        "id": "6qZ72EAzSZqX",
        "outputId": "75d85ec0-107c-40ce-dbf7-94b46867fd27"
      },
      "execution_count": 6,
      "outputs": [
        {
          "output_type": "execute_result",
          "data": {
            "text/plain": [
              "nan"
            ]
          },
          "metadata": {},
          "execution_count": 6
        }
      ]
    },
    {
      "cell_type": "code",
      "source": [
        "a = np.array([1,2,3,  np.nan, np.nan, 4])"
      ],
      "metadata": {
        "id": "FFIdO_dmc18a"
      },
      "execution_count": 7,
      "outputs": []
    },
    {
      "cell_type": "code",
      "source": [
        "a.sum()"
      ],
      "metadata": {
        "colab": {
          "base_uri": "https://localhost:8080/"
        },
        "id": "9O1i_23ndEXj",
        "outputId": "1699158e-b6bb-4d17-8ebb-a673845278e8"
      },
      "execution_count": 8,
      "outputs": [
        {
          "output_type": "execute_result",
          "data": {
            "text/plain": [
              "np.float64(nan)"
            ]
          },
          "metadata": {},
          "execution_count": 8
        }
      ]
    },
    {
      "cell_type": "code",
      "source": [
        "a.mean()"
      ],
      "metadata": {
        "colab": {
          "base_uri": "https://localhost:8080/"
        },
        "id": "JbXVVIT9dHZJ",
        "outputId": "84a57b17-1f8d-4982-8f40-10032c0af234"
      },
      "execution_count": 9,
      "outputs": [
        {
          "output_type": "execute_result",
          "data": {
            "text/plain": [
              "np.float64(nan)"
            ]
          },
          "metadata": {},
          "execution_count": 9
        }
      ]
    },
    {
      "cell_type": "markdown",
      "source": [
        "This is better than regular `None` values, which in the previous examples would have raised an exception:"
      ],
      "metadata": {
        "id": "8QIG-DSMdJky"
      }
    },
    {
      "cell_type": "code",
      "source": [
        "# 3 + None"
      ],
      "metadata": {
        "id": "WLoKxZ5ZdYqB"
      },
      "execution_count": 11,
      "outputs": []
    },
    {
      "cell_type": "markdown",
      "source": [
        "For a numeric array, the `None` value is replaced by `np.nan`:"
      ],
      "metadata": {
        "id": "Gljy_R_XdY15"
      }
    },
    {
      "cell_type": "code",
      "source": [
        "a = np.array([1,2,3, np.nan, None, 4], dtype = 'float')"
      ],
      "metadata": {
        "id": "m4AgqiNjdhQZ"
      },
      "execution_count": 12,
      "outputs": []
    },
    {
      "cell_type": "code",
      "source": [
        "a"
      ],
      "metadata": {
        "colab": {
          "base_uri": "https://localhost:8080/"
        },
        "id": "IgNA_wicdqE5",
        "outputId": "f151dc7e-36e2-42e9-bbca-c767ae990d7f"
      },
      "execution_count": 13,
      "outputs": [
        {
          "output_type": "execute_result",
          "data": {
            "text/plain": [
              "array([ 1.,  2.,  3., nan, nan,  4.])"
            ]
          },
          "metadata": {},
          "execution_count": 13
        }
      ]
    },
    {
      "cell_type": "markdown",
      "source": [
        "As we said, `np.nan` is like a virus. if you have any `nan` value in an array and you try to perform an operation on it, you'll get unexpected results:"
      ],
      "metadata": {
        "id": "4pAlmWmBeCuC"
      }
    },
    {
      "cell_type": "code",
      "source": [
        "a = np.array([1, 2, 3, np.nan, np.nan, 4])"
      ],
      "metadata": {
        "id": "77L7S5FxeMbR"
      },
      "execution_count": 14,
      "outputs": []
    },
    {
      "cell_type": "code",
      "source": [
        "a.mean()"
      ],
      "metadata": {
        "colab": {
          "base_uri": "https://localhost:8080/"
        },
        "id": "kvpEK2NGemDK",
        "outputId": "43d71be6-2f08-4f87-84ec-cecf63b7da3b"
      },
      "execution_count": 15,
      "outputs": [
        {
          "output_type": "execute_result",
          "data": {
            "text/plain": [
              "np.float64(nan)"
            ]
          },
          "metadata": {},
          "execution_count": 15
        }
      ]
    },
    {
      "cell_type": "code",
      "source": [
        "a.sum()"
      ],
      "metadata": {
        "colab": {
          "base_uri": "https://localhost:8080/"
        },
        "id": "-70dhEXlewKh",
        "outputId": "39a3a95b-18a7-4e98-c75e-c594241e5b53"
      },
      "execution_count": 16,
      "outputs": [
        {
          "output_type": "execute_result",
          "data": {
            "text/plain": [
              "np.float64(nan)"
            ]
          },
          "metadata": {},
          "execution_count": 16
        }
      ]
    },
    {
      "cell_type": "markdown",
      "source": [
        "Numpy also supports an \"Infinite\" Type:"
      ],
      "metadata": {
        "id": "3QkoqTi5ezMi"
      }
    },
    {
      "cell_type": "code",
      "source": [
        "np.inf"
      ],
      "metadata": {
        "colab": {
          "base_uri": "https://localhost:8080/"
        },
        "id": "2pQSeWJuexuR",
        "outputId": "45d6a8e7-ce94-4039-f9f6-8741409682ce"
      },
      "execution_count": 17,
      "outputs": [
        {
          "output_type": "execute_result",
          "data": {
            "text/plain": [
              "inf"
            ]
          },
          "metadata": {},
          "execution_count": 17
        }
      ]
    },
    {
      "cell_type": "markdown",
      "source": [
        "Which also behaves as a virus:"
      ],
      "metadata": {
        "id": "1ILpB-23f9Ui"
      }
    },
    {
      "cell_type": "code",
      "source": [
        "3 + np.inf"
      ],
      "metadata": {
        "id": "pwzkvh5_f7Ra",
        "colab": {
          "base_uri": "https://localhost:8080/"
        },
        "outputId": "af6bc5c7-9610-4fb0-d37b-a3836d9bd54a"
      },
      "execution_count": 18,
      "outputs": [
        {
          "output_type": "execute_result",
          "data": {
            "text/plain": [
              "inf"
            ]
          },
          "metadata": {},
          "execution_count": 18
        }
      ]
    },
    {
      "cell_type": "code",
      "source": [
        "np.inf / 3"
      ],
      "metadata": {
        "colab": {
          "base_uri": "https://localhost:8080/"
        },
        "id": "iyS1nT6RUCSi",
        "outputId": "42ab815b-2d63-4332-b9cb-f366036e6d21"
      },
      "execution_count": 19,
      "outputs": [
        {
          "output_type": "execute_result",
          "data": {
            "text/plain": [
              "inf"
            ]
          },
          "metadata": {},
          "execution_count": 19
        }
      ]
    },
    {
      "cell_type": "code",
      "source": [
        "np.inf / np.inf"
      ],
      "metadata": {
        "colab": {
          "base_uri": "https://localhost:8080/"
        },
        "id": "Git0SXP4UO4g",
        "outputId": "dccf5314-13a8-455f-d155-0abf462f4464"
      },
      "execution_count": 21,
      "outputs": [
        {
          "output_type": "execute_result",
          "data": {
            "text/plain": [
              "nan"
            ]
          },
          "metadata": {},
          "execution_count": 21
        }
      ]
    },
    {
      "cell_type": "code",
      "source": [
        "b = np.array([1,2,3, np.inf, np.nan, 4], dtype = float)"
      ],
      "metadata": {
        "id": "PFfUsk2uURCw"
      },
      "execution_count": 23,
      "outputs": []
    },
    {
      "cell_type": "code",
      "source": [
        "b.sum()"
      ],
      "metadata": {
        "colab": {
          "base_uri": "https://localhost:8080/"
        },
        "id": "QAkIKSKAUbmQ",
        "outputId": "7ebd1185-e5d0-49f3-af4a-dd9a47960222"
      },
      "execution_count": 24,
      "outputs": [
        {
          "output_type": "execute_result",
          "data": {
            "text/plain": [
              "np.float64(nan)"
            ]
          },
          "metadata": {},
          "execution_count": 24
        }
      ]
    },
    {
      "cell_type": "markdown",
      "source": [
        "## Checking for `nan` or `inf`\n",
        "These are two functions: `np.isnan` an `np.isinf` that will perform the desired checks:"
      ],
      "metadata": {
        "id": "xNpGYUjdUsGI"
      }
    },
    {
      "cell_type": "code",
      "source": [
        "np.isnan(np.nan)"
      ],
      "metadata": {
        "colab": {
          "base_uri": "https://localhost:8080/"
        },
        "id": "CzIUJy-8UqyY",
        "outputId": "537a8ab0-1065-4214-ec13-6414638e0bf3"
      },
      "execution_count": 25,
      "outputs": [
        {
          "output_type": "execute_result",
          "data": {
            "text/plain": [
              "np.True_"
            ]
          },
          "metadata": {},
          "execution_count": 25
        }
      ]
    },
    {
      "cell_type": "code",
      "source": [
        "np.isinf(np.inf)"
      ],
      "metadata": {
        "colab": {
          "base_uri": "https://localhost:8080/"
        },
        "id": "yHllGXRoU9hY",
        "outputId": "796d2275-898a-40c9-9a17-2fe57531c198"
      },
      "execution_count": 26,
      "outputs": [
        {
          "output_type": "execute_result",
          "data": {
            "text/plain": [
              "np.True_"
            ]
          },
          "metadata": {},
          "execution_count": 26
        }
      ]
    },
    {
      "cell_type": "code",
      "source": [
        "np.isinf(np.nan)"
      ],
      "metadata": {
        "colab": {
          "base_uri": "https://localhost:8080/"
        },
        "id": "2DEqzwx3VCQg",
        "outputId": "9e6761f3-3076-4037-9abd-54753e0ed7a2"
      },
      "execution_count": 27,
      "outputs": [
        {
          "output_type": "execute_result",
          "data": {
            "text/plain": [
              "np.False_"
            ]
          },
          "metadata": {},
          "execution_count": 27
        }
      ]
    },
    {
      "cell_type": "markdown",
      "source": [
        "And the joint operation can be performed with `np.isfinite`."
      ],
      "metadata": {
        "id": "Xk_r8NSUVFy6"
      }
    },
    {
      "cell_type": "code",
      "source": [
        "np.isfinite(np.nan), np.isfinite(np.inf)"
      ],
      "metadata": {
        "colab": {
          "base_uri": "https://localhost:8080/"
        },
        "id": "m2kIwi_aVEV4",
        "outputId": "7f1b5ccb-28ff-42c9-eb9b-6f9ce3200eb6"
      },
      "execution_count": 28,
      "outputs": [
        {
          "output_type": "execute_result",
          "data": {
            "text/plain": [
              "(np.False_, np.False_)"
            ]
          },
          "metadata": {},
          "execution_count": 28
        }
      ]
    },
    {
      "cell_type": "markdown",
      "source": [
        "`np.isnan` and `np.isinf` also take arrays as inputs, and return boolean arrays as results:"
      ],
      "metadata": {
        "id": "wf04GkXqVUA5"
      }
    },
    {
      "cell_type": "code",
      "source": [
        "np.isnan(np.array([1,2,3,np.nan, np.inf, 4]))"
      ],
      "metadata": {
        "colab": {
          "base_uri": "https://localhost:8080/"
        },
        "id": "Nw4FU43-VQjQ",
        "outputId": "dfb17538-3e86-410a-c98c-942b0ee6f147"
      },
      "execution_count": 29,
      "outputs": [
        {
          "output_type": "execute_result",
          "data": {
            "text/plain": [
              "array([False, False, False,  True, False, False])"
            ]
          },
          "metadata": {},
          "execution_count": 29
        }
      ]
    },
    {
      "cell_type": "code",
      "source": [
        "np.isinf(np.array([1,2,3, np.nan, np.inf, 4]))"
      ],
      "metadata": {
        "colab": {
          "base_uri": "https://localhost:8080/"
        },
        "id": "2PyeI2XlVmfA",
        "outputId": "0f48102e-c363-46ed-d34e-706c37812f54"
      },
      "execution_count": 30,
      "outputs": [
        {
          "output_type": "execute_result",
          "data": {
            "text/plain": [
              "array([False, False, False, False,  True, False])"
            ]
          },
          "metadata": {},
          "execution_count": 30
        }
      ]
    },
    {
      "cell_type": "code",
      "source": [
        "np.isfinite(np.array([1,2,3, np.nan, np.inf]))"
      ],
      "metadata": {
        "colab": {
          "base_uri": "https://localhost:8080/"
        },
        "id": "5I2d2F7JVtVa",
        "outputId": "136a3171-c9ac-4da4-a414-fb9bfd93979d"
      },
      "execution_count": 31,
      "outputs": [
        {
          "output_type": "execute_result",
          "data": {
            "text/plain": [
              "array([ True,  True,  True, False, False])"
            ]
          },
          "metadata": {},
          "execution_count": 31
        }
      ]
    },
    {
      "cell_type": "markdown",
      "source": [
        "NOTE: It's not so common to find infinite values. From now on, we'll keepworking with only `np.nan`"
      ],
      "metadata": {
        "id": "Rp1Kv9l4WK0Q"
      }
    },
    {
      "cell_type": "markdown",
      "source": [
        "## Filtering them out\n",
        "\n",
        "Whenever you're trying to perform an operation with a Numpy array and you know there might be missing values, you'll need to filter them out before proceeding, to avoid `nan` propagation. We'll use a combination of the previous `np.isnan` + boolean arrays for this purpose:"
      ],
      "metadata": {
        "id": "RZE1jZH9mR_5"
      }
    },
    {
      "cell_type": "code",
      "source": [
        "a = np.array([1,2,3, np.nan, np.nan, 4])"
      ],
      "metadata": {
        "id": "JA_lu5RQV43I"
      },
      "execution_count": 32,
      "outputs": []
    },
    {
      "cell_type": "code",
      "source": [
        "a[~np.isnan(a)]"
      ],
      "metadata": {
        "colab": {
          "base_uri": "https://localhost:8080/"
        },
        "id": "OU-b5_Qsm4I4",
        "outputId": "e0636ecf-86f3-4d25-dcd6-8e4ccec580c6"
      },
      "execution_count": 33,
      "outputs": [
        {
          "output_type": "execute_result",
          "data": {
            "text/plain": [
              "array([1., 2., 3., 4.])"
            ]
          },
          "metadata": {},
          "execution_count": 33
        }
      ]
    },
    {
      "cell_type": "markdown",
      "source": [
        "Which is equivalent to:"
      ],
      "metadata": {
        "id": "QfgxGFXom_z5"
      }
    },
    {
      "cell_type": "code",
      "source": [
        "a[np.isfinite(a)]"
      ],
      "metadata": {
        "colab": {
          "base_uri": "https://localhost:8080/"
        },
        "id": "1AjZ5wIWm7aw",
        "outputId": "7678040e-c865-4844-b876-c88bfb81ade1"
      },
      "execution_count": 34,
      "outputs": [
        {
          "output_type": "execute_result",
          "data": {
            "text/plain": [
              "array([1., 2., 3., 4.])"
            ]
          },
          "metadata": {},
          "execution_count": 34
        }
      ]
    },
    {
      "cell_type": "markdown",
      "source": [
        "And with that result, all the operation can be now performed:"
      ],
      "metadata": {
        "id": "ozZOEb6LnHK5"
      }
    },
    {
      "cell_type": "code",
      "source": [
        "a[np.isfinite(a)].sum()"
      ],
      "metadata": {
        "colab": {
          "base_uri": "https://localhost:8080/"
        },
        "id": "fVlshMXbnEmg",
        "outputId": "d5c5140f-3a9f-4646-9916-1b0354c672e0"
      },
      "execution_count": 36,
      "outputs": [
        {
          "output_type": "execute_result",
          "data": {
            "text/plain": [
              "np.float64(10.0)"
            ]
          },
          "metadata": {},
          "execution_count": 36
        }
      ]
    },
    {
      "cell_type": "code",
      "source": [
        "a[np.isfinite(a)].mean()"
      ],
      "metadata": {
        "colab": {
          "base_uri": "https://localhost:8080/"
        },
        "id": "_dx7wGrHnWtw",
        "outputId": "89ae23c7-2198-47da-b211-50281151d26b"
      },
      "execution_count": 37,
      "outputs": [
        {
          "output_type": "execute_result",
          "data": {
            "text/plain": [
              "np.float64(2.5)"
            ]
          },
          "metadata": {},
          "execution_count": 37
        }
      ]
    }
  ]
}