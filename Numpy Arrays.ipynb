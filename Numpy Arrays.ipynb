{
  "cells": [
    {
      "cell_type": "markdown",
      "metadata": {
        "id": "view-in-github",
        "colab_type": "text"
      },
      "source": [
        "<a href=\"https://colab.research.google.com/github/CodeVerse-team/python-for-data-analysis-learning-libraries/blob/main/Numpy%20Arrays.ipynb\" target=\"_parent\"><img src=\"https://colab.research.google.com/assets/colab-badge.svg\" alt=\"Open In Colab\"/></a>"
      ]
    },
    {
      "cell_type": "code",
      "source": [
        "import numpy as np"
      ],
      "metadata": {
        "id": "ZQKc202dPtYK"
      },
      "execution_count": null,
      "outputs": []
    },
    {
      "cell_type": "code",
      "source": [
        "n = 3"
      ],
      "metadata": {
        "id": "uMegn6gMzAGZ"
      },
      "execution_count": null,
      "outputs": []
    },
    {
      "cell_type": "markdown",
      "source": [
        "# PYTHON FOR DATA ANALYSIS"
      ],
      "metadata": {
        "id": "jPBDpxjAuu_h"
      }
    },
    {
      "cell_type": "code",
      "source": [
        "np.array([1,2,3,4])"
      ],
      "metadata": {
        "id": "6n7Z7Y3KzosB",
        "outputId": "bef7360a-814e-4d97-f15e-025c59f57059",
        "colab": {
          "base_uri": "https://localhost:8080/"
        }
      },
      "execution_count": null,
      "outputs": [
        {
          "output_type": "execute_result",
          "data": {
            "text/plain": [
              "array([1, 2, 3, 4])"
            ]
          },
          "metadata": {},
          "execution_count": 124
        }
      ]
    },
    {
      "cell_type": "code",
      "source": [
        "a = np.array([1,2,3,4])"
      ],
      "metadata": {
        "id": "lsHECcue3qbo"
      },
      "execution_count": null,
      "outputs": []
    },
    {
      "cell_type": "code",
      "source": [
        "b = np.array([0, 0.5, 1, 1.5, 2])"
      ],
      "metadata": {
        "id": "QZycf6dl3sc_"
      },
      "execution_count": null,
      "outputs": []
    },
    {
      "cell_type": "markdown",
      "source": [
        "Calling Eelements in Array 👇"
      ],
      "metadata": {
        "id": "4sn1CzDD39ZS"
      }
    },
    {
      "cell_type": "code",
      "source": [
        "a[0], a[1], b[3]"
      ],
      "metadata": {
        "id": "Vgxje2UY4BtK",
        "outputId": "e7a9f675-96eb-4034-ea88-08577899cef2",
        "colab": {
          "base_uri": "https://localhost:8080/"
        }
      },
      "execution_count": null,
      "outputs": [
        {
          "output_type": "execute_result",
          "data": {
            "text/plain": [
              "(np.int64(1), np.int64(2), np.float64(1.5))"
            ]
          },
          "metadata": {},
          "execution_count": 127
        }
      ]
    },
    {
      "cell_type": "markdown",
      "source": [
        "Same goes for the Slicing in python 👇"
      ],
      "metadata": {
        "id": "oM9ppMAk4VUa"
      }
    },
    {
      "cell_type": "code",
      "source": [
        "a[0:]"
      ],
      "metadata": {
        "id": "3AmL86Ky4Tvi",
        "outputId": "0dbd12b5-54f4-4f36-837e-372dad69c7c5",
        "colab": {
          "base_uri": "https://localhost:8080/"
        }
      },
      "execution_count": null,
      "outputs": [
        {
          "output_type": "execute_result",
          "data": {
            "text/plain": [
              "array([1, 2, 3, 4])"
            ]
          },
          "metadata": {},
          "execution_count": 128
        }
      ]
    },
    {
      "cell_type": "code",
      "source": [
        "a[1:3]"
      ],
      "metadata": {
        "id": "KUhIlt_N4f8A",
        "outputId": "09f9bd58-1597-4496-e4de-5ff099aebef4",
        "colab": {
          "base_uri": "https://localhost:8080/"
        }
      },
      "execution_count": null,
      "outputs": [
        {
          "output_type": "execute_result",
          "data": {
            "text/plain": [
              "array([2, 3])"
            ]
          },
          "metadata": {},
          "execution_count": 129
        }
      ]
    },
    {
      "cell_type": "code",
      "source": [
        "a[1:-1]"
      ],
      "metadata": {
        "id": "UG0vuQph4iV4",
        "outputId": "c83b6ffb-5367-49a2-ba69-00c2f3394f65",
        "colab": {
          "base_uri": "https://localhost:8080/"
        }
      },
      "execution_count": null,
      "outputs": [
        {
          "output_type": "execute_result",
          "data": {
            "text/plain": [
              "array([2, 3])"
            ]
          },
          "metadata": {},
          "execution_count": 130
        }
      ]
    },
    {
      "cell_type": "code",
      "source": [
        "a[::2]"
      ],
      "metadata": {
        "id": "7zAAlyK24t6v",
        "outputId": "3bc687ee-ecb4-41b2-873b-c2f009a66f74",
        "colab": {
          "base_uri": "https://localhost:8080/"
        }
      },
      "execution_count": null,
      "outputs": [
        {
          "output_type": "execute_result",
          "data": {
            "text/plain": [
              "array([1, 3])"
            ]
          },
          "metadata": {},
          "execution_count": 131
        }
      ]
    },
    {
      "cell_type": "code",
      "source": [
        "b[0], b[2], b[-1]"
      ],
      "metadata": {
        "id": "iNiX2grR41pQ",
        "outputId": "dd0aaf3b-3144-45ae-9c99-071d1614ebe2",
        "colab": {
          "base_uri": "https://localhost:8080/"
        }
      },
      "execution_count": null,
      "outputs": [
        {
          "output_type": "execute_result",
          "data": {
            "text/plain": [
              "(np.float64(0.0), np.float64(1.0), np.float64(2.0))"
            ]
          },
          "metadata": {},
          "execution_count": 132
        }
      ]
    },
    {
      "cell_type": "markdown",
      "source": [
        "# Array Types"
      ],
      "metadata": {
        "id": "mwyedRVLoTB6"
      }
    },
    {
      "cell_type": "code",
      "source": [
        "b, a"
      ],
      "metadata": {
        "colab": {
          "base_uri": "https://localhost:8080/"
        },
        "id": "7Ta9jUppn2i0",
        "outputId": "14e0ff03-e964-42c5-bf91-2429782e3a11"
      },
      "execution_count": null,
      "outputs": [
        {
          "output_type": "execute_result",
          "data": {
            "text/plain": [
              "(array([0. , 0.5, 1. , 1.5, 2. ]), array([1, 2, 3, 4]))"
            ]
          },
          "metadata": {},
          "execution_count": 133
        }
      ]
    },
    {
      "cell_type": "code",
      "source": [
        "b[0], b[2], b[-1]"
      ],
      "metadata": {
        "colab": {
          "base_uri": "https://localhost:8080/"
        },
        "id": "hzOimfoUpmdT",
        "outputId": "2ea4d21c-3c35-474b-9d13-d528330e2fde"
      },
      "execution_count": null,
      "outputs": [
        {
          "output_type": "execute_result",
          "data": {
            "text/plain": [
              "(np.float64(0.0), np.float64(1.0), np.float64(2.0))"
            ]
          },
          "metadata": {},
          "execution_count": 134
        }
      ]
    },
    {
      "cell_type": "code",
      "source": [
        "b[[0, 2, -1]]"
      ],
      "metadata": {
        "colab": {
          "base_uri": "https://localhost:8080/"
        },
        "id": "TvebVYbIq4Ys",
        "outputId": "eed3053d-53d4-49a9-be67-a71e7c2b1546"
      },
      "execution_count": null,
      "outputs": [
        {
          "output_type": "execute_result",
          "data": {
            "text/plain": [
              "array([0., 1., 2.])"
            ]
          },
          "metadata": {},
          "execution_count": 135
        }
      ]
    },
    {
      "cell_type": "code",
      "source": [
        "b.dtype"
      ],
      "metadata": {
        "id": "Fb3Daqqor1X7",
        "outputId": "d9bd8ff8-d17b-4538-d9c5-00b091cb1b7f",
        "colab": {
          "base_uri": "https://localhost:8080/"
        }
      },
      "execution_count": null,
      "outputs": [
        {
          "output_type": "execute_result",
          "data": {
            "text/plain": [
              "dtype('float64')"
            ]
          },
          "metadata": {},
          "execution_count": 136
        }
      ]
    },
    {
      "cell_type": "code",
      "source": [
        "c = np.array(['a', 'b', 'c'])\n",
        "c"
      ],
      "metadata": {
        "id": "Z0PD-weBsLBS",
        "outputId": "c28d3d98-af8d-45f8-ae2b-7619f8b731e2",
        "colab": {
          "base_uri": "https://localhost:8080/"
        }
      },
      "execution_count": null,
      "outputs": [
        {
          "output_type": "execute_result",
          "data": {
            "text/plain": [
              "array(['a', 'b', 'c'], dtype='<U1')"
            ]
          },
          "metadata": {},
          "execution_count": 137
        }
      ]
    },
    {
      "cell_type": "markdown",
      "source": [
        "Numpy doesn't store stirngs or any other extra stuffs!\n",
        "\n",
        "---\n",
        "\n",
        "We Can Create Multi Dimensional Arrays in Numpy using python"
      ],
      "metadata": {
        "id": "p81JqBDhsW-b"
      }
    },
    {
      "cell_type": "code",
      "source": [
        "A = np.array([\n",
        "    [1,2,3],\n",
        "    [4,5,6],\n",
        "])"
      ],
      "metadata": {
        "id": "yH4PoO-7sdH0"
      },
      "execution_count": null,
      "outputs": []
    },
    {
      "cell_type": "code",
      "source": [
        "A.shape # shows the count of rows and column"
      ],
      "metadata": {
        "id": "UuCbZkOdti1k",
        "outputId": "a8358ec6-9577-49da-edd8-4f76c1143f4a",
        "colab": {
          "base_uri": "https://localhost:8080/"
        }
      },
      "execution_count": null,
      "outputs": [
        {
          "output_type": "execute_result",
          "data": {
            "text/plain": [
              "(2, 3)"
            ]
          },
          "metadata": {},
          "execution_count": 139
        }
      ]
    },
    {
      "cell_type": "code",
      "source": [
        "A.ndim # ndim is no. of dimension in the matrix in vertical and horizontal terms"
      ],
      "metadata": {
        "id": "ruuayprytwkz",
        "outputId": "9bfd89e8-40ac-41ea-bab4-2573372454b7",
        "colab": {
          "base_uri": "https://localhost:8080/"
        }
      },
      "execution_count": null,
      "outputs": [
        {
          "output_type": "execute_result",
          "data": {
            "text/plain": [
              "2"
            ]
          },
          "metadata": {},
          "execution_count": 140
        }
      ]
    },
    {
      "cell_type": "code",
      "source": [
        "A.size # size is a count of elements"
      ],
      "metadata": {
        "id": "6VkLMl3Xt3zr",
        "outputId": "88790183-2a1e-4943-dfc7-96ef6308830d",
        "colab": {
          "base_uri": "https://localhost:8080/"
        }
      },
      "execution_count": null,
      "outputs": [
        {
          "output_type": "execute_result",
          "data": {
            "text/plain": [
              "6"
            ]
          },
          "metadata": {},
          "execution_count": 141
        }
      ]
    },
    {
      "cell_type": "code",
      "source": [
        "B = np.array([\n",
        "    [\n",
        "        [12,13,10],\n",
        "        [9,7,8],\n",
        "    ],\n",
        "    [\n",
        "        [6,7,8],\n",
        "        [3,2,1]\n",
        "    ]\n",
        "])"
      ],
      "metadata": {
        "id": "xhuxfLvRuOPU"
      },
      "execution_count": null,
      "outputs": []
    },
    {
      "cell_type": "code",
      "source": [
        "B"
      ],
      "metadata": {
        "id": "ZYXSgdSuuoZt",
        "outputId": "1eb13912-b645-4512-e13e-aa114f45c920",
        "colab": {
          "base_uri": "https://localhost:8080/"
        }
      },
      "execution_count": null,
      "outputs": [
        {
          "output_type": "execute_result",
          "data": {
            "text/plain": [
              "array([[[12, 13, 10],\n",
              "        [ 9,  7,  8]],\n",
              "\n",
              "       [[ 6,  7,  8],\n",
              "        [ 3,  2,  1]]])"
            ]
          },
          "metadata": {},
          "execution_count": 143
        }
      ]
    },
    {
      "cell_type": "code",
      "source": [
        "B.shape"
      ],
      "metadata": {
        "id": "ayt04w1wus4S",
        "outputId": "1614c8a6-b5a8-48be-81a6-aeda8d19e3d1",
        "colab": {
          "base_uri": "https://localhost:8080/"
        }
      },
      "execution_count": null,
      "outputs": [
        {
          "output_type": "execute_result",
          "data": {
            "text/plain": [
              "(2, 2, 3)"
            ]
          },
          "metadata": {},
          "execution_count": 144
        }
      ]
    },
    {
      "cell_type": "code",
      "source": [
        "B.ndim"
      ],
      "metadata": {
        "id": "-659hAt-uuVb",
        "outputId": "32d2edf2-4543-48c6-fbc2-5db930ebbfad",
        "colab": {
          "base_uri": "https://localhost:8080/"
        }
      },
      "execution_count": null,
      "outputs": [
        {
          "output_type": "execute_result",
          "data": {
            "text/plain": [
              "3"
            ]
          },
          "metadata": {},
          "execution_count": 145
        }
      ]
    },
    {
      "cell_type": "code",
      "source": [
        "B.size"
      ],
      "metadata": {
        "id": "d9YDTmRTuvvz",
        "outputId": "2f226386-0017-4bae-93df-da6c86e4994a",
        "colab": {
          "base_uri": "https://localhost:8080/"
        }
      },
      "execution_count": null,
      "outputs": [
        {
          "output_type": "execute_result",
          "data": {
            "text/plain": [
              "12"
            ]
          },
          "metadata": {},
          "execution_count": 146
        }
      ]
    },
    {
      "cell_type": "markdown",
      "source": [
        "If the Shape isn't consistent, it'll just fall back to regular Python objects:"
      ],
      "metadata": {
        "id": "XcMVIRpOu3yt"
      }
    },
    {
      "cell_type": "code",
      "source": [
        "Candy = np.array([\n",
        "    [\n",
        "        [12,11,14],\n",
        "        [3,5,7],\n",
        "    ],\n",
        "    [\n",
        "        [3,4,5],\n",
        "        [3,4,5]\n",
        "    ]\n",
        "])"
      ],
      "metadata": {
        "id": "1Re4QasPvB5T"
      },
      "execution_count": null,
      "outputs": []
    },
    {
      "cell_type": "code",
      "source": [
        "Candy"
      ],
      "metadata": {
        "id": "SuzXA6nFvj29",
        "outputId": "12aa4c60-b1a0-4135-d800-d2de5e369eb6",
        "colab": {
          "base_uri": "https://localhost:8080/"
        }
      },
      "execution_count": null,
      "outputs": [
        {
          "output_type": "execute_result",
          "data": {
            "text/plain": [
              "array([[[12, 11, 14],\n",
              "        [ 3,  5,  7]],\n",
              "\n",
              "       [[ 3,  4,  5],\n",
              "        [ 3,  4,  5]]])"
            ]
          },
          "metadata": {},
          "execution_count": 148
        }
      ]
    },
    {
      "cell_type": "code",
      "source": [
        "Candy.shape"
      ],
      "metadata": {
        "id": "VhmLJFfNw8KE",
        "outputId": "f3ebb11b-50a5-491f-c572-e4b6fb32cefb",
        "colab": {
          "base_uri": "https://localhost:8080/"
        }
      },
      "execution_count": null,
      "outputs": [
        {
          "output_type": "execute_result",
          "data": {
            "text/plain": [
              "(2, 2, 3)"
            ]
          },
          "metadata": {},
          "execution_count": 149
        }
      ]
    },
    {
      "cell_type": "markdown",
      "source": [
        "# Indexing and Slicing of Matrices"
      ],
      "metadata": {
        "id": "2LQ6jJDexB2t"
      }
    },
    {
      "cell_type": "code",
      "source": [
        "# Square Matrix\n",
        "A = np.array([\n",
        "   # 0 1 2\n",
        "    [1,2,3], # 0\n",
        "    [4,5,6], # 1\n",
        "    [7,8,9]  # 2\n",
        "])\n",
        "A"
      ],
      "metadata": {
        "id": "CARawmawxEes",
        "outputId": "47ec157e-4fbc-44f1-abfe-bada72721303",
        "colab": {
          "base_uri": "https://localhost:8080/"
        }
      },
      "execution_count": null,
      "outputs": [
        {
          "output_type": "execute_result",
          "data": {
            "text/plain": [
              "array([[1, 2, 3],\n",
              "       [4, 5, 6],\n",
              "       [7, 8, 9]])"
            ]
          },
          "metadata": {},
          "execution_count": 150
        }
      ]
    },
    {
      "cell_type": "code",
      "source": [
        "A[1] # it by default selects the row."
      ],
      "metadata": {
        "id": "fPu2Bwz4xpSl",
        "outputId": "6c8c45e6-fdcd-473b-d876-68b6e94e9c5e",
        "colab": {
          "base_uri": "https://localhost:8080/"
        }
      },
      "execution_count": null,
      "outputs": [
        {
          "output_type": "execute_result",
          "data": {
            "text/plain": [
              "array([4, 5, 6])"
            ]
          },
          "metadata": {},
          "execution_count": 151
        }
      ]
    },
    {
      "cell_type": "code",
      "source": [
        "A[1][0] # to select the first element of second row"
      ],
      "metadata": {
        "id": "hw4RvLCjyGQl",
        "outputId": "cb05ea6d-6cc2-4244-c15e-fec58ab81c20",
        "colab": {
          "base_uri": "https://localhost:8080/"
        }
      },
      "execution_count": null,
      "outputs": [
        {
          "output_type": "execute_result",
          "data": {
            "text/plain": [
              "np.int64(4)"
            ]
          },
          "metadata": {},
          "execution_count": 152
        }
      ]
    },
    {
      "cell_type": "code",
      "source": [
        "# we can pull this thing by multi dimensional selection of numpy\n",
        "# A [d1, d2, d3, d4]\n",
        "A[1,0]"
      ],
      "metadata": {
        "id": "3079wK9MyTNc",
        "outputId": "ee6c7563-56f7-4a06-86c0-ee26ebca48a8",
        "colab": {
          "base_uri": "https://localhost:8080/"
        }
      },
      "execution_count": null,
      "outputs": [
        {
          "output_type": "execute_result",
          "data": {
            "text/plain": [
              "np.int64(4)"
            ]
          },
          "metadata": {},
          "execution_count": 153
        }
      ]
    },
    {
      "cell_type": "code",
      "source": [
        "print(\"only brings 1st and 2nd row of matrix A\")\n",
        "A[0:2]"
      ],
      "metadata": {
        "id": "gf_FAExlypus",
        "outputId": "69b3fbe2-2fe6-4bb3-e574-15184c1ce5a8",
        "colab": {
          "base_uri": "https://localhost:8080/"
        }
      },
      "execution_count": null,
      "outputs": [
        {
          "output_type": "stream",
          "name": "stdout",
          "text": [
            "only brings 1st and 2nd row of matrix A\n"
          ]
        },
        {
          "output_type": "execute_result",
          "data": {
            "text/plain": [
              "array([[1, 2, 3],\n",
              "       [4, 5, 6]])"
            ]
          },
          "metadata": {},
          "execution_count": 154
        }
      ]
    },
    {
      "cell_type": "code",
      "source": [
        "print(\"Brings 1st and 2nd colum of all three rows from matrix A\")\n",
        "A[:, :2],"
      ],
      "metadata": {
        "id": "1gtlnwGAy71V",
        "outputId": "f2f2c199-3d93-4b31-9f92-7443ce0ce210",
        "colab": {
          "base_uri": "https://localhost:8080/"
        }
      },
      "execution_count": null,
      "outputs": [
        {
          "output_type": "stream",
          "name": "stdout",
          "text": [
            "Brings 1st and 2nd colum of all three rows from matrix A\n"
          ]
        },
        {
          "output_type": "execute_result",
          "data": {
            "text/plain": [
              "(array([[1, 2],\n",
              "        [4, 5],\n",
              "        [7, 8]]),)"
            ]
          },
          "metadata": {},
          "execution_count": 155
        }
      ]
    },
    {
      "cell_type": "code",
      "source": [
        "print(\"Brings first 2 elements from 1st and 2nd row\")\n",
        "A[:2, :2],"
      ],
      "metadata": {
        "id": "eS1I3xxyzwt9",
        "outputId": "d2bcc543-caa9-4682-fa55-faa202f88e4f",
        "colab": {
          "base_uri": "https://localhost:8080/"
        }
      },
      "execution_count": null,
      "outputs": [
        {
          "output_type": "stream",
          "name": "stdout",
          "text": [
            "Brings first 2 elements from 1st and 2nd row\n"
          ]
        },
        {
          "output_type": "execute_result",
          "data": {
            "text/plain": [
              "(array([[1, 2],\n",
              "        [4, 5]]),)"
            ]
          },
          "metadata": {},
          "execution_count": 156
        }
      ]
    },
    {
      "cell_type": "code",
      "source": [
        "print(\"Taking the last column (index 2) from the first two rows\")\n",
        "A[:2, 2:]"
      ],
      "metadata": {
        "id": "gASx0_9y0tx-",
        "outputId": "f6d8e48e-7d97-4c19-ff80-af5035cb5071",
        "colab": {
          "base_uri": "https://localhost:8080/"
        }
      },
      "execution_count": null,
      "outputs": [
        {
          "output_type": "stream",
          "name": "stdout",
          "text": [
            "Taking the last column (index 2) from the first two rows\n"
          ]
        },
        {
          "output_type": "execute_result",
          "data": {
            "text/plain": [
              "array([[3],\n",
              "       [6]])"
            ]
          },
          "metadata": {},
          "execution_count": 157
        }
      ]
    },
    {
      "cell_type": "markdown",
      "source": [
        "# For Modification of an Array"
      ],
      "metadata": {
        "id": "hf8iM24t1yiW"
      }
    },
    {
      "cell_type": "code",
      "source": [
        "A"
      ],
      "metadata": {
        "id": "wO9wDMDI1wDe",
        "outputId": "c508bb76-6eb2-4853-c620-31ce1193662b",
        "colab": {
          "base_uri": "https://localhost:8080/"
        }
      },
      "execution_count": null,
      "outputs": [
        {
          "output_type": "execute_result",
          "data": {
            "text/plain": [
              "array([[1, 2, 3],\n",
              "       [4, 5, 6],\n",
              "       [7, 8, 9]])"
            ]
          },
          "metadata": {},
          "execution_count": 158
        }
      ]
    },
    {
      "cell_type": "code",
      "source": [
        "A[1] = np.array([10, 10, 10])\n",
        "A\n",
        "print(A, \"\\n\\nThe above code modifies the value of 1st row and enters the new values as instructed\")"
      ],
      "metadata": {
        "id": "X7UtizU-15Hd",
        "outputId": "c38aacb5-7b14-4a87-8a9d-29b482c232a2",
        "colab": {
          "base_uri": "https://localhost:8080/"
        }
      },
      "execution_count": null,
      "outputs": [
        {
          "output_type": "stream",
          "name": "stdout",
          "text": [
            "[[ 1  2  3]\n",
            " [10 10 10]\n",
            " [ 7  8  9]] \n",
            "\n",
            "The above code modifies the value of 1st row and enters the new values as instructed\n"
          ]
        }
      ]
    },
    {
      "cell_type": "code",
      "source": [
        "print(\"This Below code tries to modify the 2nd row and last column of an element to change as 99.\")\n",
        "A[2,2] = 99\n",
        "A"
      ],
      "metadata": {
        "id": "zzKMI6YV2lUu",
        "outputId": "a3030072-993d-4b2e-899f-2ea887ce04e3",
        "colab": {
          "base_uri": "https://localhost:8080/"
        }
      },
      "execution_count": null,
      "outputs": [
        {
          "output_type": "stream",
          "name": "stdout",
          "text": [
            "This Below code tries to modify the 2nd row and last column of an element to change as 99.\n"
          ]
        },
        {
          "output_type": "execute_result",
          "data": {
            "text/plain": [
              "array([[ 1,  2,  3],\n",
              "       [10, 10, 10],\n",
              "       [ 7,  8, 99]])"
            ]
          },
          "metadata": {},
          "execution_count": 160
        }
      ]
    },
    {
      "cell_type": "code",
      "source": [
        "A"
      ],
      "metadata": {
        "id": "nBvz3G8U2ry1",
        "outputId": "b066b57f-b9ff-47cb-c82f-4826214c9a18",
        "colab": {
          "base_uri": "https://localhost:8080/"
        }
      },
      "execution_count": null,
      "outputs": [
        {
          "output_type": "execute_result",
          "data": {
            "text/plain": [
              "array([[ 1,  2,  3],\n",
              "       [10, 10, 10],\n",
              "       [ 7,  8, 99]])"
            ]
          },
          "metadata": {},
          "execution_count": 161
        }
      ]
    },
    {
      "cell_type": "markdown",
      "source": [
        "# Summary Statistics\n",
        "For one dimensional array"
      ],
      "metadata": {
        "id": "5irD0ITp3ECu"
      }
    },
    {
      "cell_type": "code",
      "source": [
        "a = np.array([1,2,3,4])"
      ],
      "metadata": {
        "id": "upPSn1kS28eN"
      },
      "execution_count": null,
      "outputs": []
    },
    {
      "cell_type": "code",
      "source": [
        "a.sum()"
      ],
      "metadata": {
        "id": "mUwjwDcw3KmV",
        "outputId": "8760877c-81be-41b3-8096-6cde500a5717",
        "colab": {
          "base_uri": "https://localhost:8080/"
        }
      },
      "execution_count": null,
      "outputs": [
        {
          "output_type": "execute_result",
          "data": {
            "text/plain": [
              "np.int64(10)"
            ]
          },
          "metadata": {},
          "execution_count": 163
        }
      ]
    },
    {
      "cell_type": "code",
      "source": [
        "a.mean()"
      ],
      "metadata": {
        "id": "KyANtfnQ3Mhd",
        "outputId": "92a4d3f1-6031-43f4-adc3-5d718a49a20d",
        "colab": {
          "base_uri": "https://localhost:8080/"
        }
      },
      "execution_count": null,
      "outputs": [
        {
          "output_type": "execute_result",
          "data": {
            "text/plain": [
              "np.float64(2.5)"
            ]
          },
          "metadata": {},
          "execution_count": 164
        }
      ]
    },
    {
      "cell_type": "code",
      "source": [
        "a.std()"
      ],
      "metadata": {
        "id": "ABKU6pZR3Ojv",
        "outputId": "f7c846ba-1cd9-4522-8a5a-6b84d25b9d27",
        "colab": {
          "base_uri": "https://localhost:8080/"
        }
      },
      "execution_count": null,
      "outputs": [
        {
          "output_type": "execute_result",
          "data": {
            "text/plain": [
              "np.float64(1.118033988749895)"
            ]
          },
          "metadata": {},
          "execution_count": 165
        }
      ]
    },
    {
      "cell_type": "code",
      "source": [
        "a.var()"
      ],
      "metadata": {
        "id": "fEQ98tyD3Rmt",
        "outputId": "63f9c931-21c2-45fb-b921-f30a7b37f5c3",
        "colab": {
          "base_uri": "https://localhost:8080/"
        }
      },
      "execution_count": null,
      "outputs": [
        {
          "output_type": "execute_result",
          "data": {
            "text/plain": [
              "np.float64(1.25)"
            ]
          },
          "metadata": {},
          "execution_count": 166
        }
      ]
    },
    {
      "cell_type": "markdown",
      "source": [
        "For Matrixes 👇"
      ],
      "metadata": {
        "id": "iAG9p12h3XQG"
      }
    },
    {
      "cell_type": "code",
      "source": [
        "A"
      ],
      "metadata": {
        "id": "FrQFbN3X3px-",
        "outputId": "bf0a5d99-ce7a-4517-95fe-2a1c10950ca4",
        "colab": {
          "base_uri": "https://localhost:8080/"
        }
      },
      "execution_count": null,
      "outputs": [
        {
          "output_type": "execute_result",
          "data": {
            "text/plain": [
              "array([[ 1,  2,  3],\n",
              "       [10, 10, 10],\n",
              "       [ 7,  8, 99]])"
            ]
          },
          "metadata": {},
          "execution_count": 168
        }
      ]
    },
    {
      "cell_type": "code",
      "source": [
        "A.sum()"
      ],
      "metadata": {
        "id": "srR-ulH83oXO",
        "outputId": "34139c8f-5330-4339-cf2a-308464dad122",
        "colab": {
          "base_uri": "https://localhost:8080/"
        }
      },
      "execution_count": null,
      "outputs": [
        {
          "output_type": "execute_result",
          "data": {
            "text/plain": [
              "np.int64(150)"
            ]
          },
          "metadata": {},
          "execution_count": 169
        }
      ]
    },
    {
      "cell_type": "code",
      "source": [
        "A.mean()"
      ],
      "metadata": {
        "id": "CcDMUnnb4ATG",
        "outputId": "15e462b1-e6bc-4aba-b8e9-91f53701075a",
        "colab": {
          "base_uri": "https://localhost:8080/"
        }
      },
      "execution_count": null,
      "outputs": [
        {
          "output_type": "execute_result",
          "data": {
            "text/plain": [
              "np.float64(16.666666666666668)"
            ]
          },
          "metadata": {},
          "execution_count": 170
        }
      ]
    },
    {
      "cell_type": "code",
      "source": [
        "A.std()"
      ],
      "metadata": {
        "id": "m7OO9bjF4B9O",
        "outputId": "0f691cef-1c05-4aa6-93c8-7c39bd1f597d",
        "colab": {
          "base_uri": "https://localhost:8080/",
          "height": 141
        }
      },
      "execution_count": 1,
      "outputs": [
        {
          "output_type": "error",
          "ename": "NameError",
          "evalue": "name 'A' is not defined",
          "traceback": [
            "\u001b[0;31m---------------------------------------------------------------------------\u001b[0m",
            "\u001b[0;31mNameError\u001b[0m                                 Traceback (most recent call last)",
            "\u001b[0;32m/tmp/ipython-input-151268423.py\u001b[0m in \u001b[0;36m<cell line: 0>\u001b[0;34m()\u001b[0m\n\u001b[0;32m----> 1\u001b[0;31m \u001b[0mA\u001b[0m\u001b[0;34m.\u001b[0m\u001b[0mstd\u001b[0m\u001b[0;34m(\u001b[0m\u001b[0;34m)\u001b[0m\u001b[0;34m\u001b[0m\u001b[0;34m\u001b[0m\u001b[0m\n\u001b[0m",
            "\u001b[0;31mNameError\u001b[0m: name 'A' is not defined"
          ]
        }
      ]
    }
  ],
  "metadata": {
    "colab": {
      "name": "Welcome To Colab",
      "provenance": [],
      "include_colab_link": true
    },
    "kernelspec": {
      "display_name": "Python 3",
      "name": "python3"
    }
  },
  "nbformat": 4,
  "nbformat_minor": 0
}