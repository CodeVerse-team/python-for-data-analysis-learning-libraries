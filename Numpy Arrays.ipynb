{
  "cells": [
    {
      "cell_type": "markdown",
      "metadata": {
        "id": "view-in-github",
        "colab_type": "text"
      },
      "source": [
        "<a href=\"https://colab.research.google.com/github/CodeVerse-team/python-for-data-analysis-learning-libraries/blob/main/Numpy%20Arrays.ipynb\" target=\"_parent\"><img src=\"https://colab.research.google.com/assets/colab-badge.svg\" alt=\"Open In Colab\"/></a>"
      ]
    },
    {
      "cell_type": "code",
      "source": [
        "import numpy as np\n",
        "import sys"
      ],
      "metadata": {
        "id": "ZQKc202dPtYK"
      },
      "execution_count": 311,
      "outputs": []
    },
    {
      "cell_type": "code",
      "source": [
        "n = 3"
      ],
      "metadata": {
        "id": "uMegn6gMzAGZ"
      },
      "execution_count": 312,
      "outputs": []
    },
    {
      "cell_type": "markdown",
      "source": [
        "# PYTHON FOR DATA ANALYSIS"
      ],
      "metadata": {
        "id": "jPBDpxjAuu_h"
      }
    },
    {
      "cell_type": "code",
      "source": [
        "np.array([1,2,3,4])"
      ],
      "metadata": {
        "id": "6n7Z7Y3KzosB",
        "outputId": "d1cedb4f-aad5-4d41-c099-73e1174e5420",
        "colab": {
          "base_uri": "https://localhost:8080/"
        }
      },
      "execution_count": 313,
      "outputs": [
        {
          "output_type": "execute_result",
          "data": {
            "text/plain": [
              "array([1, 2, 3, 4])"
            ]
          },
          "metadata": {},
          "execution_count": 313
        }
      ]
    },
    {
      "cell_type": "code",
      "source": [
        "a = np.array([1,2,3,4])"
      ],
      "metadata": {
        "id": "lsHECcue3qbo"
      },
      "execution_count": 314,
      "outputs": []
    },
    {
      "cell_type": "code",
      "source": [
        "b = np.array([0, 0.5, 1, 1.5, 2])"
      ],
      "metadata": {
        "id": "QZycf6dl3sc_"
      },
      "execution_count": 315,
      "outputs": []
    },
    {
      "cell_type": "markdown",
      "source": [
        "Calling Eelements in Array 👇"
      ],
      "metadata": {
        "id": "4sn1CzDD39ZS"
      }
    },
    {
      "cell_type": "code",
      "source": [
        "a[0], a[1], b[3]"
      ],
      "metadata": {
        "id": "Vgxje2UY4BtK",
        "outputId": "7ac4e0e9-3fd6-4094-ce32-20b2feba405f",
        "colab": {
          "base_uri": "https://localhost:8080/"
        }
      },
      "execution_count": 316,
      "outputs": [
        {
          "output_type": "execute_result",
          "data": {
            "text/plain": [
              "(np.int64(1), np.int64(2), np.float64(1.5))"
            ]
          },
          "metadata": {},
          "execution_count": 316
        }
      ]
    },
    {
      "cell_type": "markdown",
      "source": [
        "Same goes for the Slicing in python 👇"
      ],
      "metadata": {
        "id": "oM9ppMAk4VUa"
      }
    },
    {
      "cell_type": "code",
      "source": [
        "a[0:]"
      ],
      "metadata": {
        "id": "3AmL86Ky4Tvi",
        "outputId": "ae1a982f-4306-4812-eeb5-00e255865296",
        "colab": {
          "base_uri": "https://localhost:8080/"
        }
      },
      "execution_count": 317,
      "outputs": [
        {
          "output_type": "execute_result",
          "data": {
            "text/plain": [
              "array([1, 2, 3, 4])"
            ]
          },
          "metadata": {},
          "execution_count": 317
        }
      ]
    },
    {
      "cell_type": "code",
      "source": [
        "a[1:3]"
      ],
      "metadata": {
        "id": "KUhIlt_N4f8A",
        "outputId": "07958fdc-b71e-4424-f950-5ae62d028238",
        "colab": {
          "base_uri": "https://localhost:8080/"
        }
      },
      "execution_count": 318,
      "outputs": [
        {
          "output_type": "execute_result",
          "data": {
            "text/plain": [
              "array([2, 3])"
            ]
          },
          "metadata": {},
          "execution_count": 318
        }
      ]
    },
    {
      "cell_type": "code",
      "source": [
        "a[1:-1]"
      ],
      "metadata": {
        "id": "UG0vuQph4iV4",
        "outputId": "c09f77d2-a782-49d6-f30f-63364c3f2220",
        "colab": {
          "base_uri": "https://localhost:8080/"
        }
      },
      "execution_count": 319,
      "outputs": [
        {
          "output_type": "execute_result",
          "data": {
            "text/plain": [
              "array([2, 3])"
            ]
          },
          "metadata": {},
          "execution_count": 319
        }
      ]
    },
    {
      "cell_type": "code",
      "source": [
        "a[::2]"
      ],
      "metadata": {
        "id": "7zAAlyK24t6v",
        "outputId": "1d2914b0-5300-4169-c6c8-b24c6864b0aa",
        "colab": {
          "base_uri": "https://localhost:8080/"
        }
      },
      "execution_count": 320,
      "outputs": [
        {
          "output_type": "execute_result",
          "data": {
            "text/plain": [
              "array([1, 3])"
            ]
          },
          "metadata": {},
          "execution_count": 320
        }
      ]
    },
    {
      "cell_type": "code",
      "source": [
        "b[0], b[2], b[-1]"
      ],
      "metadata": {
        "id": "iNiX2grR41pQ",
        "outputId": "fe7761b0-48be-4c3b-9655-19e88b15692e",
        "colab": {
          "base_uri": "https://localhost:8080/"
        }
      },
      "execution_count": 321,
      "outputs": [
        {
          "output_type": "execute_result",
          "data": {
            "text/plain": [
              "(np.float64(0.0), np.float64(1.0), np.float64(2.0))"
            ]
          },
          "metadata": {},
          "execution_count": 321
        }
      ]
    },
    {
      "cell_type": "markdown",
      "source": [
        "# Array Types"
      ],
      "metadata": {
        "id": "mwyedRVLoTB6"
      }
    },
    {
      "cell_type": "code",
      "source": [
        "b, a"
      ],
      "metadata": {
        "colab": {
          "base_uri": "https://localhost:8080/"
        },
        "id": "7Ta9jUppn2i0",
        "outputId": "f1978fd6-13e4-4fb2-821c-cf720ffb62a9"
      },
      "execution_count": 322,
      "outputs": [
        {
          "output_type": "execute_result",
          "data": {
            "text/plain": [
              "(array([0. , 0.5, 1. , 1.5, 2. ]), array([1, 2, 3, 4]))"
            ]
          },
          "metadata": {},
          "execution_count": 322
        }
      ]
    },
    {
      "cell_type": "code",
      "source": [
        "b[0], b[2], b[-1]"
      ],
      "metadata": {
        "colab": {
          "base_uri": "https://localhost:8080/"
        },
        "id": "hzOimfoUpmdT",
        "outputId": "17e6c3d7-68bb-4acf-9c03-71664a134e4c"
      },
      "execution_count": 323,
      "outputs": [
        {
          "output_type": "execute_result",
          "data": {
            "text/plain": [
              "(np.float64(0.0), np.float64(1.0), np.float64(2.0))"
            ]
          },
          "metadata": {},
          "execution_count": 323
        }
      ]
    },
    {
      "cell_type": "code",
      "source": [
        "b[[0, 2, -1]]"
      ],
      "metadata": {
        "colab": {
          "base_uri": "https://localhost:8080/"
        },
        "id": "TvebVYbIq4Ys",
        "outputId": "d20112f5-ede8-4093-c872-baf9a7e166b2"
      },
      "execution_count": 324,
      "outputs": [
        {
          "output_type": "execute_result",
          "data": {
            "text/plain": [
              "array([0., 1., 2.])"
            ]
          },
          "metadata": {},
          "execution_count": 324
        }
      ]
    },
    {
      "cell_type": "code",
      "source": [
        "b.dtype"
      ],
      "metadata": {
        "id": "Fb3Daqqor1X7",
        "outputId": "7807c9cf-b497-493e-be23-ef37455f2117",
        "colab": {
          "base_uri": "https://localhost:8080/"
        }
      },
      "execution_count": 325,
      "outputs": [
        {
          "output_type": "execute_result",
          "data": {
            "text/plain": [
              "dtype('float64')"
            ]
          },
          "metadata": {},
          "execution_count": 325
        }
      ]
    },
    {
      "cell_type": "code",
      "source": [
        "c = np.array(['a', 'b', 'c'])\n",
        "c"
      ],
      "metadata": {
        "id": "Z0PD-weBsLBS",
        "outputId": "cc24061f-9e22-497b-d853-89b5e0c4dbe7",
        "colab": {
          "base_uri": "https://localhost:8080/"
        }
      },
      "execution_count": 326,
      "outputs": [
        {
          "output_type": "execute_result",
          "data": {
            "text/plain": [
              "array(['a', 'b', 'c'], dtype='<U1')"
            ]
          },
          "metadata": {},
          "execution_count": 326
        }
      ]
    },
    {
      "cell_type": "markdown",
      "source": [
        "Numpy doesn't store stirngs or any other extra stuffs!\n",
        "\n",
        "---\n",
        "\n",
        "We Can Create Multi Dimensional Arrays in Numpy using python"
      ],
      "metadata": {
        "id": "p81JqBDhsW-b"
      }
    },
    {
      "cell_type": "code",
      "source": [
        "A = np.array([\n",
        "    [1,2,3],\n",
        "    [4,5,6],\n",
        "])"
      ],
      "metadata": {
        "id": "yH4PoO-7sdH0"
      },
      "execution_count": 327,
      "outputs": []
    },
    {
      "cell_type": "code",
      "source": [
        "A.shape # shows the count of rows and column"
      ],
      "metadata": {
        "id": "UuCbZkOdti1k",
        "outputId": "c87e1a73-7e2a-454f-dd46-5b666e992b91",
        "colab": {
          "base_uri": "https://localhost:8080/"
        }
      },
      "execution_count": 328,
      "outputs": [
        {
          "output_type": "execute_result",
          "data": {
            "text/plain": [
              "(2, 3)"
            ]
          },
          "metadata": {},
          "execution_count": 328
        }
      ]
    },
    {
      "cell_type": "code",
      "source": [
        "A.ndim # ndim is no. of dimension in the matrix in vertical and horizontal terms"
      ],
      "metadata": {
        "id": "ruuayprytwkz",
        "outputId": "1b29748a-7e30-49aa-e886-92744c5b8f58",
        "colab": {
          "base_uri": "https://localhost:8080/"
        }
      },
      "execution_count": 329,
      "outputs": [
        {
          "output_type": "execute_result",
          "data": {
            "text/plain": [
              "2"
            ]
          },
          "metadata": {},
          "execution_count": 329
        }
      ]
    },
    {
      "cell_type": "code",
      "source": [
        "A.size # size is a count of elements"
      ],
      "metadata": {
        "id": "6VkLMl3Xt3zr",
        "outputId": "eb8a3063-287c-477d-c7e9-d929f6727cb4",
        "colab": {
          "base_uri": "https://localhost:8080/"
        }
      },
      "execution_count": 330,
      "outputs": [
        {
          "output_type": "execute_result",
          "data": {
            "text/plain": [
              "6"
            ]
          },
          "metadata": {},
          "execution_count": 330
        }
      ]
    },
    {
      "cell_type": "code",
      "source": [
        "B = np.array([\n",
        "    [\n",
        "        [12,13,10],\n",
        "        [9,7,8],\n",
        "    ],\n",
        "    [\n",
        "        [6,7,8],\n",
        "        [3,2,1]\n",
        "    ]\n",
        "])"
      ],
      "metadata": {
        "id": "xhuxfLvRuOPU"
      },
      "execution_count": 331,
      "outputs": []
    },
    {
      "cell_type": "code",
      "source": [
        "B"
      ],
      "metadata": {
        "id": "ZYXSgdSuuoZt",
        "outputId": "aa6ca2fe-bcae-4548-d921-34e9851e6740",
        "colab": {
          "base_uri": "https://localhost:8080/"
        }
      },
      "execution_count": 332,
      "outputs": [
        {
          "output_type": "execute_result",
          "data": {
            "text/plain": [
              "array([[[12, 13, 10],\n",
              "        [ 9,  7,  8]],\n",
              "\n",
              "       [[ 6,  7,  8],\n",
              "        [ 3,  2,  1]]])"
            ]
          },
          "metadata": {},
          "execution_count": 332
        }
      ]
    },
    {
      "cell_type": "code",
      "source": [
        "B.shape"
      ],
      "metadata": {
        "id": "ayt04w1wus4S",
        "outputId": "5e3a89ee-aed6-4b0b-89e1-3d398c887802",
        "colab": {
          "base_uri": "https://localhost:8080/"
        }
      },
      "execution_count": 333,
      "outputs": [
        {
          "output_type": "execute_result",
          "data": {
            "text/plain": [
              "(2, 2, 3)"
            ]
          },
          "metadata": {},
          "execution_count": 333
        }
      ]
    },
    {
      "cell_type": "code",
      "source": [
        "B.ndim"
      ],
      "metadata": {
        "id": "-659hAt-uuVb",
        "outputId": "21c183d0-df06-49ac-a86b-04aa647166a5",
        "colab": {
          "base_uri": "https://localhost:8080/"
        }
      },
      "execution_count": 334,
      "outputs": [
        {
          "output_type": "execute_result",
          "data": {
            "text/plain": [
              "3"
            ]
          },
          "metadata": {},
          "execution_count": 334
        }
      ]
    },
    {
      "cell_type": "code",
      "source": [
        "B.size"
      ],
      "metadata": {
        "id": "d9YDTmRTuvvz",
        "outputId": "ba7e3946-7a26-4f38-af86-5b4578887fc6",
        "colab": {
          "base_uri": "https://localhost:8080/"
        }
      },
      "execution_count": 335,
      "outputs": [
        {
          "output_type": "execute_result",
          "data": {
            "text/plain": [
              "12"
            ]
          },
          "metadata": {},
          "execution_count": 335
        }
      ]
    },
    {
      "cell_type": "markdown",
      "source": [
        "If the Shape isn't consistent, it'll just fall back to regular Python objects:"
      ],
      "metadata": {
        "id": "XcMVIRpOu3yt"
      }
    },
    {
      "cell_type": "code",
      "source": [
        "Candy = np.array([\n",
        "    [\n",
        "        [12,11,14],\n",
        "        [3,5,7],\n",
        "    ],\n",
        "    [\n",
        "        [3,4,5],\n",
        "        [3,4,5]\n",
        "    ]\n",
        "])"
      ],
      "metadata": {
        "id": "1Re4QasPvB5T"
      },
      "execution_count": 336,
      "outputs": []
    },
    {
      "cell_type": "code",
      "source": [
        "Candy"
      ],
      "metadata": {
        "id": "SuzXA6nFvj29",
        "outputId": "74f5b840-072e-41a0-c59f-cbff25010541",
        "colab": {
          "base_uri": "https://localhost:8080/"
        }
      },
      "execution_count": 337,
      "outputs": [
        {
          "output_type": "execute_result",
          "data": {
            "text/plain": [
              "array([[[12, 11, 14],\n",
              "        [ 3,  5,  7]],\n",
              "\n",
              "       [[ 3,  4,  5],\n",
              "        [ 3,  4,  5]]])"
            ]
          },
          "metadata": {},
          "execution_count": 337
        }
      ]
    },
    {
      "cell_type": "code",
      "source": [
        "Candy.shape"
      ],
      "metadata": {
        "id": "VhmLJFfNw8KE",
        "outputId": "497d31a6-dc37-4c79-88fd-0c63c0861185",
        "colab": {
          "base_uri": "https://localhost:8080/"
        }
      },
      "execution_count": 338,
      "outputs": [
        {
          "output_type": "execute_result",
          "data": {
            "text/plain": [
              "(2, 2, 3)"
            ]
          },
          "metadata": {},
          "execution_count": 338
        }
      ]
    },
    {
      "cell_type": "markdown",
      "source": [
        "# Indexing and Slicing of Matrices"
      ],
      "metadata": {
        "id": "2LQ6jJDexB2t"
      }
    },
    {
      "cell_type": "code",
      "source": [
        "# Square Matrix\n",
        "A = np.array([\n",
        "   # 0 1 2\n",
        "    [1,2,3], # 0\n",
        "    [4,5,6], # 1\n",
        "    [7,8,9]  # 2\n",
        "])\n",
        "A"
      ],
      "metadata": {
        "id": "CARawmawxEes",
        "outputId": "fda1e801-876f-4b2a-b8d1-44e80c512ced",
        "colab": {
          "base_uri": "https://localhost:8080/"
        }
      },
      "execution_count": 339,
      "outputs": [
        {
          "output_type": "execute_result",
          "data": {
            "text/plain": [
              "array([[1, 2, 3],\n",
              "       [4, 5, 6],\n",
              "       [7, 8, 9]])"
            ]
          },
          "metadata": {},
          "execution_count": 339
        }
      ]
    },
    {
      "cell_type": "code",
      "source": [
        "A[1] # it by default selects the row."
      ],
      "metadata": {
        "id": "fPu2Bwz4xpSl",
        "outputId": "6325c2c3-c68e-47f2-8a48-be369bdfd3ec",
        "colab": {
          "base_uri": "https://localhost:8080/"
        }
      },
      "execution_count": 340,
      "outputs": [
        {
          "output_type": "execute_result",
          "data": {
            "text/plain": [
              "array([4, 5, 6])"
            ]
          },
          "metadata": {},
          "execution_count": 340
        }
      ]
    },
    {
      "cell_type": "code",
      "source": [
        "A[1][0] # to select the first element of second row"
      ],
      "metadata": {
        "id": "hw4RvLCjyGQl",
        "outputId": "7624d5dc-d969-404e-afd2-815753d5e83a",
        "colab": {
          "base_uri": "https://localhost:8080/"
        }
      },
      "execution_count": 341,
      "outputs": [
        {
          "output_type": "execute_result",
          "data": {
            "text/plain": [
              "np.int64(4)"
            ]
          },
          "metadata": {},
          "execution_count": 341
        }
      ]
    },
    {
      "cell_type": "code",
      "source": [
        "# we can pull this thing by multi dimensional selection of numpy\n",
        "# A [d1, d2, d3, d4]\n",
        "A[1,0]"
      ],
      "metadata": {
        "id": "3079wK9MyTNc",
        "outputId": "0d317235-de51-4907-a2a2-1c3714e3169f",
        "colab": {
          "base_uri": "https://localhost:8080/"
        }
      },
      "execution_count": 342,
      "outputs": [
        {
          "output_type": "execute_result",
          "data": {
            "text/plain": [
              "np.int64(4)"
            ]
          },
          "metadata": {},
          "execution_count": 342
        }
      ]
    },
    {
      "cell_type": "code",
      "source": [
        "print(\"only brings 1st and 2nd row of matrix A\")\n",
        "A[0:2]"
      ],
      "metadata": {
        "id": "gf_FAExlypus",
        "outputId": "315086c6-1e4c-45b9-8551-24a5ffec2793",
        "colab": {
          "base_uri": "https://localhost:8080/"
        }
      },
      "execution_count": 343,
      "outputs": [
        {
          "output_type": "stream",
          "name": "stdout",
          "text": [
            "only brings 1st and 2nd row of matrix A\n"
          ]
        },
        {
          "output_type": "execute_result",
          "data": {
            "text/plain": [
              "array([[1, 2, 3],\n",
              "       [4, 5, 6]])"
            ]
          },
          "metadata": {},
          "execution_count": 343
        }
      ]
    },
    {
      "cell_type": "code",
      "source": [
        "print(\"Brings 1st and 2nd colum of all three rows from matrix A\")\n",
        "A[:, :2],"
      ],
      "metadata": {
        "id": "1gtlnwGAy71V",
        "outputId": "1d33a2db-abd3-485e-e526-00287411b61c",
        "colab": {
          "base_uri": "https://localhost:8080/"
        }
      },
      "execution_count": 344,
      "outputs": [
        {
          "output_type": "stream",
          "name": "stdout",
          "text": [
            "Brings 1st and 2nd colum of all three rows from matrix A\n"
          ]
        },
        {
          "output_type": "execute_result",
          "data": {
            "text/plain": [
              "(array([[1, 2],\n",
              "        [4, 5],\n",
              "        [7, 8]]),)"
            ]
          },
          "metadata": {},
          "execution_count": 344
        }
      ]
    },
    {
      "cell_type": "code",
      "source": [
        "print(\"Brings first 2 elements from 1st and 2nd row\")\n",
        "A[:2, :2],"
      ],
      "metadata": {
        "id": "eS1I3xxyzwt9",
        "outputId": "24dbcef5-07d3-476f-d893-62f72722cfb5",
        "colab": {
          "base_uri": "https://localhost:8080/"
        }
      },
      "execution_count": 345,
      "outputs": [
        {
          "output_type": "stream",
          "name": "stdout",
          "text": [
            "Brings first 2 elements from 1st and 2nd row\n"
          ]
        },
        {
          "output_type": "execute_result",
          "data": {
            "text/plain": [
              "(array([[1, 2],\n",
              "        [4, 5]]),)"
            ]
          },
          "metadata": {},
          "execution_count": 345
        }
      ]
    },
    {
      "cell_type": "code",
      "source": [
        "print(\"Taking the last column (index 2) from the first two rows\")\n",
        "A[:2, 2:]"
      ],
      "metadata": {
        "id": "gASx0_9y0tx-",
        "outputId": "52f60694-6aa3-4066-dff4-0d76ff1c7447",
        "colab": {
          "base_uri": "https://localhost:8080/"
        }
      },
      "execution_count": 346,
      "outputs": [
        {
          "output_type": "stream",
          "name": "stdout",
          "text": [
            "Taking the last column (index 2) from the first two rows\n"
          ]
        },
        {
          "output_type": "execute_result",
          "data": {
            "text/plain": [
              "array([[3],\n",
              "       [6]])"
            ]
          },
          "metadata": {},
          "execution_count": 346
        }
      ]
    },
    {
      "cell_type": "markdown",
      "source": [
        "# For Modification of an Array"
      ],
      "metadata": {
        "id": "hf8iM24t1yiW"
      }
    },
    {
      "cell_type": "code",
      "source": [
        "A"
      ],
      "metadata": {
        "id": "wO9wDMDI1wDe",
        "outputId": "4f2e626b-db89-4e1b-812a-e47adb47df32",
        "colab": {
          "base_uri": "https://localhost:8080/"
        }
      },
      "execution_count": 347,
      "outputs": [
        {
          "output_type": "execute_result",
          "data": {
            "text/plain": [
              "array([[1, 2, 3],\n",
              "       [4, 5, 6],\n",
              "       [7, 8, 9]])"
            ]
          },
          "metadata": {},
          "execution_count": 347
        }
      ]
    },
    {
      "cell_type": "code",
      "source": [
        "A[1] = np.array([10, 10, 10])\n",
        "A\n",
        "print(A, \"\\n\\nThe above code modifies the value of 1st row and enters the new values as instructed\")"
      ],
      "metadata": {
        "id": "X7UtizU-15Hd",
        "outputId": "0a12b3dc-0b92-47e9-dc62-6499b7dd2135",
        "colab": {
          "base_uri": "https://localhost:8080/"
        }
      },
      "execution_count": 348,
      "outputs": [
        {
          "output_type": "stream",
          "name": "stdout",
          "text": [
            "[[ 1  2  3]\n",
            " [10 10 10]\n",
            " [ 7  8  9]] \n",
            "\n",
            "The above code modifies the value of 1st row and enters the new values as instructed\n"
          ]
        }
      ]
    },
    {
      "cell_type": "code",
      "source": [
        "print(\"This Below code tries to modify the 2nd row and last column of an element to change as 99.\")\n",
        "A[2,2] = 99\n",
        "A"
      ],
      "metadata": {
        "id": "zzKMI6YV2lUu",
        "outputId": "2ed124ce-f910-4f8e-8629-f4a02463556a",
        "colab": {
          "base_uri": "https://localhost:8080/"
        }
      },
      "execution_count": 349,
      "outputs": [
        {
          "output_type": "stream",
          "name": "stdout",
          "text": [
            "This Below code tries to modify the 2nd row and last column of an element to change as 99.\n"
          ]
        },
        {
          "output_type": "execute_result",
          "data": {
            "text/plain": [
              "array([[ 1,  2,  3],\n",
              "       [10, 10, 10],\n",
              "       [ 7,  8, 99]])"
            ]
          },
          "metadata": {},
          "execution_count": 349
        }
      ]
    },
    {
      "cell_type": "code",
      "source": [
        "A"
      ],
      "metadata": {
        "id": "nBvz3G8U2ry1",
        "outputId": "1fab7791-939e-4a70-e559-b5354029bd0b",
        "colab": {
          "base_uri": "https://localhost:8080/"
        }
      },
      "execution_count": 350,
      "outputs": [
        {
          "output_type": "execute_result",
          "data": {
            "text/plain": [
              "array([[ 1,  2,  3],\n",
              "       [10, 10, 10],\n",
              "       [ 7,  8, 99]])"
            ]
          },
          "metadata": {},
          "execution_count": 350
        }
      ]
    },
    {
      "cell_type": "markdown",
      "source": [
        "# Summary Statistics\n",
        "---\n",
        "For one dimensional array 👇"
      ],
      "metadata": {
        "id": "5irD0ITp3ECu"
      }
    },
    {
      "cell_type": "code",
      "source": [
        "a = np.array([1,2,3,4])"
      ],
      "metadata": {
        "id": "upPSn1kS28eN"
      },
      "execution_count": 351,
      "outputs": []
    },
    {
      "cell_type": "code",
      "source": [
        "a.sum()"
      ],
      "metadata": {
        "id": "mUwjwDcw3KmV",
        "outputId": "fafc70c4-26b8-414c-a8e5-e19b7443d184",
        "colab": {
          "base_uri": "https://localhost:8080/"
        }
      },
      "execution_count": 352,
      "outputs": [
        {
          "output_type": "execute_result",
          "data": {
            "text/plain": [
              "np.int64(10)"
            ]
          },
          "metadata": {},
          "execution_count": 352
        }
      ]
    },
    {
      "cell_type": "code",
      "source": [
        "a.mean()"
      ],
      "metadata": {
        "id": "KyANtfnQ3Mhd",
        "outputId": "41c40a6f-8913-4975-a1ee-71f850f6e111",
        "colab": {
          "base_uri": "https://localhost:8080/"
        }
      },
      "execution_count": 353,
      "outputs": [
        {
          "output_type": "execute_result",
          "data": {
            "text/plain": [
              "np.float64(2.5)"
            ]
          },
          "metadata": {},
          "execution_count": 353
        }
      ]
    },
    {
      "cell_type": "code",
      "source": [
        "a.std()"
      ],
      "metadata": {
        "id": "ABKU6pZR3Ojv",
        "outputId": "e90bd03e-5875-4545-ac65-9e2a9b4443e7",
        "colab": {
          "base_uri": "https://localhost:8080/"
        }
      },
      "execution_count": 354,
      "outputs": [
        {
          "output_type": "execute_result",
          "data": {
            "text/plain": [
              "np.float64(1.118033988749895)"
            ]
          },
          "metadata": {},
          "execution_count": 354
        }
      ]
    },
    {
      "cell_type": "code",
      "source": [
        "a.var()"
      ],
      "metadata": {
        "id": "fEQ98tyD3Rmt",
        "outputId": "19bf7375-89a8-4e75-8594-4ab62478080b",
        "colab": {
          "base_uri": "https://localhost:8080/"
        }
      },
      "execution_count": 355,
      "outputs": [
        {
          "output_type": "execute_result",
          "data": {
            "text/plain": [
              "np.float64(1.25)"
            ]
          },
          "metadata": {},
          "execution_count": 355
        }
      ]
    },
    {
      "cell_type": "markdown",
      "source": [
        "For Matrixes 👇"
      ],
      "metadata": {
        "id": "iAG9p12h3XQG"
      }
    },
    {
      "cell_type": "code",
      "source": [
        "A"
      ],
      "metadata": {
        "id": "FrQFbN3X3px-",
        "outputId": "014e95c2-a21b-44bb-ed34-259c14332599",
        "colab": {
          "base_uri": "https://localhost:8080/"
        }
      },
      "execution_count": 356,
      "outputs": [
        {
          "output_type": "execute_result",
          "data": {
            "text/plain": [
              "array([[ 1,  2,  3],\n",
              "       [10, 10, 10],\n",
              "       [ 7,  8, 99]])"
            ]
          },
          "metadata": {},
          "execution_count": 356
        }
      ]
    },
    {
      "cell_type": "code",
      "source": [
        "A.sum()"
      ],
      "metadata": {
        "id": "srR-ulH83oXO",
        "outputId": "c462432d-918e-44f9-e79f-ebef3c8cc685",
        "colab": {
          "base_uri": "https://localhost:8080/"
        }
      },
      "execution_count": 357,
      "outputs": [
        {
          "output_type": "execute_result",
          "data": {
            "text/plain": [
              "np.int64(150)"
            ]
          },
          "metadata": {},
          "execution_count": 357
        }
      ]
    },
    {
      "cell_type": "code",
      "source": [
        "A.mean()"
      ],
      "metadata": {
        "id": "CcDMUnnb4ATG",
        "outputId": "43394911-fc21-468d-9956-37fb58b71369",
        "colab": {
          "base_uri": "https://localhost:8080/"
        }
      },
      "execution_count": 358,
      "outputs": [
        {
          "output_type": "execute_result",
          "data": {
            "text/plain": [
              "np.float64(16.666666666666668)"
            ]
          },
          "metadata": {},
          "execution_count": 358
        }
      ]
    },
    {
      "cell_type": "code",
      "source": [
        "A.std()"
      ],
      "metadata": {
        "id": "m7OO9bjF4B9O",
        "colab": {
          "base_uri": "https://localhost:8080/"
        },
        "outputId": "51aa3ac1-a8f7-45da-f599-5cbb48d513ec"
      },
      "execution_count": 359,
      "outputs": [
        {
          "output_type": "execute_result",
          "data": {
            "text/plain": [
              "np.float64(29.30301463444788)"
            ]
          },
          "metadata": {},
          "execution_count": 359
        }
      ]
    },
    {
      "cell_type": "code",
      "source": [
        "A.sum(axis=0)"
      ],
      "metadata": {
        "colab": {
          "base_uri": "https://localhost:8080/"
        },
        "id": "0em870RdOaOc",
        "outputId": "2406341d-45c0-4982-e74e-4105290c3305"
      },
      "execution_count": 360,
      "outputs": [
        {
          "output_type": "execute_result",
          "data": {
            "text/plain": [
              "array([ 18,  20, 112])"
            ]
          },
          "metadata": {},
          "execution_count": 360
        }
      ]
    },
    {
      "cell_type": "code",
      "source": [
        "A.sum(axis=1)"
      ],
      "metadata": {
        "colab": {
          "base_uri": "https://localhost:8080/"
        },
        "id": "DVQK3_WsO0p8",
        "outputId": "0b3dacce-ee7b-45df-a6b0-73e4f099063a"
      },
      "execution_count": 361,
      "outputs": [
        {
          "output_type": "execute_result",
          "data": {
            "text/plain": [
              "array([  6,  30, 114])"
            ]
          },
          "metadata": {},
          "execution_count": 361
        }
      ]
    },
    {
      "cell_type": "markdown",
      "source": [
        "# Broadcasting and Vectorized Operations"
      ],
      "metadata": {
        "id": "XlsjFjOSPGH1"
      }
    },
    {
      "cell_type": "code",
      "source": [
        "ar = np.arange(4)"
      ],
      "metadata": {
        "id": "kFe5k67PO80r"
      },
      "execution_count": 362,
      "outputs": []
    },
    {
      "cell_type": "code",
      "source": [
        "ar"
      ],
      "metadata": {
        "colab": {
          "base_uri": "https://localhost:8080/"
        },
        "id": "MgrlXk0_P7dM",
        "outputId": "c7b16b96-903f-4f9d-a2da-e55d467a961d"
      },
      "execution_count": 363,
      "outputs": [
        {
          "output_type": "execute_result",
          "data": {
            "text/plain": [
              "array([0, 1, 2, 3])"
            ]
          },
          "metadata": {},
          "execution_count": 363
        }
      ]
    },
    {
      "cell_type": "code",
      "source": [
        "ar + 10 # this operation does the addition, subtraction, multiplication and division to all the numbers in the value"
      ],
      "metadata": {
        "colab": {
          "base_uri": "https://localhost:8080/"
        },
        "id": "4YlD1_YTP7rU",
        "outputId": "ff1a77be-5559-46e3-8e10-786e3448cf12"
      },
      "execution_count": 364,
      "outputs": [
        {
          "output_type": "execute_result",
          "data": {
            "text/plain": [
              "array([10, 11, 12, 13])"
            ]
          },
          "metadata": {},
          "execution_count": 364
        }
      ]
    },
    {
      "cell_type": "code",
      "source": [
        "ar * 10"
      ],
      "metadata": {
        "colab": {
          "base_uri": "https://localhost:8080/"
        },
        "id": "Nm67uQtHP9rU",
        "outputId": "2739d50f-a692-4a39-9cc5-58eff4719db2"
      },
      "execution_count": 365,
      "outputs": [
        {
          "output_type": "execute_result",
          "data": {
            "text/plain": [
              "array([ 0, 10, 20, 30])"
            ]
          },
          "metadata": {},
          "execution_count": 365
        }
      ]
    },
    {
      "cell_type": "code",
      "source": [
        "ar"
      ],
      "metadata": {
        "colab": {
          "base_uri": "https://localhost:8080/"
        },
        "id": "5CiZqfjUQDVM",
        "outputId": "60854fc6-b1eb-4cbb-d527-058d878058c0"
      },
      "execution_count": 366,
      "outputs": [
        {
          "output_type": "execute_result",
          "data": {
            "text/plain": [
              "array([0, 1, 2, 3])"
            ]
          },
          "metadata": {},
          "execution_count": 366
        }
      ]
    },
    {
      "cell_type": "code",
      "source": [
        "ar += 100"
      ],
      "metadata": {
        "id": "wgYGcIOZQELz"
      },
      "execution_count": 367,
      "outputs": []
    },
    {
      "cell_type": "code",
      "source": [
        "ar"
      ],
      "metadata": {
        "colab": {
          "base_uri": "https://localhost:8080/"
        },
        "id": "Jm-2-BGfQPus",
        "outputId": "76a0f54e-a216-4524-c868-53b50db6e494"
      },
      "execution_count": 368,
      "outputs": [
        {
          "output_type": "execute_result",
          "data": {
            "text/plain": [
              "array([100, 101, 102, 103])"
            ]
          },
          "metadata": {},
          "execution_count": 368
        }
      ]
    },
    {
      "cell_type": "code",
      "source": [
        "l = [0,1,2,3]"
      ],
      "metadata": {
        "id": "VKuBBYu7Q6Ib"
      },
      "execution_count": 369,
      "outputs": []
    },
    {
      "cell_type": "code",
      "source": [
        "[i*10 for i in l]"
      ],
      "metadata": {
        "id": "NNvapISZQ-Sk",
        "outputId": "73d1817d-5070-4373-9c4f-16fda928603b",
        "colab": {
          "base_uri": "https://localhost:8080/"
        }
      },
      "execution_count": 370,
      "outputs": [
        {
          "output_type": "execute_result",
          "data": {
            "text/plain": [
              "[0, 10, 20, 30]"
            ]
          },
          "metadata": {},
          "execution_count": 370
        }
      ]
    },
    {
      "cell_type": "code",
      "source": [
        "a= np.arange(4)"
      ],
      "metadata": {
        "id": "gsJMvXDXRBAU"
      },
      "execution_count": 371,
      "outputs": []
    },
    {
      "cell_type": "code",
      "source": [
        "a"
      ],
      "metadata": {
        "id": "TLaeJNADRFTk",
        "outputId": "e170b58f-9a25-4e53-e47d-3a18a440d315",
        "colab": {
          "base_uri": "https://localhost:8080/"
        }
      },
      "execution_count": 372,
      "outputs": [
        {
          "output_type": "execute_result",
          "data": {
            "text/plain": [
              "array([0, 1, 2, 3])"
            ]
          },
          "metadata": {},
          "execution_count": 372
        }
      ]
    },
    {
      "cell_type": "code",
      "source": [
        "b = np.array([10,10,10,10])"
      ],
      "metadata": {
        "id": "WybmO6cdRF5E"
      },
      "execution_count": 373,
      "outputs": []
    },
    {
      "cell_type": "code",
      "source": [
        "a + b"
      ],
      "metadata": {
        "id": "0TkGwcsURKAc",
        "outputId": "f1b57fe4-1063-46e0-82f9-48709da6e808",
        "colab": {
          "base_uri": "https://localhost:8080/"
        }
      },
      "execution_count": 374,
      "outputs": [
        {
          "output_type": "execute_result",
          "data": {
            "text/plain": [
              "array([10, 11, 12, 13])"
            ]
          },
          "metadata": {},
          "execution_count": 374
        }
      ]
    },
    {
      "cell_type": "code",
      "source": [
        "a*b"
      ],
      "metadata": {
        "id": "SUu4I_o_RLLk",
        "outputId": "7678d054-140e-4ef9-d80b-6dc43edc5cda",
        "colab": {
          "base_uri": "https://localhost:8080/"
        }
      },
      "execution_count": 375,
      "outputs": [
        {
          "output_type": "execute_result",
          "data": {
            "text/plain": [
              "array([ 0, 10, 20, 30])"
            ]
          },
          "metadata": {},
          "execution_count": 375
        }
      ]
    },
    {
      "cell_type": "markdown",
      "source": [
        "# Boolean Arrays\n",
        "---\n",
        "(Also Called as Masks)\n"
      ],
      "metadata": {
        "id": "rLBEfbsbRT3k"
      }
    },
    {
      "cell_type": "code",
      "source": [
        "a = np.arange(4)"
      ],
      "metadata": {
        "id": "o6BxAyrKRNrk"
      },
      "execution_count": 376,
      "outputs": []
    },
    {
      "cell_type": "code",
      "source": [
        "a"
      ],
      "metadata": {
        "id": "v49jjGeIRwB0",
        "outputId": "d2961814-2536-460c-f29d-7c08e8670a35",
        "colab": {
          "base_uri": "https://localhost:8080/"
        }
      },
      "execution_count": 377,
      "outputs": [
        {
          "output_type": "execute_result",
          "data": {
            "text/plain": [
              "array([0, 1, 2, 3])"
            ]
          },
          "metadata": {},
          "execution_count": 377
        }
      ]
    },
    {
      "cell_type": "code",
      "source": [
        "a[[0, -1]]"
      ],
      "metadata": {
        "id": "GznVpVk_RwP8",
        "outputId": "553253f4-d42b-4b8d-bf8a-dca7a7361824",
        "colab": {
          "base_uri": "https://localhost:8080/"
        }
      },
      "execution_count": 378,
      "outputs": [
        {
          "output_type": "execute_result",
          "data": {
            "text/plain": [
              "array([0, 3])"
            ]
          },
          "metadata": {},
          "execution_count": 378
        }
      ]
    },
    {
      "cell_type": "code",
      "source": [
        "a[[True, False, False, True]]\n",
        "# this represent that in boolean terms we are only selecting the 1st and the last element in the arrays using True and false"
      ],
      "metadata": {
        "id": "MetG9xSkRyut",
        "outputId": "b104b5e5-aa6f-4e8c-ea4e-e16dfc55af73",
        "colab": {
          "base_uri": "https://localhost:8080/"
        }
      },
      "execution_count": 379,
      "outputs": [
        {
          "output_type": "execute_result",
          "data": {
            "text/plain": [
              "array([0, 3])"
            ]
          },
          "metadata": {},
          "execution_count": 379
        }
      ]
    },
    {
      "cell_type": "code",
      "source": [
        "a >= 2\n",
        "# This shows that we are selecting and want to check in terms of boolean that we have a number that is greater than 2 is there or not."
      ],
      "metadata": {
        "id": "FlKc_isqR3UE",
        "outputId": "cf6577a9-c08f-4381-c47f-c6c5d39e266b",
        "colab": {
          "base_uri": "https://localhost:8080/"
        }
      },
      "execution_count": 380,
      "outputs": [
        {
          "output_type": "execute_result",
          "data": {
            "text/plain": [
              "array([False, False,  True,  True])"
            ]
          },
          "metadata": {},
          "execution_count": 380
        }
      ]
    },
    {
      "cell_type": "code",
      "source": [
        "a[a >= 2]"
      ],
      "metadata": {
        "id": "fLxDzlKSSILc",
        "outputId": "9dec2817-8758-43ef-9420-ca936abd758b",
        "colab": {
          "base_uri": "https://localhost:8080/"
        }
      },
      "execution_count": 381,
      "outputs": [
        {
          "output_type": "execute_result",
          "data": {
            "text/plain": [
              "array([2, 3])"
            ]
          },
          "metadata": {},
          "execution_count": 381
        }
      ]
    },
    {
      "cell_type": "code",
      "source": [
        "a.mean()"
      ],
      "metadata": {
        "id": "OVntn2h-SdDU",
        "outputId": "989401b2-178f-4980-ec3e-36ddc718da40",
        "colab": {
          "base_uri": "https://localhost:8080/"
        }
      },
      "execution_count": 382,
      "outputs": [
        {
          "output_type": "execute_result",
          "data": {
            "text/plain": [
              "np.float64(1.5)"
            ]
          },
          "metadata": {},
          "execution_count": 382
        }
      ]
    },
    {
      "cell_type": "code",
      "source": [
        "a[a > a.mean()]"
      ],
      "metadata": {
        "id": "UI8hVSEsSftO",
        "outputId": "961135f3-e626-48c3-c22a-ea6ebcbcb265",
        "colab": {
          "base_uri": "https://localhost:8080/"
        }
      },
      "execution_count": 383,
      "outputs": [
        {
          "output_type": "execute_result",
          "data": {
            "text/plain": [
              "array([2, 3])"
            ]
          },
          "metadata": {},
          "execution_count": 383
        }
      ]
    },
    {
      "cell_type": "code",
      "source": [
        "a[~(a > a.mean())]"
      ],
      "metadata": {
        "id": "01gVgNcpTH7E",
        "outputId": "8320ec47-94a7-4776-8601-b473a9353235",
        "colab": {
          "base_uri": "https://localhost:8080/"
        }
      },
      "execution_count": 384,
      "outputs": [
        {
          "output_type": "execute_result",
          "data": {
            "text/plain": [
              "array([0, 1])"
            ]
          },
          "metadata": {},
          "execution_count": 384
        }
      ]
    },
    {
      "cell_type": "code",
      "source": [
        "a[(a == 0) | (a == 1)]"
      ],
      "metadata": {
        "id": "fi3K8aRTTNik",
        "outputId": "6e79dae0-4c20-4368-c418-d6ec21f5fa76",
        "colab": {
          "base_uri": "https://localhost:8080/"
        }
      },
      "execution_count": 385,
      "outputs": [
        {
          "output_type": "execute_result",
          "data": {
            "text/plain": [
              "array([0, 1])"
            ]
          },
          "metadata": {},
          "execution_count": 385
        }
      ]
    },
    {
      "cell_type": "code",
      "source": [
        "a[(a <= 2) & (a % 2 == 0)]"
      ],
      "metadata": {
        "id": "MOpJZgV1TVhM",
        "outputId": "a54ace1f-5a4d-4ba6-9804-f961f82ec31a",
        "colab": {
          "base_uri": "https://localhost:8080/"
        }
      },
      "execution_count": 386,
      "outputs": [
        {
          "output_type": "execute_result",
          "data": {
            "text/plain": [
              "array([0, 2])"
            ]
          },
          "metadata": {},
          "execution_count": 386
        }
      ]
    },
    {
      "cell_type": "code",
      "source": [
        "A = np.random.randint(100, size = (3, 3))"
      ],
      "metadata": {
        "id": "RIw_pYAbTeAM"
      },
      "execution_count": 387,
      "outputs": []
    },
    {
      "cell_type": "code",
      "source": [
        "A"
      ],
      "metadata": {
        "id": "EQNyCUfCTxMU",
        "outputId": "00fcaaeb-ac29-4f7e-cf5e-efa2c29d9e6e",
        "colab": {
          "base_uri": "https://localhost:8080/"
        }
      },
      "execution_count": 388,
      "outputs": [
        {
          "output_type": "execute_result",
          "data": {
            "text/plain": [
              "array([[ 7, 24, 45],\n",
              "       [20, 86,  7],\n",
              "       [ 2, 97, 16]])"
            ]
          },
          "metadata": {},
          "execution_count": 388
        }
      ]
    },
    {
      "cell_type": "code",
      "source": [
        "A[np.array([\n",
        "    [True, False, True],\n",
        "    [False, True, False],\n",
        "    [True, False, True]\n",
        "])]"
      ],
      "metadata": {
        "id": "Ld6zJN_9Txmk",
        "outputId": "927db398-d0f3-4adc-a583-ee210bea9b77",
        "colab": {
          "base_uri": "https://localhost:8080/"
        }
      },
      "execution_count": 389,
      "outputs": [
        {
          "output_type": "execute_result",
          "data": {
            "text/plain": [
              "array([ 7, 45, 86,  2, 16])"
            ]
          },
          "metadata": {},
          "execution_count": 389
        }
      ]
    },
    {
      "cell_type": "code",
      "source": [
        "A > 30"
      ],
      "metadata": {
        "id": "RPu1bMiTT9yU",
        "outputId": "0008e1e9-50f0-4b4e-ec70-6f54b39846aa",
        "colab": {
          "base_uri": "https://localhost:8080/"
        }
      },
      "execution_count": 390,
      "outputs": [
        {
          "output_type": "execute_result",
          "data": {
            "text/plain": [
              "array([[False, False,  True],\n",
              "       [False,  True, False],\n",
              "       [False,  True, False]])"
            ]
          },
          "metadata": {},
          "execution_count": 390
        }
      ]
    },
    {
      "cell_type": "code",
      "source": [
        "A[A > 30]"
      ],
      "metadata": {
        "id": "x7_ENy5AUAWe",
        "outputId": "8db80abc-c7af-4a16-f374-0028d2d693cd",
        "colab": {
          "base_uri": "https://localhost:8080/"
        }
      },
      "execution_count": 391,
      "outputs": [
        {
          "output_type": "execute_result",
          "data": {
            "text/plain": [
              "array([45, 86, 97])"
            ]
          },
          "metadata": {},
          "execution_count": 391
        }
      ]
    },
    {
      "cell_type": "markdown",
      "source": [
        "# Linear Algebra\n",
        "----\n",
        "Below these all shows the operations using Dot Product, Transpose, Cross Product, Matrices all other stuffs.\n"
      ],
      "metadata": {
        "id": "y79hb990UhJt"
      }
    },
    {
      "cell_type": "code",
      "source": [
        "A"
      ],
      "metadata": {
        "id": "okcB5VD8UEQs",
        "outputId": "55e855d6-ff3d-4c6b-ef26-83a647c7f7bc",
        "colab": {
          "base_uri": "https://localhost:8080/"
        }
      },
      "execution_count": 392,
      "outputs": [
        {
          "output_type": "execute_result",
          "data": {
            "text/plain": [
              "array([[ 7, 24, 45],\n",
              "       [20, 86,  7],\n",
              "       [ 2, 97, 16]])"
            ]
          },
          "metadata": {},
          "execution_count": 392
        }
      ]
    },
    {
      "cell_type": "code",
      "source": [
        "B = np.array([\n",
        "    [6,5],\n",
        "    [4,3],\n",
        "    [2,1]\n",
        "])"
      ],
      "metadata": {
        "id": "IlD2pS4eUk58"
      },
      "execution_count": 393,
      "outputs": []
    },
    {
      "cell_type": "code",
      "source": [
        "B"
      ],
      "metadata": {
        "id": "axiJmFVbUmCs",
        "outputId": "c6f36712-3954-403e-a134-e44c9fe34cb5",
        "colab": {
          "base_uri": "https://localhost:8080/"
        }
      },
      "execution_count": 394,
      "outputs": [
        {
          "output_type": "execute_result",
          "data": {
            "text/plain": [
              "array([[6, 5],\n",
              "       [4, 3],\n",
              "       [2, 1]])"
            ]
          },
          "metadata": {},
          "execution_count": 394
        }
      ]
    },
    {
      "cell_type": "code",
      "source": [
        "A.dot(B)\n",
        "#"
      ],
      "metadata": {
        "id": "Ee7WnoVuUubF",
        "outputId": "b13edaa9-0f10-4e00-efbf-944a90aa1add",
        "colab": {
          "base_uri": "https://localhost:8080/"
        }
      },
      "execution_count": 395,
      "outputs": [
        {
          "output_type": "execute_result",
          "data": {
            "text/plain": [
              "array([[228, 152],\n",
              "       [478, 365],\n",
              "       [432, 317]])"
            ]
          },
          "metadata": {},
          "execution_count": 395
        }
      ]
    },
    {
      "cell_type": "code",
      "source": [
        "A @ B"
      ],
      "metadata": {
        "id": "lbtHqF0iUwr0",
        "outputId": "82ea6cf7-bb5c-45f8-9246-b34d98f8704f",
        "colab": {
          "base_uri": "https://localhost:8080/"
        }
      },
      "execution_count": 396,
      "outputs": [
        {
          "output_type": "execute_result",
          "data": {
            "text/plain": [
              "array([[228, 152],\n",
              "       [478, 365],\n",
              "       [432, 317]])"
            ]
          },
          "metadata": {},
          "execution_count": 396
        }
      ]
    },
    {
      "cell_type": "code",
      "source": [
        "B.T"
      ],
      "metadata": {
        "id": "R_6AUx6IUzn7",
        "outputId": "0c95cc00-e2fc-42f8-c961-0fee63ce0f1f",
        "colab": {
          "base_uri": "https://localhost:8080/"
        }
      },
      "execution_count": 397,
      "outputs": [
        {
          "output_type": "execute_result",
          "data": {
            "text/plain": [
              "array([[6, 4, 2],\n",
              "       [5, 3, 1]])"
            ]
          },
          "metadata": {},
          "execution_count": 397
        }
      ]
    },
    {
      "cell_type": "code",
      "source": [
        "A"
      ],
      "metadata": {
        "id": "8Jb8onC3U1C8",
        "outputId": "8751006c-93d0-478e-ec19-842edb5b389c",
        "colab": {
          "base_uri": "https://localhost:8080/"
        }
      },
      "execution_count": 398,
      "outputs": [
        {
          "output_type": "execute_result",
          "data": {
            "text/plain": [
              "array([[ 7, 24, 45],\n",
              "       [20, 86,  7],\n",
              "       [ 2, 97, 16]])"
            ]
          },
          "metadata": {},
          "execution_count": 398
        }
      ]
    },
    {
      "cell_type": "code",
      "source": [
        "B.T @ A"
      ],
      "metadata": {
        "id": "GhUVP-SeU2C0",
        "outputId": "4b606434-8d62-4cc4-9436-30351119a044",
        "colab": {
          "base_uri": "https://localhost:8080/"
        }
      },
      "execution_count": 399,
      "outputs": [
        {
          "output_type": "execute_result",
          "data": {
            "text/plain": [
              "array([[126, 682, 330],\n",
              "       [ 97, 475, 262]])"
            ]
          },
          "metadata": {},
          "execution_count": 399
        }
      ]
    },
    {
      "cell_type": "markdown",
      "source": [
        "# Size of Objects in Memory\n",
        "---\n",
        "## Int, Floats"
      ],
      "metadata": {
        "id": "8ny4W7NlVbul"
      }
    },
    {
      "cell_type": "code",
      "source": [
        "# An Integer in Python is > 24 Bytes\n",
        "sys.getsizeof(1)"
      ],
      "metadata": {
        "id": "CWTkfnNLU58c",
        "outputId": "1973c7bc-624b-48a0-b10d-9fabf05aa834",
        "colab": {
          "base_uri": "https://localhost:8080/"
        }
      },
      "execution_count": 400,
      "outputs": [
        {
          "output_type": "execute_result",
          "data": {
            "text/plain": [
              "28"
            ]
          },
          "metadata": {},
          "execution_count": 400
        }
      ]
    },
    {
      "cell_type": "code",
      "source": [
        "# Longs are even larger\n",
        "sys.getsizeof(10**100)"
      ],
      "metadata": {
        "id": "0EYhJgbaV0Ds",
        "outputId": "3679289d-8e44-416a-ef9f-d36b8b618ff2",
        "colab": {
          "base_uri": "https://localhost:8080/"
        }
      },
      "execution_count": 401,
      "outputs": [
        {
          "output_type": "execute_result",
          "data": {
            "text/plain": [
              "72"
            ]
          },
          "metadata": {},
          "execution_count": 401
        }
      ]
    },
    {
      "cell_type": "code",
      "source": [
        "# Numpy size is much smaller\n",
        "np.dtype(int).itemsize"
      ],
      "metadata": {
        "id": "ACxqgh1xWNzs",
        "outputId": "c33f3e36-df39-498b-e3b9-c994de7fcece",
        "colab": {
          "base_uri": "https://localhost:8080/"
        }
      },
      "execution_count": 402,
      "outputs": [
        {
          "output_type": "execute_result",
          "data": {
            "text/plain": [
              "8"
            ]
          },
          "metadata": {},
          "execution_count": 402
        }
      ]
    },
    {
      "cell_type": "code",
      "source": [
        "# Numpy is much smaller\n",
        "np.dtype(np.int8).itemsize"
      ],
      "metadata": {
        "id": "5So89FfUWVTE",
        "outputId": "e932f726-bc85-4455-9acc-e4602837f5f7",
        "colab": {
          "base_uri": "https://localhost:8080/"
        }
      },
      "execution_count": 403,
      "outputs": [
        {
          "output_type": "execute_result",
          "data": {
            "text/plain": [
              "1"
            ]
          },
          "metadata": {},
          "execution_count": 403
        }
      ]
    },
    {
      "cell_type": "code",
      "source": [
        "np.dtype(float).itemsize"
      ],
      "metadata": {
        "id": "fgEIXHkLWhHU",
        "outputId": "85060732-2d6b-4843-caae-b7f501a1feb9",
        "colab": {
          "base_uri": "https://localhost:8080/"
        }
      },
      "execution_count": 404,
      "outputs": [
        {
          "output_type": "execute_result",
          "data": {
            "text/plain": [
              "8"
            ]
          },
          "metadata": {},
          "execution_count": 404
        }
      ]
    },
    {
      "cell_type": "markdown",
      "source": [
        "# Lists are even larger"
      ],
      "metadata": {
        "id": "2srFlrYeWkzd"
      }
    },
    {
      "cell_type": "code",
      "source": [
        "# A one - element list\n",
        "sys.getsizeof([1])"
      ],
      "metadata": {
        "id": "KxMYDEYAWjPc",
        "outputId": "c7e5a72b-327c-4753-ae16-1aae528498a5",
        "colab": {
          "base_uri": "https://localhost:8080/"
        }
      },
      "execution_count": 405,
      "outputs": [
        {
          "output_type": "execute_result",
          "data": {
            "text/plain": [
              "64"
            ]
          },
          "metadata": {},
          "execution_count": 405
        }
      ]
    },
    {
      "cell_type": "code",
      "source": [
        "# An array of one element in numpy\n",
        "np.array([1]).nbytes"
      ],
      "metadata": {
        "id": "DTwdqQu2WuY8",
        "outputId": "8c1bd9e7-f88b-4abb-fefe-20d3273d5cbf",
        "colab": {
          "base_uri": "https://localhost:8080/"
        }
      },
      "execution_count": 406,
      "outputs": [
        {
          "output_type": "execute_result",
          "data": {
            "text/plain": [
              "8"
            ]
          },
          "metadata": {},
          "execution_count": 406
        }
      ]
    },
    {
      "cell_type": "markdown",
      "source": [
        "# And the Performance is also important"
      ],
      "metadata": {
        "id": "AkSH14mEW2WM"
      }
    },
    {
      "cell_type": "code",
      "source": [
        "l = list(range(10000))"
      ],
      "metadata": {
        "id": "bhODFn0BW0k0"
      },
      "execution_count": 407,
      "outputs": []
    },
    {
      "cell_type": "code",
      "source": [
        "a = np.arange(10000)"
      ],
      "metadata": {
        "id": "YjgyQXJ-W-JE"
      },
      "execution_count": 408,
      "outputs": []
    },
    {
      "cell_type": "code",
      "source": [
        "%time np.sum(a ** 2)"
      ],
      "metadata": {
        "id": "JOktlZ7AXC4s",
        "outputId": "c455fe09-9907-4a75-b09c-7e925b619c2a",
        "colab": {
          "base_uri": "https://localhost:8080/"
        }
      },
      "execution_count": 409,
      "outputs": [
        {
          "output_type": "stream",
          "name": "stdout",
          "text": [
            "CPU times: user 313 µs, sys: 0 ns, total: 313 µs\n",
            "Wall time: 276 µs\n"
          ]
        },
        {
          "output_type": "execute_result",
          "data": {
            "text/plain": [
              "np.int64(333283335000)"
            ]
          },
          "metadata": {},
          "execution_count": 409
        }
      ]
    },
    {
      "cell_type": "code",
      "source": [
        "%time sum([x ** 2 for x in l])"
      ],
      "metadata": {
        "id": "4iEapXNiXHcc",
        "outputId": "aafe271f-d824-4d8a-d31d-1dad1905b600",
        "colab": {
          "base_uri": "https://localhost:8080/"
        }
      },
      "execution_count": 410,
      "outputs": [
        {
          "output_type": "stream",
          "name": "stdout",
          "text": [
            "CPU times: user 1.32 ms, sys: 31 µs, total: 1.35 ms\n",
            "Wall time: 1.36 ms\n"
          ]
        },
        {
          "output_type": "execute_result",
          "data": {
            "text/plain": [
              "333283335000"
            ]
          },
          "metadata": {},
          "execution_count": 410
        }
      ]
    },
    {
      "cell_type": "markdown",
      "source": [
        "# Useful Numpy Functions\n"
      ],
      "metadata": {
        "id": "1-ovhX_SXTAG"
      }
    },
    {
      "cell_type": "code",
      "source": [
        "#Random\n",
        "np.random.random(size=2)\n",
        "np.random.normal(size=2)\n",
        "np.randam.rand(2, 4)"
      ],
      "metadata": {
        "id": "mkLilKuDXQAM",
        "outputId": "0595d508-f5c0-47a4-b557-876c2f04cbc0",
        "colab": {
          "base_uri": "https://localhost:8080/"
        }
      },
      "execution_count": 417,
      "outputs": [
        {
          "output_type": "execute_result",
          "data": {
            "text/plain": [
              "array([0.78132827, 0.16675426])"
            ]
          },
          "metadata": {},
          "execution_count": 417
        }
      ]
    },
    {
      "cell_type": "code",
      "source": [
        "# Arange\n",
        "np.arnage(10)\n",
        "np.arange(5, 10)\n",
        "np.arange(0, 1, -1)"
      ],
      "metadata": {
        "id": "zbljSmFmmQZ-"
      },
      "execution_count": null,
      "outputs": []
    },
    {
      "cell_type": "code",
      "source": [
        "# Reshape\n",
        "np.arange(10).reshape(2, 5)\n",
        "np.arange(10).reshape(5, 2)"
      ],
      "metadata": {
        "id": "q56BCPCZmtuu"
      },
      "execution_count": null,
      "outputs": []
    },
    {
      "cell_type": "code",
      "source": [
        "# Linspace\n",
        "np.linspace(0, 1, 5)\n",
        "np.linspace(0, 1, 20)\n",
        "np.linspace(0, 1, 20, False)"
      ],
      "metadata": {
        "id": "cIFrtwfUmv0u"
      },
      "execution_count": null,
      "outputs": []
    },
    {
      "cell_type": "code",
      "source": [
        "# Zero's, Ones, Empty\n",
        "np.zeros(5)\n",
        "np.zeros((3, 3))\n",
        "np.zeros((3, 3), dtype = np.int)\n",
        "np.ones(5)\n",
        "np.ones((3, 3))\n",
        "np.empty(5)\n",
        "np.empy(2, 2)"
      ],
      "metadata": {
        "id": "7UCmnRPCmyZ9"
      },
      "execution_count": null,
      "outputs": []
    },
    {
      "cell_type": "code",
      "source": [
        "# Identity and Eye\n",
        "np.identity(4)\n",
        "np.eye(3, 3)\n",
        "np.eye(8, 4)\n",
        "np.eye(8, 4, k=1)\n",
        "np.eye(8, 4, k==3)\n",
        "\"Hello World\" [6]"
      ],
      "metadata": {
        "id": "SCVmoeY_n1R3"
      },
      "execution_count": null,
      "outputs": []
    }
  ],
  "metadata": {
    "colab": {
      "name": "Welcome To Colab",
      "provenance": [],
      "include_colab_link": true
    },
    "kernelspec": {
      "display_name": "Python 3",
      "name": "python3"
    }
  },
  "nbformat": 4,
  "nbformat_minor": 0
}